{
  "nbformat": 4,
  "nbformat_minor": 0,
  "metadata": {
    "colab": {
      "provenance": []
    },
    "kernelspec": {
      "name": "python3",
      "display_name": "Python 3"
    },
    "language_info": {
      "name": "python"
    },
    "accelerator": "GPU",
    "gpuClass": "standard"
  },
  "cells": [
    {
      "cell_type": "markdown",
      "source": [
        "# Speech Recognition with Conformers"
      ],
      "metadata": {
        "id": "YDfNeujMPJin"
      }
    },
    {
      "cell_type": "markdown",
      "source": [
        "In this homework problem, we will train a Conformer on the SpeechCommand dataset to perfrom ASR (automated speech recognition) and understand how it works by running various ablation studies on the architecture. The original paper is titled \"Conformer: Convolution-augmented Transformer for Speech Recognition\" and can be found here: https://arxiv.org/pdf/2005.08100.pdf. The setup was mostly adapted from this PyTorch tutorial on how to train a model using torchaudio: <br>\n",
        "https://colab.research.google.com/github/pytorch/tutorials/blob/gh-pages/_downloads/63ef278c9730746362d08162a440df77/speech_command_classification_with_torchaudio_tutorial.ipynb#scrollTo=ym0Ld-JqJeM_"
      ],
      "metadata": {
        "id": "VnckfuzaNYCk"
      }
    },
    {
      "cell_type": "markdown",
      "source": [
        "# Setup"
      ],
      "metadata": {
        "id": "nb0IwMrPqohw"
      }
    },
    {
      "cell_type": "markdown",
      "source": [
        "First we import any neccessary libraries, including the torchaudio library which is useful for audio-related deep learning tasks"
      ],
      "metadata": {
        "id": "gkRdZX9WPTiM"
      }
    },
    {
      "cell_type": "code",
      "execution_count": null,
      "metadata": {
        "id": "dvbqvAwIqQcl"
      },
      "outputs": [],
      "source": [
        "import torch\n",
        "import torch.nn as nn\n",
        "import torch.nn.functional as F\n",
        "import torch.optim as optim\n",
        "import torchaudio\n",
        "import sys\n",
        "\n",
        "import matplotlib.pyplot as plt\n",
        "import IPython.display as ipd"
      ]
    },
    {
      "cell_type": "markdown",
      "source": [
        "Check if a CoLab GPU is available and use it if so. This will make training the model much faster. If GPU is not enabled, please go to \"Runtime -> Change Runtime Type -> GPU\" to enable a GPU"
      ],
      "metadata": {
        "id": "iWfHHngpPY1t"
      }
    },
    {
      "cell_type": "code",
      "source": [
        "device = torch.device(\"cuda\" if torch.cuda.is_available() else \"cpu\")\n",
        "print(device)"
      ],
      "metadata": {
        "id": "HShx1Jo1qwAv"
      },
      "execution_count": null,
      "outputs": []
    },
    {
      "cell_type": "markdown",
      "source": [
        "We import the SpeechCommands dataset using torchaudio. This is a dataset of 35 commands spoken by different people, with each audio file around 1 second long. We create a subclass to split the data into training, validation, and testing sets and torchaudio automatically converts the data into tensors"
      ],
      "metadata": {
        "id": "kF-ZJMhlP1C4"
      }
    },
    {
      "cell_type": "code",
      "source": [
        "from torchaudio.datasets import SPEECHCOMMANDS\n",
        "import os\n",
        "\n",
        "\n",
        "class SubsetSC(SPEECHCOMMANDS):\n",
        "    def __init__(self, subset: str = None):\n",
        "        super().__init__(\"./\", download=True)\n",
        "\n",
        "        def load_list(filename):\n",
        "            filepath = os.path.join(self._path, filename)\n",
        "            with open(filepath) as fileobj:\n",
        "                return [os.path.normpath(os.path.join(self._path, line.strip())) for line in fileobj]\n",
        "\n",
        "        if subset == \"validation\":\n",
        "            self._walker = load_list(\"validation_list.txt\")\n",
        "        elif subset == \"testing\":\n",
        "            self._walker = load_list(\"testing_list.txt\")\n",
        "        elif subset == \"training\":\n",
        "            excludes = load_list(\"validation_list.txt\") + load_list(\"testing_list.txt\")\n",
        "            excludes = set(excludes)\n",
        "            self._walker = [w for w in self._walker if w not in excludes]\n",
        "\n",
        "\n",
        "# Create training and testing split of the data. We do not use validation\n",
        "train_set = SubsetSC(\"training\")\n",
        "test_set = SubsetSC(\"testing\")"
      ],
      "metadata": {
        "id": "XOkhVEkm7Z1o"
      },
      "execution_count": null,
      "outputs": []
    },
    {
      "cell_type": "markdown",
      "source": [
        "Let's take a look at the data. Each point in the dataset is a tuple consisting of\n",
        "\n",
        "\n",
        "*   Waveform (Shape [1, N] where N is the signal value)\n",
        "*   Sample rate (int)\n",
        "*   Label (str, the command being spoken)\n",
        "*   Speaker ID (str)\n",
        "*   Utterance number (int)\n",
        "\n",
        "We plot the waveform for the first tuple below, notice that it looks like an audio signal of someone speaking a single word"
      ],
      "metadata": {
        "id": "G56DMDB1QaIS"
      }
    },
    {
      "cell_type": "code",
      "source": [
        "waveform, sample_rate, label, speaker_id, utterance_number = train_set[0]\n",
        "print(\"Shape of waveform: {}\".format(waveform.size()))\n",
        "print(\"Sample rate of waveform: {}\".format(sample_rate))\n",
        "\n",
        "plt.plot(waveform.t().numpy());"
      ],
      "metadata": {
        "id": "rEvJbg2d8DN9"
      },
      "execution_count": null,
      "outputs": []
    },
    {
      "cell_type": "markdown",
      "source": [
        "Here's a list of all the labels (i.e. commands) that are spoken in the dataset"
      ],
      "metadata": {
        "id": "Xb6Mq6VSRrUq"
      }
    },
    {
      "cell_type": "code",
      "source": [
        "labels = sorted(list(set(datapoint[2] for datapoint in train_set)))\n",
        "labels"
      ],
      "metadata": {
        "id": "98JDJDet7pEL"
      },
      "execution_count": null,
      "outputs": []
    },
    {
      "cell_type": "markdown",
      "source": [
        "Listen to the first and last audio signals. It should sound like someone saying the words \"Marvin\" and \"Visual\""
      ],
      "metadata": {
        "id": "aKD9nzHaR6hD"
      }
    },
    {
      "cell_type": "code",
      "source": [
        "waveform_first, *_ = train_set[0]\n",
        "ipd.Audio(waveform_first.numpy(), rate=sample_rate)"
      ],
      "metadata": {
        "id": "eaOmmolA7t_5"
      },
      "execution_count": null,
      "outputs": []
    },
    {
      "cell_type": "code",
      "source": [
        "waveform_second, *_ = train_set[-1]\n",
        "ipd.Audio(waveform_second.numpy(), rate=sample_rate)"
      ],
      "metadata": {
        "id": "us5CkhniF0aC"
      },
      "execution_count": null,
      "outputs": []
    },
    {
      "cell_type": "markdown",
      "source": [
        "Now we format the data to be used in training our conformer.  For the waveform, we downsample the audio for faster processing. We also use the sorted list of labels we constructed earlier to index each label, i.e. encoding it as an int"
      ],
      "metadata": {
        "id": "LrwfeqZ7SRry"
      }
    },
    {
      "cell_type": "code",
      "source": [
        "new_sample_rate = 8000\n",
        "transform = torchaudio.transforms.Resample(orig_freq=sample_rate, new_freq=new_sample_rate)\n",
        "transformed = transform(waveform)\n",
        "\n",
        "ipd.Audio(transformed.numpy(), rate=new_sample_rate)"
      ],
      "metadata": {
        "id": "IGXpwV2FOnNK"
      },
      "execution_count": null,
      "outputs": []
    },
    {
      "cell_type": "code",
      "source": [
        "def label_to_index(word):\n",
        "    # Return the position of the word in labels\n",
        "    return torch.tensor(labels.index(word))\n",
        "\n",
        "\n",
        "def index_to_label(index):\n",
        "    # Return the word corresponding to the index in labels\n",
        "    # This is the inverse of label_to_index\n",
        "    return labels[index]\n",
        "\n",
        "\n",
        "word_start = \"yes\"\n",
        "index = label_to_index(word_start)\n",
        "word_recovered = index_to_label(index)\n",
        "\n",
        "print(word_start, \"-->\", index, \"-->\", word_recovered)"
      ],
      "metadata": {
        "id": "tsr7UGfo8MH6"
      },
      "execution_count": null,
      "outputs": []
    },
    {
      "cell_type": "code",
      "source": [
        "for i in range(20):\n",
        "  print(\"Shape of waveform #\" + str(len(train_set)-i) + \": \" + str(train_set[-i][0].shape))"
      ],
      "metadata": {
        "id": "ETpFILlyTKIB"
      },
      "execution_count": null,
      "outputs": []
    },
    {
      "cell_type": "markdown",
      "source": [
        "Now, notice that the shapes of some of our waveforms are different across our dataset. We need to pad the waveforms with zeros until all of them have the same length. We use PyTorch's rnn.pad_sequence method to do the padding."
      ],
      "metadata": {
        "id": "Q3Mc_wTeTFEA"
      }
    },
    {
      "cell_type": "markdown",
      "source": [
        "Now comes a bit of signal processing technical details. We transform the waveforms into a Mel Spectrogram. What does this mean? Read this article if you want the details: https://medium.com/analytics-vidhya/understanding-the-mel-spectrogram-fca2afa2ce53 but essentially it involves mapping the audio signal from the time domain to the frequency domain using FFT (fast fourier transform) then mapping these frequencies onto the Mel Scale to form a spectrogram. The Mel Scale is the result of some non-linear transformation to the frequency scale that is differentiable by the human ear. Sounds of equal distance on the Mel Scale \"sound\" to humans like they are of equal distance.\n",
        "\n",
        "We kill two birds with one stone using the collate_fn function, which is explained here: https://pytorch.org/docs/stable/data.html#working-with-collate-fn. collate_fn is passed as an argument to dataloader which converts the dataset into an iterable. collate_fn allows us to modify the data before it is returned from the iterator, so we can perform the Mel transformation and padding in one go"
      ],
      "metadata": {
        "id": "Se1_hpW1VjId"
      }
    },
    {
      "cell_type": "code",
      "source": [
        "def pad_sequence(batch):\n",
        "    # Make all tensor in a batch the same length by padding with zeros\n",
        "    #batch = [item.t() for item in batch]\n",
        "    batch = torch.nn.utils.rnn.pad_sequence(batch, batch_first=True, padding_value=0.)\n",
        "    #return batch.permute(0, 2, 1)\n",
        "    return batch\n",
        "\n",
        "\n",
        "def collate_fn(batch):\n",
        "    # Function to transform waveform into mel spectrogram\n",
        "    transform = torchaudio.transforms.MelSpectrogram(sample_rate=8000,n_mels=80)\n",
        "    # A data tuple has the form:\n",
        "    # waveform, sample_rate, label, speaker_id, utterance_number\n",
        "\n",
        "    tensors, targets = [], []\n",
        "\n",
        "    # Gather in lists, and encode labels as indices, store pre-padded sequence lengths\n",
        "    tensorLengths = []\n",
        "    for waveform, _, label, *_ in batch:\n",
        "        waveform = torch.t(transform(waveform)[0])\n",
        "        tensorLengths += [waveform.shape[0]]\n",
        "        tensors += [waveform]\n",
        "        targets += [label_to_index(label)]\n",
        "\n",
        "    # Group the list of tensors into a batched tensor\n",
        "    tensors = pad_sequence(tensors)\n",
        "\n",
        "    targets = torch.stack(targets)\n",
        "\n",
        "    return tensors, torch.LongTensor(tensorLengths), targets\n",
        "\n",
        "\n",
        "batch_size = 32\n",
        "\n",
        "if device == \"cuda\":\n",
        "    num_workers = 1\n",
        "    pin_memory = True\n",
        "else:\n",
        "    num_workers = 0\n",
        "    pin_memory = False\n",
        "\n",
        "train_loader = torch.utils.data.DataLoader(\n",
        "    train_set,\n",
        "    batch_size=batch_size,\n",
        "    shuffle=True,\n",
        "    collate_fn=collate_fn,\n",
        "    num_workers=num_workers,\n",
        "    pin_memory=pin_memory,\n",
        ")\n",
        "test_loader = torch.utils.data.DataLoader(\n",
        "    test_set,\n",
        "    batch_size=batch_size,\n",
        "    shuffle=False,\n",
        "    drop_last=False,\n",
        "    collate_fn=collate_fn,\n",
        "    num_workers=num_workers,\n",
        "    pin_memory=pin_memory,\n",
        ")"
      ],
      "metadata": {
        "id": "wY1zVqX98QUb"
      },
      "execution_count": null,
      "outputs": []
    },
    {
      "cell_type": "markdown",
      "source": [
        "# Training the Conformer"
      ],
      "metadata": {
        "id": "pU07wporpODl"
      }
    },
    {
      "cell_type": "markdown",
      "source": [
        "Now we train the conformer on the formatted SpeechCommand dataset. We\n",
        "import the Conformers model from torchaudio and initialize the model. We use the Adam optimizer with NLLLoss (negative log likelihood loss). The model outputs the log probabilities for each class in a tensor of shape [batch_size, num_classes]"
      ],
      "metadata": {
        "id": "xoSy73O5pScp"
      }
    },
    {
      "cell_type": "code",
      "source": [
        "from torch.optim import Adam\n",
        "\n",
        "############### TODO ###################\n",
        "# Experiment with the hyperparameters\n",
        "num_heads = 4\n",
        "num_encoder_layers = 5\n",
        "depthwise_conv_kernel_size = 11\n",
        "\n",
        "######################################\n",
        "\n",
        "# Define the model \n",
        "class ConformerNet(nn.Module):\n",
        "  def __init__(self,num_classes, input_dim, encoder_dim, encoder_layers, heads, kernel_size, convolution_first):\n",
        "    super().__init__()\n",
        "    self.encoder = torchaudio.models.Conformer(input_dim=input_dim, num_heads=heads, ffn_dim=encoder_dim, num_layers=encoder_layers, depthwise_conv_kernel_size=kernel_size, convolution_first=convolution_first)\n",
        "    self.fcDec = nn.LSTM(80, 81, 1, proj_size=35)\n",
        "\n",
        "\n",
        "  def forward(self, inputs, input_lengths):\n",
        "    encoder_outputs, encoder_output_lengths = self.encoder(inputs, input_lengths)\n",
        "    outputs = encoder_outputs.permute(1,0,2)\n",
        "    outputs = self.fcDec(outputs)[1][0][0]\n",
        "    outputs = nn.functional.log_softmax(outputs, dim=-1)\n",
        "\n",
        "    return outputs, encoder_output_lengths\n",
        "\n",
        "model = ConformerNet(num_classes=len(labels), input_dim=80,encoder_dim=128,encoder_layers=num_encoder_layers, heads=num_heads, kernel_size=depthwise_conv_kernel_size, convolution_first=False).to(device)\n",
        "\n",
        "# Define optimizer and scheduler\n",
        "optimizer = optim.Adam(model.parameters(), lr=0.01, weight_decay=0.0001)\n",
        "scheduler = optim.lr_scheduler.StepLR(optimizer, step_size=20, gamma=0.1)  # reduce the learning after 20 epochs by a factor of 10\n",
        "\n",
        "# Define the loss function\n",
        "loss_fn = nn.NLLLoss()"
      ],
      "metadata": {
        "id": "StIRDei_8TkU"
      },
      "execution_count": null,
      "outputs": []
    },
    {
      "cell_type": "code",
      "source": [
        "def train(model, num_epochs, interval):\n",
        "  loss_epochs = []\n",
        "  for epoch in range(1, num_epochs+1):\n",
        "    losses = []\n",
        "    for batch_idx, (input, inputLengths, targets) in enumerate(train_loader):\n",
        "        input = input.to(device)\n",
        "        inputLengths = inputLengths.to(device)\n",
        "        targets = targets.to(device)\n",
        "\n",
        "        # model takes in input of shape [batch_size, padded_seq_length, input_dim] and inputLengths of shape [batch_size]\n",
        "        outputs, outputLengths = model(input, inputLengths)\n",
        "\n",
        "        #NLLLoss\n",
        "        loss = loss_fn(outputs, targets)\n",
        "\n",
        "        optimizer.zero_grad()\n",
        "        loss.backward()\n",
        "        optimizer.step()\n",
        "        scheduler.step()\n",
        "\n",
        "        # print training stats\n",
        "        if batch_idx % interval == 0:\n",
        "            print(f\"Train Epoch: {epoch} [{batch_idx * len(input)}/{len(train_loader.dataset)} ({100. * batch_idx / len(train_loader):.0f}%)]\\tLoss: {loss.item():.6f}\")\n",
        "\n",
        "        losses.append(loss.item())\n",
        "    loss_epochs.append(losses)\n",
        "  return loss_epochs   \n",
        "\n",
        "def number_of_correct(pred, target):\n",
        "    # count number of correct predictions\n",
        "    return pred.squeeze().eq(target).sum().item()\n",
        "\n",
        "\n",
        "def predict(tensor):\n",
        "    # find most likely label index for each element in the batch\n",
        "    return tensor.argmax(dim=-1)\n",
        "\n",
        "def test(model, epoch):\n",
        "    model.eval()\n",
        "    num_correct = 0\n",
        "    accuracy = []\n",
        "    num_done = 0\n",
        "    with torch.no_grad():\n",
        "      for input, inputLengths, target in test_loader:\n",
        "\n",
        "          data = input.to(device)\n",
        "          dataLengths = inputLengths.to(device)\n",
        "          target = target.to(device)\n",
        "\n",
        "          output, outputLengths = model(data, dataLengths)\n",
        "\n",
        "          pred = predict(output)\n",
        "          num_correct += number_of_correct(pred, target)\n",
        "          num_done += 1\n",
        "          accuracy.append(num_correct/num_done)\n",
        "\n",
        "      print(f\"\\nTest Epoch: {epoch}\\tAccuracy: {num_correct}/{len(test_loader.dataset)} ({100. * num_correct / len(test_loader.dataset):.0f}%)\\n\") \n",
        "\n",
        "    return accuracy         "
      ],
      "metadata": {
        "id": "gbm7MK6Ryls3"
      },
      "execution_count": null,
      "outputs": []
    },
    {
      "cell_type": "markdown",
      "source": [
        "Run the cell below to train the Conformer. It should take about 3 minutes to finish. We store the losses for each batch and epoch and plot them below. "
      ],
      "metadata": {
        "id": "Y1csYPHSJNQZ"
      }
    },
    {
      "cell_type": "code",
      "source": [
        "n_epochs = 1\n",
        "interval = 40\n",
        "loss_epochs = train(model, n_epochs, interval)"
      ],
      "metadata": {
        "id": "kn_EX6BA0FC8"
      },
      "execution_count": null,
      "outputs": []
    },
    {
      "cell_type": "code",
      "source": [
        "for i in range(0, n_epochs):\n",
        "  plt.plot(loss_epochs[i])\n",
        "  plt.title(\"Epoch \" + str(i+1))\n",
        "  plt.ylabel(\"Training Loss\")\n",
        "  plt.xlabel(\"Batch Number\")\n",
        "  plt.show()"
      ],
      "metadata": {
        "id": "iujGCf1HEjlk"
      },
      "execution_count": null,
      "outputs": []
    },
    {
      "cell_type": "code",
      "source": [
        "accuracy = test(model, n_epochs)\n",
        "for i in range(0, n_epochs):\n",
        "  plt.plot(accuracy)\n",
        "  plt.title(\"Epoch \" + str(i+1))\n",
        "  plt.ylabel(\"Testing Accuracy\")\n",
        "  plt.xlabel(\"Batch Number\")\n",
        "  plt.show()"
      ],
      "metadata": {
        "id": "vq2LBtinK4On"
      },
      "execution_count": null,
      "outputs": []
    },
    {
      "cell_type": "markdown",
      "source": [
        "**Answer the questions below and submit your answers with the written portion of the homework**"
      ],
      "metadata": {
        "id": "5-J2rzhxKUa_"
      }
    },
    {
      "cell_type": "markdown",
      "source": [
        "## Question 1"
      ],
      "metadata": {
        "id": "o4RCSGkiyTM5"
      }
    },
    {
      "cell_type": "markdown",
      "source": [
        "(a) Experiment with the parameters used to create the Conformer encoder:\n",
        "*   encoder_dim\n",
        "*   num_encoder_layers\n",
        "*   depthwise_conv_kernel_size\n",
        "\n",
        "**In general, does increasing any of the parameters give better performance?**\n",
        "\n",
        "(b) Notice that the model takes in an argument called \"input_lengths,\" which contains the lengths of the non-padded sequences for elements in the batch. Why does the conformer encoder need this information? Which part of the pipeline is this most important for?\n",
        "\n",
        "\n",
        "(c) What does the decoder consist of for this model? What is contained in the final outputs of the model? *Hint: Look at what additional layers are defined in the conformer model after the encoder*\n",
        "\n",
        "\n"
      ],
      "metadata": {
        "id": "zeOF7eYNKz7K"
      }
    },
    {
      "cell_type": "markdown",
      "source": [
        "# Ablation Studies"
      ],
      "metadata": {
        "id": "rqQD8auDzWXV"
      }
    },
    {
      "cell_type": "markdown",
      "source": [
        "We will now perform two ablation studies on the Conformer model. Ablation involves tampering with a single part of the architecture to see how it influences the model as a whole. This helps us understand the contribution of that part to the model. In the following problems, we will tamper with the number of heads in the attention layers and the order of the convolution and attention modules\n"
      ],
      "metadata": {
        "id": "6AdRAHuDzaEN"
      }
    },
    {
      "cell_type": "markdown",
      "source": [
        "<img src=\"https://user-images.githubusercontent.com/42150335/105602364-aeafad80-5dd8-11eb-8886-b75e2d9d31f4.png\" alt=\"Drawing\" width=\"500\" height=\"500\"/>"
      ],
      "metadata": {
        "id": "NqRKXU4C2vAH"
      }
    },
    {
      "cell_type": "markdown",
      "source": [
        "## Question 2"
      ],
      "metadata": {
        "id": "8ruTBX6d7-Wy"
      }
    },
    {
      "cell_type": "markdown",
      "source": [
        "Recall the conformer block archietecture shown above. The multi-head self attention module (MHSA) helps the model capture long-term dependencies. The torchaudio.models implementation of the Conformer encoder has a parameter \"num_heads\" which controls how many heads are in the MHSA module"
      ],
      "metadata": {
        "id": "5uXtCyyX3rVx"
      }
    },
    {
      "cell_type": "code",
      "source": [
        "heads = [1,5,10]\n",
        "models = [ConformerNet(num_classes=len(labels), input_dim=80,encoder_dim=32,encoder_layers=5, heads=i,kernel_size=11, convolution_first=False).to(device) for i in heads]"
      ],
      "metadata": {
        "id": "jsXJrjX1zZUD"
      },
      "execution_count": null,
      "outputs": []
    },
    {
      "cell_type": "markdown",
      "source": [
        "Run the code below to train and test conformer models with various heads and look at the plots to see how the losses and testing accuracies change with the number of heads"
      ],
      "metadata": {
        "id": "xU-xlWtZ5Bfw"
      }
    },
    {
      "cell_type": "code",
      "source": [
        "n_epochs = 1\n",
        "interval = 40\n",
        "losses = []\n",
        "accuracies = []\n",
        "for i in range(len(models)):\n",
        "  model = models[i]\n",
        "  print(\"\\nTraining Conformer model with \" + str(heads[i]) + \" heads\\n\")\n",
        "  losses.append(train(model, n_epochs, interval))\n",
        "  print(\"\\nTesting Conformer model with \" + str(heads[i]) + \" heads\\n\")\n",
        "  accuracies.append(test(model, n_epochs))"
      ],
      "metadata": {
        "id": "2V9YbML-4frW"
      },
      "execution_count": null,
      "outputs": []
    },
    {
      "cell_type": "code",
      "source": [
        "for i in range(0, len(losses)):\n",
        "  plt.plot(losses[i][0])\n",
        "  plt.title(\"Model with \" + str(heads[i]) + \" heads\")\n",
        "  plt.ylabel(\"Training Loss\")\n",
        "  plt.xlabel(\"Batch Number\")\n",
        "  plt.show()"
      ],
      "metadata": {
        "id": "b_vuEW5c6jKO"
      },
      "execution_count": null,
      "outputs": []
    },
    {
      "cell_type": "code",
      "source": [
        "for i in range(0, len(accuracies)):\n",
        "  plt.plot(accuracies[i])\n",
        "  plt.title(\"Model with \" + str(heads[i]) + \" heads\")\n",
        "  plt.ylabel(\"Testing Accuracy\")\n",
        "  plt.xlabel(\"Batch Number\")\n",
        "  plt.show()"
      ],
      "metadata": {
        "id": "IrhuigseTYjK"
      },
      "execution_count": null,
      "outputs": []
    },
    {
      "cell_type": "markdown",
      "source": [
        "If you're having trouble finding the differences in the plots, we have attached a figure from the Conformers paper where this ablation study on the number of heads is done on the LibriSpeech dataset. The \"dev\" dataset contains the training data and the \"test\" set is the testing dataset. The numbers in the table represent the word-error rate (WER) which is the number of errors divided by the total number of words. The lower the WER, the more accurate the model"
      ],
      "metadata": {
        "id": "UGmDeVq-pnvG"
      }
    },
    {
      "cell_type": "markdown",
      "source": [
        "![image.png](data:image/png;base64,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)"
      ],
      "metadata": {
        "id": "Vqg0pCJlVmme"
      }
    },
    {
      "cell_type": "markdown",
      "source": [
        "(a). How does increasing the number of heads in the conformer encoder influence the performance, i.e. the loss rates? Can you give an intuitive explanation as to why?\n",
        "\n",
        "(b). In language prediction, multiple heads capture different dependencies in the input text such as subject-verb relationships and pronoun references. What is the audio analog of this idea? In other words, what kind of information do the different heads capture about the audio signal?"
      ],
      "metadata": {
        "id": "7i9rQvA17_-7"
      }
    },
    {
      "cell_type": "markdown",
      "source": [
        "## Question 3"
      ],
      "metadata": {
        "id": "4PZ4pyRpEhep"
      }
    },
    {
      "cell_type": "markdown",
      "source": [
        "Now we run the ablation study switching the order of the conformer and MHSA attention modules. Again, the torchaudio implementation of the Conformer encoder takes in a parameter called \"convolution_first.\" If this argument is set to true, the convolution module will occur before the attention module. If set to false, as we have been doing so far according to the original architecture, the attention module will appear first"
      ],
      "metadata": {
        "id": "h6YPqs_J_9yY"
      }
    },
    {
      "cell_type": "code",
      "source": [
        "model_conv_first = ConformerNet(num_classes=len(labels), input_dim=80,encoder_dim=128,encoder_layers=5, heads=4, kernel_size=11, convolution_first=True).to(device)\n",
        "model_attn_first = ConformerNet(num_classes=len(labels), input_dim=80,encoder_dim=128,encoder_layers=5, heads=4, kernel_size=11, convolution_first=False).to(device)\n"
      ],
      "metadata": {
        "id": "e3APJuAm_9SU"
      },
      "execution_count": null,
      "outputs": []
    },
    {
      "cell_type": "code",
      "source": [
        "n_epochs = 1\n",
        "interval = 40\n",
        "print(\"Training the Conformer with convolution module first:\")\n",
        "loss_conv = train(model_conv_first, n_epochs, interval)\n",
        "print(\"\\nTesting the Conformer with convolution module first:\")\n",
        "accuracy_conv = test(model_conv_first, n_epochs)\n",
        "print(\"\\nTraining the Conformer with attention module first:\")\n",
        "loss_attn = train(model_attn_first, n_epochs, interval)\n",
        "print(\"\\nTesting the Conformer with attention module first:\")\n",
        "accuracy_attn = test(model_attn_first, n_epochs)"
      ],
      "metadata": {
        "id": "BYeeC9wVDf_9"
      },
      "execution_count": null,
      "outputs": []
    },
    {
      "cell_type": "code",
      "source": [
        "# Plot the losses\n",
        "plt.plot(loss_conv[0])\n",
        "plt.title(\"Model with convolution first\")\n",
        "plt.ylabel(\"Training Loss\")\n",
        "plt.xlabel(\"Batch Number\")\n",
        "plt.show()\n",
        "\n",
        "plt.plot(loss_attn[0])\n",
        "plt.title(\"Model with attention first\")\n",
        "plt.ylabel(\"Training Loss\")\n",
        "plt.xlabel(\"Batch Number\")\n",
        "plt.show()"
      ],
      "metadata": {
        "id": "9qdmb0glEiiO"
      },
      "execution_count": null,
      "outputs": []
    },
    {
      "cell_type": "code",
      "source": [
        "# Plot the testing accuracies\n",
        "plt.plot(accuracy_conv)\n",
        "plt.title(\"Model with convolution first\")\n",
        "plt.ylabel(\"Testing Accuracy\")\n",
        "plt.xlabel(\"Batch Number\")\n",
        "plt.show()\n",
        "\n",
        "plt.plot(accuracy_attn)\n",
        "plt.title(\"Model with attention first\")\n",
        "plt.ylabel(\"Testing Accuracy\")\n",
        "plt.xlabel(\"Batch Number\")\n",
        "plt.show()"
      ],
      "metadata": {
        "id": "s4ldoaqu8Kd3"
      },
      "execution_count": null,
      "outputs": []
    },
    {
      "cell_type": "markdown",
      "source": [
        "If you're having trouble finding the differences in the plots, here is a figure from the Conformers paper where this ablation study was performed. The numbers in the table are once again the WER."
      ],
      "metadata": {
        "id": "QVJ65JjLpVr5"
      }
    },
    {
      "cell_type": "markdown",
      "source": [
        "![image.png](data:image/png;base64,iVBORw0KGgoAAAANSUhEUgAAAaEAAAEJCAYAAAA955hBAAAgAElEQVR4nOx9d1hUx/v92UJRUUHFhtgBRY0B7BoEsVfsNbEbjRpbjMZEY9doEluwJdHYDcZeE6QJIogNFUFBmlKlLyss3Lvn98eiIuwCdr+fH+d5/EPu3ndm3vfMvPfOnZkjIUmUoQxlKEMZyvABIP3QFShDGcpQhjL8/4uyJFSGMpShDGX4YChLQmUoQxnKUIYPho88CeUgKTEDap3XVXiSkArhjcvJRUZKBnLf2A4AqJEWGwtF4T8LWUh8GATfc6446hdfpE3qnDQ8Cg2ExwlXeEeKr1FuDuIfRiNDt7M+SohPUxD74CYunTqMiw/ePJJakRuPayd3YeuO4whKK8FBYgZiggNxJTAEcVkigBw8evjobVYG8ddOYtfWHTgelFYMtz9eqNNiEVuE4B8C75PzIjJighF4JRAhcVkQAeQ8eohHOe+jbC1Q5yDtUSgCPU7A1TvyNY18HGPGu01CyiMY39AcVu16Y/CIEejXrjHq1LVB9xEjMXRAF9g0qo8+m8O13KhGvO9mjP20Flp846ElOeQi0nMrprSthQafH0byGzox7eI36NR5KQLeQhZSxx3C1O4L8d/Tl/6KON/dmOfcDvZ9p+BAhOHLjlen4drhhRjSrh26jtiGW1LJK5ebcmAMmllawmHp9TdswfuEEsGnlmFEh1boPORn+L2dp4CXkeaNZd3bYqq3AZIPjUHv+Reg0va7p+E4tXQYWtVrhkFrzuDmPX8cXtQbLRpbwnFF4NuqDLyXdUfbqd4wSD6EMb3n44LWynzEUMfh0NTuWPgywT8I3g/nnyL81FIMa1UPzQatwZmb9+B/eBF6t2gMS8cVCHyd58U3hhpp1w5j4ZB2aNd1BLbder1h/KMZM/gukbiDI5y3MjyPJFX0ntWYcqMhPKTUXE45O40Df7yh42YlDw2pxKpjjjFb6/Ucuk01ZzknF8aLr19FMekMv+9sznIWs3lJ9fp2NMYS+M/n5pTpteLyu0Kha4+5pYsBJeW68rfHWiqcfoCDK0uoZ7eMd/JKU1g6L68cw8UeOSRJ1e3t/KJrf/5wPvENG/HqSL+8kmMWezDndW5W/MNR1aSUW87j5Tf1fxFk03u2JfUq9ubvcQoG7V/NzRdjWdj7YuolLncwpUxahY4/XWPW8wuJ3DeoNh03Rr+d2njPpqVeRfb+PY6KoP1cvfkiY9+Au+8fIhP++ZzmMj22Wn6XgpZfFOFC+mWuHLOYHq9FjiLGX7L1zjkvpvLScgeayqSs4vgTr70gBhP3DWJtx42M/mDxS+eBwZUp0bPjstINGPyYxoyCeKdJSEz+j8c80vL/VzQJUXWTJ07e13G3kn8PMy4mCal4abbFmyUhMZb/fL+Ef7sMpvEbJyGRKWdnsXklKSE14cgjWS9fTjvIIcZS6rVdzRAtvTf7/GSayeS0+uYyS6yGmMqrG/qxjvEA/pX8JnV+U4hMvbqB/eoYc8BrViTHfTrry2Q0m3hOR5zfAIoT/KKmlAaOm3QPFmIs/x5lTrlESuOe2xj5UmwE3lv7ORf4vo3sqOCJL2pSauDITR9u5HojiClnOat5JUohpcnII3yZ4UW5IKZe5YZ+dWg84C++KU3fpq1SlsjYv0fRXC6h1Lgnt71MDAr31vLzBb4l99V3hezznGwmo9zqm9I9vH00Y0ZRvNs3oZegJQmRZE4o/1nxPdds2861M0Zx4mZ/ppN8noSGb+ShJaPYxbYlOwxaxGMRquf2Cichxb1j3LhiKb+dOJB9Ri/juRhtz2rPIDBy/7f88Vwysw4PfTkJpV/kD927cObRuNI3L/0iF45byV/H1aYMerRbdocFn0+UZyaytkzOplM3cMWwdmxi2Z4T94Tm/0bFy/OsKJeZcfL5/KFYiOF/6yazf/deHPbDcn7b9zM6zj3FNCGEO4c0YgWJhLJqNuw/fQX3fTeVnw/uxc79VzPgWRvERPrtWMCvv13GReP60nneEYapSCpvct/imZw4rBc7j3Lh3bDjXNjflhaWXbnKX9fjqsCYUws5oPtQfjV3Oic4D+QSbyVDdg5howoSSmTVaNN/Fnd7/8eN8yZz9IAu7DBkI+/mkarADRzVsxcnbL/73B9CzAX+NLEvu/QaypH29SiXmnDogXB6//olB3Vtw84LPZgjhHHX6DbsNPskE3SO2SIT/XZwwdffctmicezrPI9HwjQOyPJax897NGNlqZSVmnbnqPkHGa4t+fvMpZWehJBbcvalomkwOyaCsapnLvXjjgVf89tliziurzPnHQmjxqX7uHjmRA7r1ZmjXO4y7PhC9re1oGXXVfTPIZnlxXWf92CzylJKKzVl91HzeTBc0B0jIZwnV83ixNED2a3/Uh47tYjdWrbn7L0nuWX+l/xiSC92m32Uj2//xamOTdm43Te8kBpP95WDadfYkp8t/I+pL5jH+8dXceb0OZzSrxP7rfBiqg77c06n6HI0yXReXDiOK38dx9oyFHpjF4py4cw2DmlUgRKJjNVs+nPWnnua2tw/zlUzp3POlH7s1G8FvVJL9p8QsvNlW38c18r5146PNmT7cK6VHiWQ03L2paIPSNkxjHhBDO1xpJI39y3mzInD2KvzKLrcDePxhf1pa2HJrqv8mXB5K2eO7M1OHWbzjJLM8lxMx3Yj+Xv+U6qu9pCk6vI8WsllNJt8nsp49+L73QcZM0qPD5yEBIb//Bkrtl7BYIEUI3+hvXE3bo0VqUlClWloOZK/edxjqP9uTm5RgYa2Sxio0tgrmITExwc4dsg63ssjKUZxS9eKrNLvT2qb+SLJvPu/c84yd6aRVBZOQpneXDloAL87k1DKtmXR54fRXOKnYNhPHagHKY1HuBZ4UlTR6+tGlEv02Hjwep44tYhtDSSU1ZvGizkk825zqa0epVVG8O9MknkPeXCsFY3qjuShmGxent+UehJDOm6MpEhScXQMTaUvEp3q0mxayKWs/vkxKkhSiKbrBCsaWU7jhRSROR7T2UBeiU6bH1IgmeU6giZSPTb7ahM3LHfhtinW1JMYsOeOJB2hu8TZFvq0nOtLlRjDbf16cn24QCqOcoyp9KUBKXFbd+pDTovZl6iiilfmN6VcWp2fH1No/P7wIMdaGdFs8F5G5dzjqjZ6lFToyR3xIsWY39nHWEq59QL6Zz/kroG1aahzelJgtOsEWhlZctqFFIo5HpzeQM5KTpv5UCDJPN5dbkc9qQlHuCp0xC2HF7+qRxlAueVcFvfCI0S7coKVES2nXWCKmEOP6Q0or+TEzQ8Fkll0HWFCqV4zfrVpA5e7bOMUaz1KDHrymUvz7i6nnZ6UJiNcSxUjlf+3bCqXslrPCZzo1JJmhsbs8/sjRv5iT31JeXZZtJUrV2zhnA76lOi355fL53PJljnsYCChnu2PvJ1Hkgr6r3GkacUOXHU7i4Hft6C+2WSez9FlP1Zn+7N8fuDoJX5UhP3EDnqg1HgEXQu+ChXhgoJHx5hSWmC6SOG/ho6mFdlh1W1mBX7PFvpmnHw+pxT+K2qrMOffND5FmHHxK9aTgZBbcm7xxCg2jsxy5QgTKfWafcVNG5bTZdsUWutJaNBzB5OYwoNDqz5vl9J7Lpsa1uLEM9kltCePt5faUk9ahSP+ziRZcr9772PGK+ADr46Toc6A77Fj1Sg0kuUiKSYBSlUCYuOerTSQoHyrIZjo2BRWbcfhl5VDUeXOHuz2Kfw1V0T4/q24mHAf+5ctxuIff0dIucao8igIQdpWr+TexXaXJAya0wXG2qpV0R7fHz2B1X1qlKoVOVd/xm/ZYzG3vRFqWzRARakayrB7iHi22Eu4jf88YiCW74Bpa+dgQLc2sKooAfJyoQIgPnKDe7CA8u2c0LmCiJDNEzFtfyLsv1+LYeZ5iH2UCFHPBj16mkOKHPhe8EKqtCEculpCDjUSg+7gsWiEdl3sYQQ1YvfNwld/ReHTyXPRtYoUeYmJSBWVuB/8EAJyERRwEwpJVRjl6KHjnEHQj3sMQd4ErVubaG8gc6FSiQg/sBZ7Impg6PKVGFhfhhzfC/BKlaKhQ1dYygFAhTt37kOUmaFr3zbQz72BY2fCoK70GXo6GAFiKH6b9BX2xbbFwvWjUE+4j/vRIvQ+7QInUymkZv0woH05iA+v4mpKfXy+aBJ62tvDQl60SurYfZj11V+I+nQy5natAmleIhJTRSjvB+OhAAAZCLgaCkHeAq1bl9feLvERrt+KgwgpqnXqAjt9HQFWx2LfrK/wV9SnmDy3K6pI85CYmApReR/BDwUgNwgBNxWQVDVCjl5HzBmkj7jHAuRNWuOZSzMCriJUkKNF69YoX2KM1Ei9GYQodTmYsC6Gu97A/bgIHJ1kglu3QiHo1YZErIpRc1tCnaSGxFABdZMZmN9IgRhBiuq2bWEhB576LMOEH70h6TsbU2v7Yfc/0bAaMQodDXTZr62L4Pj5t2yMndseRrUt0KCiFGplGO5FvFjNWIQLOb644JUKaUMHdLWUA099sGzCj/CW9MXsqbXht/sfRFuNwKiOBiX7r7Ctwpx/C/EpRAw8un4LcSIgrdYJXXQTo4Q4ArlBAbipkKCqUQ70Os7BIP04PBbkaNK6NUxQGTY2jSFTJ+DRYxHl2w2Ds30/OHdIKb494iO4uQdDKN8OTp0roMR+9yHGjFeAlu79fmHQ+DPYhezEunXlYP1JZVSSqCEWWO0mKbBSrEJrOzSRHkXSExEvVz0P90MjUandOvy4ogM0lFmpo0QRETt/wN8pLZC+aSW8AAgh96FKS8CBtWvxqM9MjLKrUPoGqG7hl4WHEVs1CnMmHALTQyEBIDwMQYgKaCEHxLB/cfG+gEq9xmJ0QxnEkNu4l0GU79YWtnpqPLl4ETdy9WHn5IRq2f/hhw0+UFQbgQnD60KqOIVzlzIga94dvRvJgFw//OuVANSaiB62+gBS4eVxDSp9W3RxNAHEUOzeehYpMhv06tMAMuQiKPA2lJChWcN6kIthcPeOgIAasB4wEnbKY1h+SQGZRU/0aaaDDgadMHlya+xfchbzPv8JNp6L0UqWC59/vZCAWpjYw1bj89xrOHcxFqg5Fn3aG0DhsRuuD0SU79ETTpWBp24bsOFSJkyHT8XoBjJkHD8OtycyWE3qgnoyAKiKNq0tIf83GNevKxF0KxItRy6GgZYYhu7eirMpMtj06oMGMiA3KBC3lYCsWUPUkwNQBcL/Zg5k9ezQpraOZy2mIyMTAGSobW6uszOIobux9WwKZDa90EdTGAI1haFhPTnEMHd4RwhADWsMGGkH5bHluKSQwaJnHzTLT86B/jeRI6sHuza1IS0pRlDA2zMQKuih8cBxcKoihRQmgMoDbj4pIOqg43BnmN3+Af9GiajQeQoWDqoK7y/PIx41Mc7ZHoZIw6EtuxCaZ4jW5YMwf5Q/sscdw7/zHVARGTinzb52guPWLwtxOLYqouZMwCGmI1RDcIQ8IzhyEViIC7mB/0JD0x6w1QfSjm7BrtA8GLYuj6D5o+CfPQ7H/p0Ph4qAGFy8/3KvvGwLSH+J82Lo6jeMTxFiIF1DDMhqm8NcNzFKiKOIUHdvaIoegJF2ShxbfgkKmQV69mkGOSQwMa4EiToLCkUeIg7uRvqYRegevxudimmP+slFXLyRC307JzhVk5bY75Ab+P7HjFfAB34TEhGyxRndt8gwZt6XGGxnCv3iVidLZZDK6sGyceEnEwnKGcoRHeCHmAJLJtWpd3E7uvAaSgkMLBzQ2VyAUqmEUqnE01w1JMxFjlKJHOFVjtITcM9lKW4OOQOvI7uxa9cu7N73DRyNJKAyDCERAgA1Hv93EbeFCvisfx+YSgXcPHQEQayH4V8NRU3pU/h4BiBbbg0Hp1pQ+Z+HR7waRh16oEtlNRKP7caJBAkaOHaHlRwQgt3gGaWGiX03tJOLEJU+cPdTQNbcAV1qqiE8vY7rwQKktWzRpqEMyL2F0xciIFZojyHOjSB55AaPOwLklqMwpacx0v49DR+FDI37OMNG6wOfGgkRcbD4dg9+6VsDTwN+xcrDSVALwXDzjILaxB7d2skhioBw5wIuRqpR1bE37OV3seuXo3ik1oddt64wlebi2nkPxKmN0KFXV5io4/HPrlNIkNRCJ8fm+QlADgvbFjBGGu56bcbvjxwxwU4byZ/i+vVgCNJasG3TEDLk4tbpC4gQK6D9EGc0kgHCgwDcSCIq2rZDS10PslJz1DfXhwREZnp6kT07YlIcElTA0+vXESxIUcu2DTQuPY0LESIqtB8C50YSPHLzwB1BDstRU9DTOA3/nvaBQtYYfZxtNMlZeICAG0lgRVu0a6kPlBAj2dPLcPPNAKr0wNhh9Z530tyg/+D1WI1yncZifEspbp8+j4dqE/SYOBoN83xx6t8EoGZPDHSoAOTeQcDNTKjlVugweBx+PnsRB+d+hqoyADrsa2X4PRcsvTkEZ7yOYPeuXdi1ex++cTSChEqEhURo9ugV4YKAYDdPRKlNYN+tHeRiNu4E3ESmWg6rDoMx7uezuHhwLj6rKgOgLsF/hW2JQCHOZ75pfIoSA+b1zaEvAZiZjvSixECchhjFx1H9CG4edyDILTFqSk8Yp/2L0z4KyBr3gbONPgApjIzKQwoVUq+sx4rgPlgyuh5UxbZHhqc+ngjIlsPawQm1KJTQ7z7EmPFqeI9JiMjLywPVIp6P8+pY/HfsErKqVIexDMiJeYQnYh5y89QFb3uOjMv+iLOfivE2moGJJACCMIBtl44wurIWU9ZcQoIKEFP88MsPx5BcRVaoHlKY9ZiNlWvWYE3+v+XDW6Bc1faYuGIFJrQ1AtRx8N61Excii9+4IoRuxbyTzfDtxEZ4XopeHZjXkAFCBIKDswGkwN39OlRya7TvWBWIOYyf/opBs693Ym0vYyA3CP7XMyGpbguLmM3Y5J2ITEpQvmJFIPYsXPbehBJGsGmWjT27fBF1+bJmWqdlBexfvR/B1y/hSooENWwaI2LDr3BLNkA5QwmkZvVRVw4oLu/H8TAjdFi4Hl9aSpDsfhHXcuVoMnAoWunnIOBSABTSuujSMgoue+8V3firTsSxRctxIdsSEzYthL2hEnGPkyEmXcblUAHyFi1RYf9q7A/LQ/LVANwX5GjRuhEub/kH4fpyQG6BNnUvY+P+ECSnZUAtMYChQS6iT7jg4F0lJBXtYJmwFX/d0ZRs0KIFrGQC7u75D+bTR6OuVoZKUK6cISRSM9TXNBL7j4fBqMNCrP/SEjIAaQFXESLow7ZTR+h8r5WaYtCUoTCXi4g6exAeaS8uKe8fxNfTfkZguhqScuVgKJHCrH5dyKHA5f3HEWbUAQvXfwlLSTLcL15DrrwJBg5tBf2cAFwKUEBatwtaRrlg7z0BSAvA1RAB+rad0LECAEm5YmIk07xFJBHGXQaix/MXFBEP3TwQJpZDh8GDUVcdjNPn70Os7IiBPapAuOMNv0SiSue2yNm+DX5PDWCgBwD6qNagAUyyr2DVlGW4lAEd9rUSHFvnnUSzbyei0QuCo455DcggICI4GNkA1IW5cD8ely9rpkJbVtiP1fvDINdUBvrVGqCBSTaurJqCZZcyAHUJ/rsbV8RW9q2XOe+Za/hm8SlKDJgOmoKh5nKIUWdx8GVi4ODX0/BzYDrUJcRRneyOi9dyIW8yEENb6SMn4BICFFLU7dISUS57cU8ABEEEISAkoja+WdEPNaUonm+yXAT5X0empDpsLWKweeO/CPUvrt/dQ/z7HjNeFW/8Vak0EOPof3A1BzXSo0RWk12+3Um3+0qSKl5b04kmciM2aDeAU9cv59Da+qzR7kvuD8nh3R3D2aKpE2eu385tv/7A6bM20jdJJCnw8ZXdnGpbjvI6A/jT+VCmC9E8ObcDq+tJKC9vwnqtx/H328qSakaSzD4yklUtXyxMEON2sKeRIdutvqfznrygnRzWpAL1rYbzF7cozUdIVTCPLBnEJuUkBKQ0aTuZLh7+3D28PssZ2HDSz6v51cDeHL/Bh4nPFkyovDnbQo8SA3P2XHuZKYnHOLGhASXyKmw6+Cee2tSHlaWGrOu0hBcSchnxW1dWkkhpYjONrpECVT7f0EpPQgPznlx7OY2kine3D6ZFw15cunM9xzt04KhffZkskmQmj4ysSqm8MWdfUpFU8tS4mpTpmdJm7O+8q22NtMqX81qY0m7cBv61YTRb207lP49FChG/sWslCaUmNpzmGkmBIpMODGE1qYQGZt242jeOxz43pVS/FltP/JPB2SKTTkxiYwMJZcaWdF5zhr/1r0RZhcZ0/jWAmc+DcZJjqxvQaubFF3/TVq272znYoiF7Ld3J9eMd2GHUr/RNfubUbJ6bZEaZfnuuCS1uhaTGJze2j6VNNT1WtOjC0VMmc/SA3nSe/BPdHuc9K4zbB1uwYa+l3Ll+PB06jOKvvsma/UaZRziyqpTyxvn8UZ7iuJoy6pnacOzvd5lNMvvcJJrJ9Nl+TWj+3priYpTHgIXNKJcac+C+AmtpxWhucjSkxMCev0QIFIJXsLWehJX672aSSKouz2cTPQn16/TgGt80kiJjXCfRuqKU5WpasFnr4dx0TaHbfmHkBXHnsCasoG/F4b+4MUpDcAYfWcJBTcpRAlBq0paTXbz5KLwQF4QI/ta1EiVSE9pMc2WkQIoxrpxkXZHScjVp0aw1h2+6pvkgXpL/tNgqwvk3jI9OZtzYzrE21ahX0YJdRk/h5NED2Nt5Mn9ye/x8VavuOJKZR0ayqlTOxrMvaVbpnRrHmjI9mtqM5e93s0mKTNjai436beGtgos8imsPVfSebUE9iQHNe67l5bSS+p3w/seMV8R7XB2nC3lMj41mUv5Kv5ykaMZlFhg4VOl8HBbOWEVJg4kGgiKOETGpb7x+PyspiYq3tp1DYHp0MIOj0rRu8BPS4xid9CKaoiKW4THp+aTLZHRYLF+k02wmxcQxs8Dy2Mz4GCYVIoMqLYohYYklbyBVpTI+uRgmiWmMjVNQlRbFeyGPWTA02UkxjMssuHRNxdTH0S/qkpPC+JSCNRCpiA3n40zxeTtjUgotfUvex1H28+ldXAZ6Xlwao0LCmFi4kXk3ueRTPZb77GeGlY42ZHYC715250XvGwxPyi6yoZVUMS0qhGFFCtNSrdR4vnBpHm8u+ZR65T7jz4UqU+oYlQoC02Ojmah8ueZ56dG8FxzJlHe8oaUIF7KTGBOX+dI2BealM/peMCNLqMzL/tNmSxvnXzc+JSGbCXcv0/2iN2+EJzFby5hQ+jiqmBqf/FLiUyU+ZoLWG4tpj5DOuOikAnZK6nfvecx4RUjIMj2hMnxYCKGHsGRbKBr37IDc88eQN3YDZtrpWNGmEyKi947D4D1NsOU3A3zb2gWWB67i9wGmH+TDpxi9F+MG70GTLb/B4NvWcLE8gKu/D4DpR35aYxnK8L7xwVfHlaEM2Q88cejPI5DeSsQPLhswtfmrJiAAkKBcxfJQRrvD5Xug2uJ9+OUDJSAAkJSriPLKaLhrKoN9v5QloDKUQRvK3oTK8FFAFEXIZIUXkbwGBBVUEgMYvAVTbw4BKpUEBh9HZcpQho8SZUmoDGUoQxnK8MFQNkFQhjKUoQxl+GD4iJKQGjlpjxAa6IETrt5vZElQJiHyjh8uHPkHl2M/iODH/2EIyHgUgyfvSF/urUJUIuFhDErSqftfRU5qEtJLqcEkZDxCzP+JoL4C1EokRCd86FpohahMwMMYXaKFaigTopHwxpJMuUiNji26mfYd421z6T0kIRFR//6KsTYVIZVIIKtsg+FzvsLA1k1g23sm/ryeAQBQp13D4YVD0K5dV4zYduv1i1Mn4Mre+XBu2wm9J+zBfb1XF4jTbTsVN/fMRt8O7dFp4Bxsc38IzdF0aqTfOYofRzqg84jluPgWE5/6yTn8MGoOXKPefTIV4wKwe5INarZfgesf+XglRHni1xGfoH7/rQjTVlf1E5z7YRTmuEa9g9LVeHLuB4ya44r3EJaiUN7BH3PnYuvBRejaZgF8i0tEYhwCdk+CTc32WPGxB7XUUOPJzUOY06kOrL6+8HoW3lm/EhDl+StGfFIf/beGFdnIqX5yE4fmdEIdq69xIfv1S3n60A3rBlnBrP92PHxrSagEXr8jLr2HJCRD/R5TMeTTCpBAiqr9fsAfG7Zi7wJbxPzrgmmfr9JUxKQNBnY2ByhHc0en1y9OWhOfDekMcymgZ+MAh6pvsYnSKrAZMQD1E64jxMge450awVBzAcbN2qCGIhttp89DV7O3+CFaVEGpyETWO1PgzMHT/ENeZbXtYGumj4odnNDe8F2V93Ygr98RdrVkqNHRAZ9oPTpEhEqpQOZbc9wLPwGAqFJCkZmlXaX1nUKFa+um43iDrzFrwlws+34AGmtZ45rzIqiwszWDfsUOcPrYg1pqSGHasiMaGKrxaefOpb8t5ymeh/Cd9Ss56ne0Qy1ZDXR0+KTIsUBS05bo2MAQ6k87o7PW05NLh/KN7NGqlhS1OnZG87e4xlkbr985l97ajqPioPLlXEs5IanIfrs0R39nnxrHGlJQWu3z/B9l8/xkM8rkVvzmDSU2nx1b3nLxDZZWc7D0SOYfvctR3/5XRhbYuJbl/Q17f3W2gI7L/wGICTw3bziXPDuqXozkr52N2X1bnJbNmh8Z8m5xia0phx5Kf/dlFfbTh4TiJMfVc+SGKJ0qfUw4N4/DlzwTXBMZ+WtnGnffxriPPqivgNR9HFj1Uy6+UboeLiac47zhS4qV63hbyLu1hLamQ6mdmqncN7AqP33TsSnvGr9vWZ3D/y7Nru7Xxfvh0nvZJyQ8cId3pACJvi0cHasC6jicPHQRyTBGm+nTND/KvYGLlxKBGr3hZJv//KBOwpU/fsXhh+VhlBSIe1XHYv3qIXh2fmnGzT1Y+/s1qDLvIVA+Ett2TEJzAxUCLvogVVHIa5oAACAASURBVFIHwzqb4PKm6dh0PgKoY4/JP85D81s/YuZvD2HWvDpyIuJQZ84hLLMvek6zblSElZU5ePQBwvOA+gYAhLtw2ZKGL7b0hAlEPLl9Af8GJkBVqTqMooMg6fcdhllkItTLDT437kHddjZGVDqHTYdiYNqoHJLCUmA5YQlGNpFDuHcIa/+thvGzHCG5fg6e10MQbuCIBeNbQRURAF+/awhSWGPSlFaIc92MfUE1MGzhFLTNf6pSpwXh+OFLSJET2fo26N/fDuYm5YtsCHsaehzrFn2HXy4YYbj5OdyxcUaLbC943WkKxx2myA45AZfdfjDs8w1mdK7+/JVZFXsV7lfDEXb7MRqNnYe+9XW99eUi/pob/KKykJmQiTr9xqNbvfxaqFMR7OaOO6lZSEzQR4exI9HaOBPhV3xw5fptqGxnYELzSBzechhRn0zGtwMaIOXKXuw8l4FOX82EYy0pxEfu8Ir4FCPaZ8Bz23qceKCHNl/MwkgbY6jjAnHO8zpCwg3guGAsrOJK9ht0xK0vT73spxZtkOPliesh4TBwXIDxbQyLaZMCEQG+8LsWBIX1JExpFQfXzfsQVGMYFk5pq11GRJetKkrcOrYf3j6uOKMEjE/swIkuX8C5RYGT8Z6G4vi6RfjulwswGm6Oc3ds4NwiG15ed9DUcQdMs0NwwmU3/Az74JsZnVH9RVBx1f0qwsNu43Gjsfi2b32d7M+NvwY3vyhkZSYgs04/jO9WT8MtrXUGMnRwdvA4GyT4euKW0gYzZnZDdamAu/vXwMNsEmY41tLwTatNTaVzrnghsFIHzLCW42m0P9wuBSJY2RxfTnFEVamIiLNbcU7aFzN61UDo8XVY9N0vuGA0HObnbqKm2SP4P+9XbfDsmV6dGgw39ztIzUpEgn4HjB3ZGsaKCAT4+uFakALWk6agVZwrNu8LQo1hCzGlrbYIinjk7oWIT0egfYYntq0/gQd6bfDFrJGwMZYCOVfgFVgJHWZYF+iTaqQGu8H9TiqyEhOg32EsRrau8uLgWi0+lzzyhk+0DUZ2EnH/4gF43U+HrHZHDBzwKV5M/uQgyu80LnjehUHP7zE+X5IiLcAHMS0/Q0tDASGHVuN05bGY110PN84V4HXzqNfj0uvg7eUzXRAZtdGRBhJQWrUdx0wfzwGt6tCs7URu+C/i+dETebeX0lZPyioj/tacGVasyJLImOMzaFPVkl+ei+OluZaU69lwya08Mi+AC5vJKTUdw6OKbN7dNITdph/m/WzqFmd7RSTt7EVDg27cliCSFBm9azw/3xFBgZm84TKG/eecZKxAZp2YyDrVBnJvCkkKFNKOcnQtS874ay+XzhlN+xYj+GfITa51MGbDr9yZTVK4v5tDmo/gwSwyL82b86zLsfXKYI2wVOxlLm5nSIvZZ+j9+1puP7SYDkZ1OdVNc9CGELmPIy1tOOO/JIp5d7jMzpCN+26irxZNt7ysBLrPbcaqzjsZnpDGbJJZJ8bSrPkCuvv+yZUbD3DjsDqsPPhgvjifihHH53Pg6F8ZmJ7Ni9Mas/2qEO0OEmJ4Yk5vDlnrxxRRRd+5Vqz5xQlmkxSTvLisV0d+sTecKoqM3ODImt1d+FDIYqznt7Q1bM7v3Dy5Y40Lt0/9hBWcNjPg9Eb+/Mc6DqtTgf3/SicpMunPvjRpPYOb1q3mjlPu3DfJmoYNptMjh2ReGr3nWbNc65UMFkr2G4uJW1E/5THNex6ty7XmyuB8Bczi2nR5MdsZWnD2GW/+vnY7Dy12oFHdqXTTcTaKblt5zEqO4dEJdWk6dA8j4xOYVvjklLwsJrjPZbOqztwZnn896wTHmjXnAndf/rlyIw9sHMY6lQfzYP5ZZaqI45w/cDR/DUxn9sVpbNx+lQ7WC4w5MYe9h6ylX4pIle9cWtX8gieyi6tz8b5PPz+FDWt8zuNKksxj8KaurD/sELOK9YOGi1fmW7PGyCNUkBRVidwzqArrT7uoOXJG5cf5TSqx5454knnMSnDn3GZV6bwznAlp2UX6FSkyyWsZe3X8gnvDVaQYyQ2ONdnd5SGZFcvLi9vR0GI2z3j/zrXbD3GxgxHrTnXTfryNmMQ/+5qw9YxNXLd6B0+57+Mka0M2mO6h8feV+bSuMZJHFC9+77WsFzt+sZeaojfQsWZ3ujwUivV50q5+NGm7iiGCyNjj33L8ktOM0HaSjhjFTY4Vabf0tubNK92dX7dw4Lpwjf2I3YNoPfoIlYV5/Rpcel28hySUzN39K1ICORvP8ma2MpoX5rdmBVlFWo8/yAiBJAVG/PIZDSRG7P17AkWKfLzbmdWkBuy0PowCScWhIawskbHOl//xafSfHFBNRqOuvzFaJBV3j3HL9ouMEUghdDXb6Ulo1OdXnlozkAN/vMK0Z1XJuchpdWWU1ujLnWEqJt+8plXyuSSoLs1mY31LzvFRkSmnOWvMz7ybJzDqr0Fs1H4Fg/Jf+dP2OLOq4yZG57+6CuHr2Kl6Gw5Z6vr8bySZ5jqSNRrN0AygTKHr5l2MFEgm7WI/46acfyXfYI4bpzaozyHf/czdN5QUwn9ix8rPlGjzeHNxS1Zw2KixrfLlXMvydNz8WPvUmhjFDQ7G7Prb4xcHI86yZN1Bi7hxzzVmifHc3rMybZcEMY9k6n8z2azuEO6LE5kTso39rbtzU7C2CYU83v7JnnV7bdO0gWRWuD8DopSkEMbtvWvTaqb788NJlYeHsbLxCB5RksqT41i7/mB+t/Ewg3OUPD3ejFZDf+CWM1FUxW9nj8p2/PF2HkkF/xllSmO7GTwRrSkk5/wkmpXvwz9TSTKJu/oZs+n8K5pphGL9VkLcivhJMwAYN53PKyqW2KYct6lsUH8Iv/t5N28oBYb/1JGVu21lrLaglGCLQjjXdayoO6YUGbXBgcZdf3uuKKzynkXLuoO4aOMeXssSGb+9JyvbLmGQJqic2awuh+yLo5gTwm39rdl9U7BWy3m3f6J93V7c9iKo9A+IorKkOhfn+8wDHFSlLVfly1mr/Nfyu72xFEv0QyjXtDdmr50JGj/kXeMPLU057LBm/ktxbhLNDdtz7f38FBO1gQ7GXfnbM6cU6ldC2Hb2rm3Fme7PS+PhYZVpPOIIyRy6TW3A+kO+48+7b1AphPOnjpXZbWus9hgo/uEoU2PazThBDTVzeH6SGcv3+ZOkwNA17Wnca2e+ZL3AsO29WdtqJl8UfZjDKhtzxBGlbp8zi8e/qMWm8zx45/hGbjodXsx5byr6zLFkrXEnmc0sXt09lz0bN+W8/E8eeTe28ufTqfluKcDrV+XSG+DdJyHFMY4xlRLSmhx3SnMMpyZRgNBrycU380gxnjt7VXh+QjCFYK5orUeJXhuuuieQVNF3riXlEn12+CmY15fYUE9iyC5bCndGkY9durKcREpjc3MaS/XY4aewAoeG5vDGinasKJGwYrvlDHzNM/jExO3sYVie/XfH0+/HsVzmn01mnuPk+jU49OCzk4lT+feIWrRbcit/7ldkws5eNDLpys2FT3ZO3kPnKi35w408ClGu/PNMUr6M92jWMJ/CC/n1VPkvYLMKlvz8oEZyN2lXP5q0X8PQZ3LWK9rQdNhhZlFk4onxbGQ+hHujdWTZlD10rtKay+/mX8+7zaV2hrQYd5QxIslMV46onp9o825xqV151hu2jrs3LuHMr5bQNViHZLbiJMfVNuUI16IT4llnJ7GOkQM3PHxWJ83hnoYtvmdgnqazGFpM5Ik4MT+JGvGTuR5MJan4ZzRrPDvpPMeN0+pVZpdN+RLK+Z27gs0S3sojqTjK0TXMOSXfccX6raS4FfYTFTw6ugbNp1zQvD2W0Cb/Bc1YwfJzHnwoUJMcTQqcpv0q/iGpOMxh1ZpzYYCuXp/CPc5V2Hr53Xz7eby91I6GFuN4VBNUuo6oTss5PlQxj7eW2rF8vWFct3sjl8z8iktcg6k9qgqeHFebpiNcWTiqJdW5WN+rfDnXqg4nns0hxXieWL+dN3JKtikm7GQv4wJJJvJXdq7sxC2PRVJ4yF3OtanfbCED8h8qUvY4s0rr5XwWwpf7VRbPTqpDI4cNfFHcTS751JAtvg8kVf5c0KwCLT8/qLmetIv9THSfzp7jNo31KnfhpmfGhFCuaV+BNktukWICd/YyZvu19/Olv89yUh0jOmx4yBdFL+Gnhi34fWCaTp9T5cWvGxmxeef2bNh3ZwnfZ0TGbunCit22MubGn9xy5ip/6lSLY45lk0Ikj7q45rf7ZV6/GpfeDO98dZzq6kX4pqohqdgeTh01Z4IJcXFIVAOAHHI5gKc+8AzIhtzaAU61WILIUjVcv3oPgrQWrJtVy583FSDkSzp7ul9DjrwFvvp9AdoZiLh39SoUAHSKs71Gm6TGTWBlJiLcbSn+zPsCc9oaIsfTFafTO2JAr6qaGgX/ji3n9dHmsyb5c78KeF28CsOuEzDKqtB3FBN7fNY8CtevPYKvuwqtuplCChWuuvtB3dEJHQwBQESEhxci6g/E9MENIUMWfD2uoY6DU77WixzN5rhgdt4/WL11M3672hy/XdqPz+tq/2bz9LInAk07wdFCc10d74VL9xtjyFd9YS4FVAGe8De0R7dW+hDDz+JccE10GTQQztOXYbPLMgy1NtJqN/feFQSmNcQnLQpfz8Ut90tItu6GHvXy6yTcxfHTMWg7bgxscB8XvR+j6cgZ6FNLCjHMA5fiW2L0FHuYIBc3Ll2FvKNGglu47QGfrC4YO7K+RsdJeRnb90aj++wpaCEHVFfd4afuCKcOhiX6raS4FfYTVFfh7qdGR6cOMCypTZIIeHhFoP7A6RjcUAZk+cLjWh04OBXQnyqtf+RA7p1ruKNng7a6lkM9vQzPQFN0crTQ2FfHw+vSfTQe8hX6aoIKT39D2HdrBX0xHGfPBaNml0EY6Dwdyza7YNlQa2iNau49XAlMQ8NPWhS6XlKdS+CsrCZqVM3EkyfZiHU7jdze42BjULIfnvp64YaZPRzyv0dm+PjgTqNOsK9BxPzrjjs5Amp2dMgXM3yKy56BMO3kCE0IC/Wr3Ftwv5QM62498KK44zgd0xbjxthAjPCAV0R9DJw+GJoQeuBaHQc4NdLWrwTc9vBBVpexGJlfN+Xl7dgb3R2zp7QAnvrC64YZ7B00vM295Y5Lydbo1qNePh8E3D1+GjFtx2FMswc6fA4IoZ7wTe2AL1cOQ4Mre7EvrLhl5lIYV6sCeXIAtpyUo3fPJqhVNRtPklJx99BR5HUfiIYyFOL1K3KpmNJLg3echFS4ft4Dj0UJ9G0dNEsSxRj8/ds/iFHLUKPHlxjdVI7cIH9cz5Sguq0FYjZvLEFkSR/lyxkCzEDs4wyokQ6/1V9imVcG8NQX7n6ZkJrbo9tnjujYXAaF33m4hZ7FjoO++EeLOBuRjvMzrWFcpRUWX84psUUAAHkTNG0IPPDJRu/ZDqgINdIfP0JGpeqoUQ5A1i0cOXsX2XJbtK17G/73VUCOH9z85Og+rDeqFrYnrY12rWvjwfFNeGDZT7PkWHgAn4A0tHGyQ/jlW8hQJ8DdIwTWw8bATh9A7nV4Bhiio30l+HjcAyAi6sBSbI2rj47dx2PpqrnoWV/Xgotc3PS6ArS3h+n1K4gUgAxvLwQ1GoDBNvoABNz18sPT9k6wvO6JWxl5EKGHKuZ1YSwHIMThqm9IfnJ/GTKjCiiHLGRm5p8GJcTC3+8BVAAkEkBqWhO1ZAAgIubAKpw0Ww6X6U2AR27wDGuJYaNaQA414jy9EG47GEMbywAxHJf8U9HGwQq3PK4jyN0TUZ84wLGqFEAGfFYtQUDXbXAZYwYpBDzwCUBaGyfYhV/GrbTi/Ha3hLgpivhJeOCDgLQ2cLILx+VbGcW2SZLgDo8QawwbY6eRvL7uiQDDjrCv5AOPe0U39xRnSwY1nly7gfhm7dBWx+rY3JteuIL2sDe9jiuaoMIrqBEGDNYoiAp3veD3tD2cLK/D81YG8kRAr4o56mqCirirvgjRHlRUKAdkZWbma0wKiPX3wwNVCXUuibOyKqhqrEbcpe04ru6JQdYGpfCDCoGeAdBr9xnqBrnhSmI2rl2+gcrtPoP5PVecza0MRqrRrnMdBHiFArk3oQmhKa5fiYRQuF9BAgmkMK1ZSzPYijE4sOokzJa7YHoTCRLcPRBiPQxjNA3Adc8AGHa0RyUfDxQJofgQ7p5R+MTBUbM4IMMHq5YEoOs2F4wxk0IV6IkAvXb4rG4Q3K4kQq1pKGpqGgox5gBWnTTDcpfpaKKvy+dqxHpeQsSnfdC//ReY2iMSf271QZbiNq6HaN8wJjM2QYX7d2DYZzgayvRhWr0yYs6vx9nKIzA0f31/YV6/EpeClNoJWUq8wySkwp39MzDrjwcQAKgjzmDNt19jbI++WB7WFKN+dIXX4cmaJyJRDUrUSP7vAO51moReDZzx/eqBqJ/ojUO7fsas5dfR6qczOPlda5SHMQYuWozutbJwcpotrG2csavmHHzXtTJyAy/CJxmo0sEBrcpbYcz0vqjx5B/MnXEdTbvKEHXvLNbO3oj9JwOR1XQiFoxvApk6B0mPE6HIjMfj5LxSes0YVk0+Qb9lK+BsKgUgRbUOTrDJ/Bvzhk7A9PUhaNK6Bp6qY+B5IQv1LAyQe/0ifHM7o3/XyloM6qNZy6bQM7XHgA7518UUJKdL8MT/BB6bWqNyhifcbzZE7/75b1a5sYhNysWD816QN28C4ClScs3RurIHJn9qjkZdZuNIuI5djOpk3AqKgTraG1dkTVBPngM/r6swse+GFnJN7MLuR0Md64WzWY3waasxmN4vF7vH98eXC37EKhd/lGvZFBW1mJZZfY45Q/NwYNZULF+7AkvXe0DSpDEMoI82E+eiZ8JxbDrliXN7VmNL9Ggc/Wc6mhmokezujttNeqN/YxmADHh73EZjp+6oKwMgRCEqVo6UQG+IzZpBEPRQFYm45XYMvy9fgtONNuLfzf1RSwoAIlKS0yF54o8Tj01hjeL8Zl183BopCvkJEFOSkS55Av8Tj2FqbVpMm4AMT3fcbNgb/ZtoOnpubCySch/gvJcczZsUfn4szj8AkINr1+6jiaOjjpVIaiTfCkKMOhreV2RoUk+OHD8vXDWxRzdNUKEKu49odSy8zmah0aetMGZ6P+TuHo/+Xy7Aj6tc4F+uJZpqDyo+nzMUeQdmYerytVixdD08JE3Q2KCEOpfIWQNUMKqOylZOGNfLPP9toCQ/KBEV8wSSOG8cS2mM1jVEPElOR6rnRiy+ZIZh3aRIeEJEe3iCTS2hTr6FoBg1or2vQNakHuSF+5V+G0yc2xMJxzfhlOc57Fm9BdGjj+Kf6c1ggAx4ut9Ew979oQlhLmJjk5D74Dy85M1RJIRiOgS9qkDiLbgd+x3Ll5xGo43/YnN/zWo/ZVQMnkji4H0sBY1b14Bhm4mY2zMBxzedgue5PVi9JRqjj/6D6c0MivF5Ory9gtDIoQtqy6rA+YdvYHbwC/T77gZk9bS/k0gqmcBq5GLMsjMAIEONWuYwaTEEU/uZPU8AL/O64qtxqblO7eLS4Q2n894SBKbHRb+ayFJ2EsOD7zM+q7gJUZHK9EzNnGUx4mzMjmfYw6RXmtvMio7M/7hYoL4pEQyNTMkvL4tJSYpS7rdR0H/7Jp4rZDAnOZFpOhdOCMxMeiaQlUmvJWP54yXN7HFegh9/G2bB6oMPvFiUUQh5qfFMLEZ4VlSmFlp9lcPkyAgmluo7Wh7TY0IZEqVFXFCVyqiwKKa+4sdMZVr6SzwQsxMZGZ2iPWY5yUzU6biCfsuvUjFxK+qnHCYnFhInLG2bhEwmlSQGpstWXiAX2bbikpvFFJKXyvjig8rUQkvqcpIjGVG6oDIvPYahIVFMLez0Use0sO9FJj8uKNhYOptC6mPGFVCcFNNj+DAu63nMctLSCtjMY2p84ktlaOtXqtQohkWllrh3R8hMKkEQT2R2YiSjtQn3Cal8HFd4TFAxNSqMUTqcp9PnBZCTksT04gaa7GQmF/jYl5MQx5Qivy/E69fg0uui7BTtDwhRkQZFucrIubwHXhWGYkQr7d9ZSoRwFYs6roXVhWMYa6L5k8rza3Te6wi33QO1vrGU4f8Gnt47D7enbdGr/HYMWFILf7iOh9lHdOJjGcrwpihLQh8MOTg3yQITQvpj9YYVGNemyhvMjQqI+Ptb/OhVDQ5drGGS+wTh4UrYTP4a3WqXjVj/dyEiYrszBlxsj6nNALOJC+CsY6FJGcrwfxVlSehDQi1AoBzytzauiHia8RSyihVhUJZ7/kegxlNFNvQrViiTQS7D/yTKklAZylCGMpThg6HsebkMZShDGcrwwfABk9BHJp72VgSy3k+bREUcIuOzXudGxEXG4zXu1AJdwlw5SE1KRym11soAFXJyPmJVvpxUJJVWOe9/CP+TIoCvBRHKdMU7lSz5IEno4xJPK41AVskiZu+nTRkIPjEfDuYWmHI889XuDD6B+Q7msJhyHJlvOObpEuZS3vkDc+duxcFFXdFmge9HmIg+kBjd02Ac+e0Y7hfgRUaIG3Z9PxDW1cwx+p+MAj9W4PzWP3GvFBxSPjiNddOGwXnwKEz88ktMGNoP/YYMxPDVfm+h0krc+WMu5m49iEVd22BBscp5/0MoSbjtnYolfmC8xFMRMWcWoZdlNRhXMYZJXScscUsscMJM6XlaEt5jEvpYxdN0C2TlFFAxK0nE7P20qTKatrOAEaxh37nGq93ZtB0sjABr+86o8YZR1yrMpbqGddOPo8HXszBh7jJ8P6Dxq31ILyg4pu3/r40PLEYnPMTehX8gr/8AWBVwSOWm3TCmb2NQ1QKOnQtuYK6IdpVvY7d7cdrPTxGyZxzaOq1ETOdlOHD0IP7csQO7DvyCXk8DoajW+I2rrbq2DtOPN8DXsyZg7rLvMUCbct7/IkoUbtMullhwrHhtvDXOvwYK8VSM+gvrzjXC6suxSA49gRl1bmDt1JXwft7s0vC0lHgru41KwscunlZEIKuwmFMp8J7alOk6ktUt59DnVU8NzHTlyGcHkr4xigpzKU6OYz3HDdSptVYMCguOvTUBsg8uRqek/xJ7Oq29q+XAUoEhq9uyfL7cREHk3VjCvtP/02FTZNzR8WxkWJej/y56mrbinx+50u9N26vgyXH16Lgh6uPon+8Vryrc9hpjhTYr71F0ryiK8jQ77A7vF9irmn1yLKsbOtEl/oVTiudp6fHOH2/eiXiaOv0VBNByEO3vhkuBwVA2/xJTHKtCKkbg7NZzkPadhl4NZC8JZBURBrtZE2aP/IuKmBVGWslt0i0epkMIL/+gU3V6KDzdriI6sxJyr/hBr+MW2BY4oUOnr9TpCPV0w9XoTFTKvQI/vY7YYlv0aA91aiAO7r0MZXkD5GXooenYCXDKPxtGq+2CwlyKWzi23xs+rmeghDFO7DiBLl84o0WhkzzEJ7dx4d9AJKgqobpRNIIk/fDDMPNCgmNXUZ7nsOL5/+/AxrkFymvzXW+TYgXj9Avz7q2L0Ql4eHI99qV2w5zxraDtMCYxxAXzd1XHl7eaFT2wVB2HixeDUc9xIxoXuiitaoKcW1cBdCtqNP08Fs/dh2T7zVg52KzIVIbR4CX47tlfX1FobtjCKbCOOob93j5w1SjnYceJLvjCuQUq6BBeQ1oovNx8cOOeGm1nj0Clc5twVNULcz/Lhc+V67itssWMCc0ReXgLDkd9gsnfDkCDlCvYu/McMjp9hZnPBOy0ca2uFiHIoyr0WTAedoVPihGf4PaFfxGYoEKl6kaIDpKg33fDYJGprX59sHy8HZAbj2tufojKykRCZh30G98N9eRpOoXbqiQUFEscjzZqbSKC5QGoEHvVHVfDw3D7cSOMndcXz7pkUYE6U4QX6gNVa8YjUNd4Va94n2jtr8JDnFy/D6nd5mB8q6JM1cZTw8bNYfmCrFCkpEJo0gFtq71gXLE8fRW8cRorAe9GPO3VBNBUiXs4qEp9TruoOfhF5TefTSr15I54kYUFsoqKORUVMdOG4ttUnHhYcUJ4pDL4L04aNItHI1UUY3ewVyUTDjnw7DCeYnylDOZfkwZx1tFIqsRY7uhViSZDtB3jk80LUxqyw5pQCkIktw2bxMOK4m2/JMyVl8XkmKOcUNeUQ/dEMj4/xgWRecOFY/rP4UlNAzmxTjUO3JvCooJjiiICZLp9V7xg3DsXoxOTeHB4TRp3WK1DT0UjTVFtyEHtku/Jf3GA8Qu5iYIQI39h57oTtdwkMnFXP1aSGnPgvhRtVl/88jWF5vKykhlzdALrmg7lnsh4TQyKE14TBKYdHc1aljP4196lnDPani1G7GZWrCe/tTVk8+/c6LljDV22T+UnFZy4OeA0N/78B9cNq8MK/f/KlynQxTXtQpC7owu9omTeoMuY/pxzMpYCs3hiYh1WG7iXGi1J7fUTYk5wTu8hXOuXQlHly7lWNfnFiezihdsKiSVqFX5TRfD4/IEc/Wsg07Mvclrj9vl6SboE6gr3AWUJ45Uun2Tr7K9i0kEOr2nMDquDXp2nJJnlywXt2vJbz5dHD908fTW8++m4dySeVnoBNDLv2g9saTqMGs0rBc9NMqdh+7W8L7CoQJYWMaeXxZ60ofg26RYPK15QTXx8mKMs7LjIP1+H6d4qtjHuye358wQ6fSU+5uFRFrRb5K85M0u4x1VtjNlzu7apQiVPjq3Jyp3XM1glMiX4LmOE4uJQWJhLI9bXsaIjNz8ual2I+ouDGrXnihcNpHNVR27KH0gKC44VESArRnitWMG49yJGJ1LUNWWTd5XfNTfSonmlgeLoaFY3HUnXzKLX8q59z0+qjdRyVzbPTKhFqV7HfGVMHXgToTkKDF/XkRUdN+fzv3jhNc3vO7F6myFc6hr9oq3KkxxXuz4Hf7eRW6QGDQAAIABJREFUh4NzqDw9nmZWQ/nDljOMUsVze4/KtPvxdol9XpcQ5Iu2RvGvQY3YfkVQ/nRYGvc4V6Xjpmd10VK/vNv8yb4ue22LzJ9+ymK4fwCjlCUJtxUSSywyVqTyv5nNWHfIPsaJOQzZ1p/W3TcxOK8YUUAW5Xyx45UOn5Q4boqi9qnVEnhKMYGnZ/XnlL8ji0wp6+bpq+HdJ6F3Ip72CgJo+XO8lZ22UKN5tYvOtfXZbGEAVSwqkFVUzKmQ2JNwj5sH/T/2zjMsquNt47e7SBXBQhNpoqAgKqAgWADRxBi7kVgjKPZuNEbztyaYoiZRY2KKPfbYY4lIR5CioiiISo30Dgvswu4+74ddELacpRr13fu6/IBwpjzlzJlzZuY3gPr27Ut9+w4gr1+eM/eJCR7GCFQro+vzLajrpGOUJxD1I/v3D6nLsJ0iGiyDrcquzyeLrpPoWJ74xp79O33YZZhclDnv4Tc0VEebBm2JEvWRyQ+SYC4iKj/tRV37fk7SrLUyuj7fnAymnqS6Hp6ZRkaOYvgcSQPHGv7MBF5TAIx7jTA6mao4TVN1e9GqUFlPLlzyX2RKOh/+QbkyMp9z2os6WSyVcR2H/pykSe3Ux9FhGYNX3V+1BDRH5XTaqyv1/TxK9ADFCF6rEcdDB+o0ci/V57zxwlaTlXovmncpiwRiKGWHfmsoUJSgNNPASmQbxpxnAEGKVXZ9PpkbTKVXKXSGphk50ubaAJPRvvLL3tRNbxpJcxcVgNskYImS94qauK3kqGlGXt8dph83L6clm8+SqCvyoYBEkjHPfL+SaZOmQCclxRinZXR393xafSpZ5sGu8uO0aWrzQajiijcZW7/6kC7I2EsjOvSlDdGi/+D6LyZzU1+6XkXET/QjJ/Ue5HP6ORUzHWdb84i2OGiS/eYHVENE/MfbaaD2EPpWhGukkBW9yNjnivjk3CI6NqkzOWx5SDX8dLr222oarW9KC26Kprrlf80gA9v1dLfWBxVXyNvY+tUHfG4ALbHQo2lnarOeQzkpzykpKYmSkp5TZpmAsU/ETyQ/J3Xq4XOankt0quqyNxnqTqY/xbPcmsff0lAdM1rszyUqP0czumrT+MOFtb+kHS4dyV5M/JRvq3I6N6MraY8/LHodQTX0eIcLdbR/deOv1wIqLq4iohpK2O1Bujqj6cBLAbMfyv+iGQa2tL7OYDyKWNuHjGZflD4NueoyeRvq0uRXHaRvh+qQ2WJ/8YnYFXTF25is6+iMEj8z2I74ibTDWYNs198V3yAu0CwjO9oQXSN2Y8O4a+hH0U1R3cmPEurTNO07k9vuROIrKLtRKj5IH2p70B4Zs0PiRdK63po0fHeKjEGNR5Hr+pD2yP0yCuXRnU+tSKV9/Yem+japoAqugr6JF0Ro1MV8OV2YZUR2G6JFNxpeBK3tY0SzL4q8yQtfQ1bqtYRjItGAZk+d3XZTIp+ISk6TV5eu9R6kRH/zaIsDadpvpgeiBKXtA7VpyLeiQZwXsoJ6GfvQlQpFOV9Cp726UNd6DzENVUWXvQ1Jd/Kf4tfMNfT426GkY7b41WtTqfbxKOpzW9Jw3kGJkiYUZNDeER2o74boOiz8YnNT8r0uGnS4AUvIQm8a1d0KGtwr+JTo50TqPXzo9PPihjdtXhR9bqtBzjsSZfhbMgeY71eybNLo+6YsyY3TKnr0x6e08WxKXV8azvqZ4rRpauMl2m0DTxM0GoAWh3JeLO7c18HgYSZIOHsN1TqEVOFguHWPQvDTcglAllAK5iQJewK0YGDRE1ZWVrCy6olu2izGPj3k1MiBhzGD8CKiUvCSowNDIy0A5Yg5/j3OJ3aB63A9JDxIBa9Gjq2EBch4yYGOoRG0AJTHHMf35xPRxXU49BIeILX+dg9eJH7cdQPlUEGf+b7wZOcgM18Iklc2IA3mEuYj9n42bAc7Q3LJhrDkJf4t7Qh9UQcRd+4aHlepwMHZFI/uJkkDxyR/Jnm2A4SMwDhO28LoKp/iyq/HEJnHsOFKvRN0tTtCR0c6xQTP/RGU3hseo0ykFywIkhEYmoehU8fJKFQVTj6+cNGIxZH9oai/u0hYFI1D3xxGTKmwRaA5YX4s7mfbYnAtOY8JvMYGuBH+iFB5D15j6qEaBf/CP+g5+nvNgJ0KIMwKQvALB0yZ2hNsCPAi9C6KnNxhHReIByUMOc8EghQFGF7+W4qO+gYQpdA5XHtcBRUHZ5g+ugsRS1KyfWx0ENHi8Iq7eBcRz3gKwG2lDWGJpZIQwRrUiIIVJqa6EHUlGuGJ5YxQQKkcYLxfVcu0CVO+chMv4qdDYciWF6oy47QaL45/hr1FozDNtgrPEh4j6q9N2Hw849U+IcY4bZradhBqE3haUwBo/aBdk4+CkiIE/bgJocZeGMXKQT6lIzCI0MeqRgKQBSmYU0PYk6w1UMx96qtjIwcexgzCsxjiifcdODi/YRpm+2xFfC8ndBdwkXgzCNVmZtC0kWMrVje4ve8AzvkNmDbbB1vje8GpuwDcxJsIqjZDA+5VVToen9iL7aeCEXAyEJyxqzDHTgUq8sqGNJiLxY1FbFJveHjoSwUTq6srPO3LcObTqZi7dCcSew+CQaUQGUE3wTHrJQUcY0kCyFTk2U4BMM6qrE1hdNWPj2Lj8hXY5c+wYbi9Fawt2kFQfzOfsBBP/jmOrzYcxENSQfnTSCQVN7w78ONP40LpNHw6w0RmsSq2a3DixKcwvjwNLuMW44vtW7Da1wcLdz6E7aLFcNNXbxFojhsbi6TeHvAQr45UZQKvoRr3boej2m086rMahQUBCHjUG2PG9wQbQGlIIB719MR7ogRFWlomVApjECKwhcMg+bHGDIIEwOoKV097lJ35FFPnLsXOxN4YZFAJYUYQbnLM0EtNVvvYsJ69GlNrTmDlou345sut2BnYDr17qikAt6k3hCXqSEIE1WEzaynGVR+Gz/iFWL/FD/vvaqB/H20GQB2koXuM9ytVmTaRn69CFEYdw7Yl63HshZzd2VJxKkTetVUYt+An/PHZaPSztYWtrR1c58ej5+judTmuKE6bpBbPpRSobeFpstUQgCagkoxkyqqD33GpuPhVgyQBWdIwJxkQMwWS7pN8eBgjCI9XSKlPU6iAS0TEp6KsHIlXXvJsxaPC1KeUIrqQ+EVZlCPLB7xCKijhU1VuMiVllEi895VTtgSYqyZmIzkMFL92kSVeIaU8TaVC8fc5Tl4evTK3JHBMGkBG1EjwmgQwrm1hdHwqzi2QDVt8VTgFr/mItsteOidbglw64+1OS64VKN6fI+BQdkIkBQZG0JNsGbZpFmiuhmI2OtBA8WvueoUxgtearIpiKmlgvJbkPI8KU55SqhgiJ+DkUV65QusR1ZRQxtNESmOixUmC2yRhibLAb9wCSk3JlVohKqpSFqBOMuaZ71fyJceGVf60ZtJWipIbrG0cp43QG0JWVertUgU9uX6JYgp59MRvNE05JGdlzf9z8e5up88O5zTSNgLK/nszrfn9sYLBrQ1U8YSuX4qhQt4T8hs9hQ7J+o6l1NsnQQ5F/nmEAjKYH6H/6zhVohyUaroEKTgwcQJuuyyCLYwxb/1EKFlrMiTMQWBANoaOEn1jYBTvMW4EqMBjTG+pb2ttLUHKAUyccBsuInIe1k80lf5WpdS7q/84TpWDkFLNk7AS5VWq0Nb6f3Km2DsuYWU5qlS1oXSnUq9bykFIKaWUUkqp/0xKqJ1SSimllFL/mZSDkFJKKaWUUv+ZlINQG+rNpjO+YWTblqpVyLhK1VezCb4S4hbloXFwVgHKs1LRClVK6c3OxTdF8mjJbavXMghVPAvAwc8/wlAXF3hM/wKHI7IgAABhIR7+tQ0zPdzh9cUFJDJ0Xph/Hf+bsRpn2wSJyUNK8B9Y/9EwuLi4YernvyM0XSJgm0JUVERnbAM1xT5vFtm2pWoMGVdBCW0aW3Jr/W8or41S8wm+DVQRjz/WrMHPJzdipNN6MMJZS5/g0jp3mPRagIstRf/WV2vl4rtMVIV8WvLr0GsZhLSsPDG5dw3iYgvQb+EX8HHtJloCyuqC/uOGoTPPEjM/m4w+mgyFCHioKC8Dp02QmGro4T4NjiqPEZvdB76b5mO4meQyIdlERZlSSGcEJImfLVYT7NM4Cmwrt6/NJJ+My6j6FMs2jS35aj3Ka2v7qvkE31fiIfa7pbhosQIr567Bti8mgBHOqtMHg0XoX7i1FP2LeqTTRuViY9SE/H8LJZOW/LrUSvuNFKiKrvsaU3vzJRQgscOJn7CDxs27RI0887XtxAuhlT3bk2HdwactkQI6439N/FREgf2v29dUSZFxmfXfUixbWW3kq2YTfGtVfpm8zTzoh0ajdsvo7PR6J1Y3W5Kk06aSUv+/SpqW/Lr0enYFVN9HQGgeOru9B2e1+r8QIjc4Dp1GLkaH2v+Ronx+gj7pNxF0LxEv1Dyw3mcgeAxkSGfxKC4sfoiLp0NRqEKoUrXH+PGOMOmkCXkd5ifcRnC6FoZsGwbJCRk/S4KoqC5qe/HDizgdWggVqoKq/XiMdzRBJ00VAPLpjB2e1Sd+XsJNXjukRT6G2ugv4OMo2ipWHBWGjP7D0F+dj8RTO3BVZw4+HWMm3kAoSW0cDdX71+vZx0m8iYyhfQwUWK4sEq6cGao0JdJMZN8mEj2neNsjJzwIcRX2WLZ8FPRZfDz+82sEGvtiWS15U2aZoifm+mTcyvS78A+NwZOKvli4wANdWAKkXPsZ11ljsewDAwmS6wMYGv+Lu1K2A4RFT+AfEI8iTi5yVF0xZ/og6JanICo8ArEPy2HjuwADs85i7/GHMPD6HAucdQEIURRzEsfuVEBTrQal7ftgzlxP6Es+2POzEHO9HuV1IE8hyVUW/dal6LJsX7URwVdKMn1SgbgLfyIk7CxEcNZfcWnEJ5goidoVx2jJ0yD4R6ejrGM1IiPaY8g+h3obJiVjfQx0k27i4q17eFEzAJ9M0MSdczfxWOiAOSumo397WaTTKtm56GuGF9duIuixGkZ/4SM6zBXFiArLQP9h/aHOT8SpHVehM+dTvNf+vlT+M9GI5dtfZhLJoLs2JwbXYRwrBNeC4lBhvwzLR+mDxX+MP78OhLHvMngYseSW2ZmFhrRkVCqkUbeqXsdIx3+8nQa216XJf0qy+wrp+Ccz6GAtHU0O5bOmOIQ+tdGgQV89IT4xkyGJiPipx2m6lT0tu5VHgpp42uaoTj3H7qFwudMtPr3YOZTUNN+vA8Y1kCRRkfiUenw6Wdkvo1t5AqqJ30aO6j1p7J5w0d8z0BmliJ+CNNrjoU2OW0WALyoJoBV27mJoGZ9SDk8mm5nnRLMzOdRGSfsoah8TBVYWCVeWvWRTIptP9Cy5sYB6GMwmEUGghp7sGUnmXqeIQ8xlSpJxBbxcOjq5M5kvvi06VoQXQet6d6TRv2aTNMm1SobtBJQXvI0+GPIJHRNhROkHD0N6b38yESeT7mwaTOq9VtHfIb/TNwdO0Sb3DmS6SIymqLpJC3q40tdP+cRP/YW8fE/LmeFLUl4VkVzl5IUMX7UNwVda8n1SQ5yCDDo/15T0ph6l1OwcqXMUxTXSkyO+NHnleUrlCSjz1w+oY6eP6BU0WB6hlEOX5hiRvsdK2nMqlJKenqd5PdWp74Yo2aRThlwUpO0hD21H2iqGX5YErCA79+9EvC5+Ch2ebEMzz1XIyH95NGIm+8vIInl012bHYAndWNCDDGqxKjVPaM9Ic/I6xWEukyRoyQpp1K2r1/BNSIisoBA8UXHECHeJ03ArwhFWPRieeqy6v+XxKvHk5lUkCUzhtWUVXDUAlZpkPMsyh7un6FRerS6VyM81RH+Np0hxXA7fQR1Qw7ZGP5v2APiIP7QLV7rNwTpPPbCEpSgtZ8HkvSlw6QDZEuYjIOABYO/56mmmvlRqkPwsC+bunujJBsCPx6FdV9Btzjp46rEgLC1FOcsE701xASA6+j+SbQV2fDL6r1qOEeplKLe0ha0aoKLBxaP7mbAfOQYWBrpQZxnBYYARstJSwUcFYi5ew7OqXOTmCgCwYdJ/JOZO84QmiuG/dhxWpk7GzpV2yD6yFyE9pmFiT7aUfZjbV417QZFgW7ERn9wfq5aPgHpZOSxtbaEGGe2TYS5+/G7MWvEU43auhUtnFlQHLMHRy9sxqv0L/O49Ayd7bsdPsy2hChb0jfRQFR2G+zxmv+kMccOAmmdIyBAAUEFP55GYPnY4NATMZUKQiuDwLDh4iGawLNa/eJ7MhpPbQKgB4AQcwuk0W7i76wFQgQb3Ee5n2mPkGAsY6KpL2U7w4nd4zziJntt/wmxLVYClDyO9KkSH3Qe0uqAyPxeG/TXwNMURy30HoUMNG9b9bNAeAIQ88Cqf4ObVJAhMvbBllSs0ZAacCmqSnyHL3B2ePdkAtNClMh+5hv2h8TQFjst9MahDDdjW/WDTniEvJH1V7I+141YidfJOrLTLxpG9IegxbSIAAdKPemPqn9b48pvx6MYGakoLUWXnDjddQJh5BvMn7oP+Zzsw2VwVVFqAQpYzRnp0lJ0vjD5RgZZuNZKTitF3mCdMDQ2gKxVEQmSemY+J+/Tx2Y7JMFcllBYUguU8EqIq5cc6BOmITyhGpwFT4DttGKysh2GQJeFlSjqgogHuo/vItB+JMRaieplykWXkgAFGWUhL5QMVMbh47RmqcnMhSj0T9B85F9M8NaXzX44/INf+MpMIu2etwNNxO7HWpTNYqgOw5OhlbB+l3oIY1MEQtwGoeZYAURr1hPPI6Rg7XIO5TAiQGhyOLAcPDNMEABZY/z5HMtsJbgPVAHAQcOg00mzd4a7X+kPGaxiEuIiOfACBjA+OvOhglA8Yhe51/62J0WtWwS5uO7x3xELTxhYmbIATFoBo7WHwHCCaqFfH3UZYnio07CZhtr0mikLDkWAzAiPE5bdXVYOmviG6sITIu3EQl6vGwGeCofzOlgXjdlQ1+niOgrmsmSYnDAHR2hjmOUD8qqA9VNU0oW/YBSxhHm4cvIyqMT6YYMgCwEdSUDgy1DrCcfIsOGpVICz4PgzcRqG3CoCSEIQ86oXh7rXtUUGPHt3BycxE/oMziNKbBg/DEuTmCgFBGq5EdsWkDzqB/3AvNhzkYLATH2e3rcO+7Fk4d34FbFSk7cPYPn4SgsIzoNbREZNnOUKrIgzB9w3gNkp8tL9U+6SMgevf70Giqw+m1xpLyxLOTmagf77FV6FWWLTKTYzf4ONZwjPwTCxhrqrAb2pmMNfLREoKHxDm4EaYLqZ6dUOVgjKFBaEITewDN7euYAEQvgxFWFo/DBuqDQhScO6368i1dIOHuK0lISF41Gs43A1ZYtfWt10F/vn2K4RaLcIqNzFAhP8MCc94MLE0B6rjcDssD6oadpg02x6aRaEIT7DBiBEGIltpjsaaVXaI2+6NHbGasLGVwQsS2zAsIBrawzwhclk14m6HIU9VA3aTZsNeswih4QmwGTECopCWnRcNfcXHw70bcJAzGE78s9i2bh+yZ53D+RU2QPkt+G29A4fli9FP/Nrp1o0omA9zQzdWOf7ZtgG3+q7EqkGaAITIvxOBZDtPjJT1QAagQoFPUBWL2CQzODsbyI6h8n+wbcMt9F25CqIq83EnIhl2niOhzwJjrAvzQhGW1Bsff+Iiem1e/RzP01jo1dcWQAlCQh6h13B3iNyrIBdVeqBHdw4yM/Px4EwU9KZ5wLAkF6LUu4LIrpPwQSfIyH9Z/mCwv6wIuP499iS6wme6uThGtGDp7AQzzZbFoJqZOfQyUyBKoxsI050Kr25VzGUKCxAamog+bm7oKnr3jZehYUjrNwyiNDqH367nwtLNA+ZsARL3TYG9nR3s7Oxg//EBmf1rklp9biUp/gv6bogaGc37W+LVTjndXDWbvq8jRMqmfBJxKWCJBelNO0MioKECMiQRESeG/CZ9RBv3/0CbNu6mG6nM571W/D2PurXvSStDJD6J8uLp9OloKpMkKhIRJ8aPJn20kfb/sIk27r5BdVUooDNKET+JqOLUR9TJfg6t23KUkvlldGyCLr1/IJPij++i089riJHaKGUf5vYxUmDltK+hTeRRIltI9OS/oG9dO9L4I8X08uZvdPYJtxFlSpNxi45Nos4OW+hhDZ/Sr/1Gq0frk+mCm3JIrhK244XTGit1cvJLaICytu/sRrsT+cRP3EHOGq+osuUXZpGR3QaKriGiqmLR65+aBNrtoUs6ow+Q3MOoJWm9jCRXeXkh4as2IvjKCACFPuFFrKU+RrWvVqVVfm4GddUeT6+q3EEuHe3FSG6mWCcqO/Mx6fcTYcqJiKrCVpO13of0W5pAmoqsIBeJKujUR53Ifs462nI0mfhlx2iC7vt0IDOeju86Tc9rat1VP//l+IOJAizDhnLpri2JQSLiv/iWXDuOpyPFL+nmb2dJlEbMZUrTkpnprpycFHqelERJSUn0PJOBM99Itf1MiN0JxoZaqMzKRFG95f+cqB9wsHoSZvYUPyvKoXyC/wxhUcVw8nTEiztxKFVAhgQESDuxFT9nmWPIez7Y6rcGo83VZLVMLB5ibgUjv6MThjnW+worzEeo30YEwBxpEkRFCNJwYuvPyDIfgvd8tsJvzWjUVcFIZyyWIn4CAFu3E7SS4qH+4cfowVaFnr4OMm7sxDWdaZjaUwUAyac2StoHzO1jpMBWSJNwpf0pnxLZEqIn2J3RRVeIrNADuCgcjck2ogYzlgmeBBm3CrF37kNn8DCYJJzFtWodUKoQg926Iyr4qTTFUsp27dAOLOgZGomeTgUZOOF3Gcbb92Np73bICQhEoo0XZok6gHtBUVAfMhwdwwIRF/ojdt0oB1T6YL6vJ9g5mciXs91FkvLKSImNC5WdF5LU4pq2IfjK2trD7BMh8mPvI9t2MJxlrogWoiDjJTg6hhBVGYPj359HYhdXDNdLwINUnvxYBw9RwdHQdHUXASQr7uH7rUFw3L0Pc81YUlRk5lysAMCGbictJMWr48OPe4Ctqgd9nQzc2HkNOtOmipeU8xsSVfPk3KcYKMAykkg+3bUFMZhQDbA7d4GuMAuhBy5COHoyRGnEVCZbmpasgO6qZWCBnlZWsLKyQs9u2rI62CS9htdxneH13S+YzdmDCdM/x+5ffsHujfMx/2BHrNkx6dXKITmUTwgKUVDSDvl3L+Glng10FJAhgUoUVptgkE4g5g8wgeWIVTj3Qt4uOQ6eXt6KrSdSwS+/g32Ll2DlqpVYtmAWxjoNwOif1OA+qqMEURFAZSGqTQZBJ3A+BphYYsSqc6itgpHOaFMlRfwEgHYdO8F6+iasdFQDwIaBkQk62X2EReOM617ZyaU2StoHTO1TQIHVkCThyjCZXEqkaouInoAatDroQ8faE94f1L7GUlAmKiTIuALkF5SgKOhHbAo1htcoFnLyCemBQaA+VtIUS0nbqTph3prRyLm4B1eCruPojn1In3kefy21hRpKERTwAD3GjBe9ykE1MjPzUP3sBoJV+sI06zFO7N2OU8EBOBnIwdhVc8Q2lpYkrZeR5GqaJTsvJKnF6m1D8JVeHKfIJ1zExiaht4eH9KpAAAAL3dzehwPnPDZMmw2frfHo5dQdAm4ibgZVw8xMU36s8+MRHJ4DdUE+om+fwQ9bDqPdhus4NtsCbEiSTlUUkFK1ALRDx07WmL5pJUSpZwAjk06w+2gRxhnXNl7QMP9V5dynGCjAMpJILt0VLYjB3qoA1LTQQV8H1p7e+MBE/IDPWKYMWrICumurq8VzqUarinKTYigkMJzi0qSn2UyUT25BLhXL5TLVJ0OWUfDmObQltISIiGpyIugnr16kP+UEyV/n0wjVJyqWBdPmOVtIVEUN5UT8RF699GmKvJVEEnRGmaTZqgIqqLeMipuTRYWyXuXIoTY2sE8T2ydJgVVEwq37O5mUSGom0ZOISEAFLzNl79FiKFOSjCsoyaDkLE7d/iducTEjuVVWbPGK0uh5WpHC/RL8sjyqBa7yCguohF9FuclJlFGi6EoFtN76JFeGvJDlq7Yh+MqQPJ/UxNBGh4G0WS5qt7bKVHqaIqbT8osoSxL9KyPW+ck7aWhHD/oxKYvS6tF9X9Utg3RaX5KkVCKqKiiot4KRSzlZhdLl1s9/RhpxIynAde2VT3dtTgwSEZGggF5myraB3DIlaMnNp7s2T+8WWbUmijY4TaIj9VaCcwOXk7P3BWr5m8vaKjaQ06Qj9KoKLgUudybvC61VQ8v0prdPqXdTFU+u06WYQuI98aPRUw7J/x7WAuUdGke6/f9HjdyTrNRboncLYaXiAN815tiycQf4I2zQqTofL170wJd+E9DyN5e1VfhijfkWbNzBxwibTqjOf4EXPb6E34TWqqFletPbp9S7KAFyQn/G/24/wEtbYOH3n8C4lV/0czOCsPdQMCrVbFH8bymEFjrK05ffEb2jUDsBKksrwdbWhlpbRaqgEqWVbGhrq72ZyfCmt0+pd0xCVJZXQVVbS+6pJC0qnVuKkgo+CO3AUuuATh3a4NuEUv+J3tFBSCmllFJKqbdByodkpZRSSiml/jMpByFF4pfi34x8vPXYnXoSVuQg/XWTqxohQUUOkjOKIXt7TWsBt6pRlJ6JklZE1vyn4hYhr3HEuLdLPA4q3qWkw9uad22v/2gQajugV+sBygTIijoMX3tDuHx5790YhIT5eHBqNYZ2t8aKZpGr2spvfKQFfY9p/cwx/ufnUrZuLeBWZbI/vptsDePxB5DMmHGt0c8KPLv6HRZ7TcSUGfOwcOFcTB03Dh9N+hg7Ilpj0KhA/B9rsObnk9g40gnrGYlxb64qn5zDTxeS6nwuLI7G8W+344s1MzHYvA+m/f6k3obZctz4+SASFCZjW9u+iXpL8+516TWujuOikqsOTfEu6tYDekmoxYCy2natfcCZAAAgAElEQVSy0c3RAcaq2nD1dJF5kOdbJ5Ye+g+xgLpwANyaQK7iVnKhLnZc2/hNBeZDHGHENkAn935SGyRbC7ilaTkcA41YMDJ0Q18Fkd+iflYm4uiSqfhfojt2HjmBaX1EGIPqZz9j4oi/0ZWR7tY48WK/w9KLFjh2ZS4qrQ1Q0gplvm7xk4/h8z9UsHaXtfhGJERJOmHg8s2YrSnAJyZD0f/LfQj55ABGqQGANgbrPMKOgErsfF8OX+Q12L7Jekvz7rXptSwEf1sgaRLtFKR+T26679Ev7xANq+j4JOoyYFMj91pIAsLaTjVxm8lBbyqdKpH121YCbtXE0hf99enjM224Z0qQRed9LEnddCadkdosU05/bfmKIlpszHK67G1GHj+kyYYSvg2quEubh3vSN4/lbdnlUtQGO9J2+ooe1XN6zf3NNHbpLdmXvBbbN09vZ969HrG3bt26tS0HucqnF+G3cBbWnOLA1MYIFjYdkfHPFVy9dBHxqoNhb1xHcMKTW38jMCYaAbcTwLbuC2MNQmnKXQRcu4S/7nBg7dAFz8/sxM4TSdAd6IjuDaYnfGTF/I0rVy/hYrwqBtsboaLR18poZ7/eaH/tG2zKGIavljkg/8qP2HnoHlT7D4K5VjvxVTxkRt9CQMh1nL1RAPPBVtCV+YKzGtmxN3Er4gGiAiNRYNAflrqvIFO3/g5ETHQAbiewYd3XGBpUipS7Abh26S/c4VjDoctznNm5EyeStNFdGINLJ04hrNIWTpZaaMd/jD/9TqPQahAstNvJL7MdAHARtPdzBFisxrZxBsi8ex1XL15AZKUNHCw00U6Qgmv7TyBZ3xG91J7hot9CzFpzChxTGxiZ6KE85oa03yBE0ZNb+DswBtEBt5HAtkZfYzWUNcH2gADpJ7fhG844+L3PwamdP+JkWBEMBvSFkXo7gBuEvZ8HwGL1NoyzYIqXdnUlVmfH4uatCDyICkRkgQH6W+qC0k/jy+8qMe7bKdCOOo/zN8IQl6kKM2tDaNZeys9CzN/14tOoQo4vdDHQsbvUDLnk+mpM2hgLR7+z8BvRSeJ9typshg+FiUo7+X1QK2OsrybuAg6dOYKDf9wDzPTB5WrBprcBVOXYQ1j8FEFXL+L8uVgIBvRCyYXv8HM0waQqHtcu/YWYmv4Y0PEpTu38EVdLLODSWxf5kUfxw28hEPZxqospAOBlRuNWQAiun72BAvPB6EnPpMuO7QAP+24APxmXv92LSA172HeTtJIAiT/OxJoSX/y2tL8URBLcdAQe2Iqfnztj277PMLRLvbPIax7iyP40fDJ3uFSWtaXt7btl4+aZEzgVVglbJ0totePj8Z9+OF1ohUEW2mjHGJP1884C1el3cf3qRVyIrISNgwU02wmQcm0/TiTrw8k4983JO5HXG3mPa4HaepSTBm9JAr2aD0KTqquJ8DvmdnLo0hxj6rs+gMIPfkU/nviRvLrr0JSTHNEFcqFbEuJn0KXVY+ijbyKoUMCj8DXWZPjJJapihEwxQc6aD64iXiStszGg6efKSSG4SgoQJu03EuRR8LYPaMgnx0hU3Q/kYfge7U/mN8n2JMijg2M70aBle+i7Hb/SlYDj5GujThZLA8XNrg/cUgS5kw/cyzs0jjo5+1EiX0CZFz8jn81XKUXqhJWmAufq9yOXDo3rSCzdSXS8ULqbDbssrw/M9dVwCijj/Fwy1ZtKR1OzKae4itkefD4Vn59JRlbL6MixrbR65nCym3aAMoM+Iwf1vrTBP4h+/Xo/HVjUj7Q891LU1R9p1x/fkVd3LRp/pPbxmEcpF9fRpJnfU0xJFd1e3JNc/BLllH1Y3L+T9LGhLrnueCjdeV4YrbbqSh+dlIBcCvIo9sy3tGCoEanq9qf5J19IzXwFqbvJzXSeDIO2ve2bDV5skHcKwItvUN41+h7XQrX5wgRpSJoE0EsBtIwZYCdRV5PgdwraWX0PQZFsWLHjkdx/FZaPUEdZuSVsbdXACN1qID7id8/CiqfjsHOtCzqzVDFgyVFc3j4K7RkhU0yQs+aCqwBBajDCsxzgMUwTCsFVUoAwSRCbAC9+98aMkz2x/afZEFVnBL2qaITd5zXJ9qgMRUAUQQgzfPzZAowbMRVTXLsgNy0VUsAtBfEiF7inXoE7wbEwHOoC/tV9+EtlAX7ZNhYWUk+HTQXO1VN1DMJjOWDbusBFR7LcemLsA3N9Klq6qE5OQnHfYfA0NYSB9ktm6B8bKExOh0A3B2nqPtj1ZwgenVoI3bI85BhaA09yMXS1N4x5hejeOQ/R7SZi+YcdUVreG/YOou8pxf5rMW5lKibvXAm77CPYG9ID0yb2lFO2NwCApTcdpzMLEbahn1T3+Q+vwz+rH9yGSxiJpQdHr8/wa3AsTowrxZE1frjJbfgnwsIiFFfKWGH2GmzfXPBiw7xTAF58Y/Kusfe4lqvtV8dJQdIaAr0UAbIUAezqq6nwO6Z28pOCEJ6hho6OkzHLUQsVYcG4b+CGUb1VGKFbDRt0Hd/vSYSrz3S84r85w8mMmCFTCiBnzQJXQYiC0FAk9nGDW1cWmMFVgDQgTALEVvEPvv0qFFaLVuFVdQl4xjOBpblqk2zPuxuAO9UO+GT1WJiyAQjSEPekBNaOjlLALeZ4kQ/c06yORdCdcrBjv8CEg5qYOsYSsgEfTQXO1ZOgBMWlBHZnPegz5CpzHxTVV4XY2CSYOTvDQKE9AAgLEBgUh5qOwzFtsqk4B6txPzgCRe114ew1FTbtHiDoTinUTEZg5odmqL4ThjiDYfC0VgH4D7F3w0FwBjuBf3Yb1u3Lxqxz57HCRkVO2fXEYsm8wVSnvMBLo37oL4/Sye6G8b4TYFaei1yJxWS8F8/xr3Zn6Wteh+2bBV6UzDtF4MU3I+/k3+NaH2rX5oNQ5Z0gxOgNhUevWm5QNAIihBji6Qp1VCMuIBQFNqPwvpn49/zHuHg1A87es2CvIkBKYDBSzCdh6ZQeYIOD8MBYdHf3hKVUoPEQHRAB4RBPuKoDQFOulWynENnBoUjq+RGWjDUBCzxEBd2F+vBRGKgqwItr1/HEcAQmT5qIpdv2Yv+2qbCRgQ6vTohETHEP9LOT+GV1HAJCC2Az6n286vZFXM1whvcse0CQgsDgFJhPWoopPdgAJxyBsd3h7mkJNgC2oQG6lOUjvyoT/lerMcbbHmqKykQlwoPvw3i4u3iQKUVYWDwshw6HAWXgn4B4cPmGGOLeX7RKpvIOgmL0MNSjlwir0MBvQHVcAEILbDDqfTMxdoGPxxevIsPZG7Ps2zXB9nw8CgwDZ8ScuoGj4s4BHEt/D6sW2AGV4Qi+b4zh7uZgK4oXYQIiY4rRo58dJN3BfxqE8CJXLPzKCxaRx3D8uZy1rhL9VOSLBmpvgR7d2RAU5CJbRvGCykrwFPWhnYL6quMRG98e9s59oaIwfwCUB+N2tDpGzp0B69oG85NwO+Ql+kxfhg+NWBA8D0Rodn/MXDAcnVCN+6HRUBkyAo6qgODFNVx/YogRkydh4tJt2Lt/G6bWBrusshuh6opKCLpboAfTQjVVNWj2doRDgyMPqxF/Lx58Sxm00tdhe7YhDLqUIT+/Cpn+V1E9xhv2aop8IJl3QGlYGOIth2K4ASHjnwDEc/kwHOKO/qp4Q/LOhuEex4ap1y6cO38e58+fx7kfZjI4sXFq40FIGpImCfRqEQitvpoMv2NqZylCgh/CcsIUiNhvjxEcUQkXTyvcC4pjgG41FLuDFjTAQdkrchXuRjwDTwFkihFyllDdLHAVeDEIimqPwcNM8dA/ErlVzOAqSUCYpN/EjoOhyHEQZJyA32VjbN+/FL3bNcH2gmQEBKWhn7sHurAAlIbBb3MURv6yH7OMWVLALWKKF7nAPSEyg0KRMuBDjHf5BIveT8XBn8PAKX+Ee4kN9400CTiXILHnRNUJPr4u0Ig9gv2hpfV+IURR9CF8czgGpUJmKFw7BfUJ82NxP9sWg8XEOGbAHMCN8EeEynvwGtPllcn/9UfQ8/7wmmEHFQiRFRSMFw5TMFX8ejz0bhGc3K0RFxiHspoaCNAenU1MIWK1ZSE6PBHlcsoGAG7iRfx0KAzZcvZiqXfShXZHHejU3X34yIy8jJuPazdMViLuxnM4b1yM/vUHKkEyAkPzMHTqOOlCX4PtmwVelMw7IY8RvPhm5F07xntca0Pt2nbRfC14SxiCSPZmfKIC1NQDeg1fbo8e89Zg9OyL2HPFAoOKwxGUPhPn/5oISzUAxWIQ2s6GILSSG8FQ+WJ+w7rqA8qGL4d96dnGXyvZTn4E/KI7YfgKO9G1vOdIShciJ/gaOBuXYrDpUow7uhY+48sx0dkU3fqPx9zJ0s5gW8/G6qnH8fnKRdCYYAYhmeODhTOhptoD89aMxuyLe3DFYhCKw4NEkKmJoldExWLI2c4GkLMS3AhWwRfzVQGufHCVvDJRkYaM/Hbgh1xA4eKFGCQ4i4KSIiT8uAl91m2DT94yzBODq/yWqKDgl4fIEAoREsnG5k9UIAht6DdV1jysGT0bF/dcgcWgYoQHpWPm+b8w0VKtiX4rAb99FyA3Dv4XbiIq5Dksf/wH8waI7CkCbvERcqEQixcOgokuQ7xABNw7/vlKLNKYADMhwfyDhZipVoI/gx/C0n0vurE7Y+L/1uLn4Z9gnGA7fviu4TcLgUR8lp5V4IsGUoHtmhM4UeSDZdNckDJ5EgbpVyIjgwM9V1+sXeyMLiygM0PMK/I992osknp7wEOfhTrAnFx7VOPe7XBUu23DyLrvJEIUBATgUe8x+KUnG0AxQgIfoafnXtErGV4a0jJVUBgTAsH789CpqzaWjjuKtT7jUT7RGabd+mP83MnQRjXuSJUtKr8w6hi2LclFxdAwrLeSniK1t7KGRTvBq82RwlJEHFiGWWcITtOmY4SFNroM2oV9Y40aPCXz40/jQuk0fDvDRKrM12F7gC8fvCjPB0USecfiisCLCT9iU5912OaTh2XzxOBFv0Uo+OvNyDubWY27x7WKWn2pg4SkwVsygF7NBqE1VOPhd41pZ30JqKKouOG1cgBzMkqmkoynlJhWJLXmv7HgqgaQM6LmgauIT0Uvs+gV/00BuEoKECYLxMajorTnlKbQccy2JxJQVW4qpRfK2BUhBdwihfEiF7hXT9zCPCqRucmmCcA5Bgk42ZQQGUiBEU8oW9afNzbmG9RXQzEbHWjg5gcN/dvo/GmcKopLqOFaKi4VpKZQY1ltVOVPayZtpSgZC7KIiIgXTGs+2k4PG7S3hspyMim3XE4nBLl0xtudllwrULg3qm1sT9Q88KJk3ikAL74peUfUhHtcy6Q8RVsppd50VSbghn8lnD/QxIEJm2H0x1n4tDawp7UkzMXdUzdROXwWRpjI+1BUjagvNyFxwdfwlrVISLpQ5Fzbhp3ZXtjhaytnQYlSb6uUg5BSSr3hEqQcwMQJt+GyyBYwnof1E02lF0W8ZRLmBCIgeyhG2TfisBjeY9wIUIHHmN7vxvFZSjWQchBSSqm3QMLKclSpakPr7TsiTimlGKUchJRSSimllPrP9Ia+WFZKKaWUUur/g177IMQtysNbxeASViAnPaeFhfBR+m8G8tsY2CEoz0JqNue1XSdXcmz21vn+DVB1eRHK3wmYFdB6YMI3W62eT++4Xt8gVBGPP9aswc8nN2Kk03q8+QwuIfIfnMLqod1hveKm/L9RAJsSZEXhsK89DF2+xL02u5mU4smldXA36YUFF8tew3XyJMdmb4Xv2w60yCRJqFt9cZ8cwMcui3G5bh90Y6FuACqe4ep3i+E1cQpmzFuIhXOnYty4jzDp4x2t1/gmqMVgQmE+rv9vBlafTWv1trWeFOWTAP9GHMUXHw+Hy7BFOJUjuZtXiKy/VsLTxRWj5++GfwoPvJRg/LH+IwxzcYHb1M/xe2g6+BAi/95pbJnhDhcXD8zYcgFPygGAh6SzazF18hysWPc5Pl3kgxkfTsXXkjee6kf4+oN5OFehqD+vJyde0yDEQ+x3S3HRYgVWzl2DbV9MwJvP4GJBr/8QWKgLMcDNrd7/c1FZ71BFRbApdjdHOBirQtvVEy5ttrRHB30G90IH2GC4m8FruE6eZNmsFXzPrUTDcywb+qD5apovW1siqFsNxk+wlto1Xp10Ais/+QL+3dwxom4zqAjqdjiAeSpRmXgU3s6e+CrDDdtOnMfJg7/i10MnsPuDSsSUd22LrihU88CE9f0jAK+iHGXNp1W+BinKJzZMXMegJ/chou+G4EFaw8FBmHka6z/7HUGxRejrsxyjeqhBrYc7pjmq4HFsNvr4bsL84WZQAQt6jhPhpPkMsSlGmLRyMmy1Af6jXZizKAaDdx3C3p3fYPeuGdDNUYWldYNjJ5B6+HPsCozDk2TFTzOvJSfaeB+SSOWXydvMg35Ie8sQXEXHaVKXAbSplkTVHDifIJW+d9Ol937JalMAWdnZ6aRvtZrCmkjBau51ciVpsxb6XpBznT79eDPVmby1AIn/NWiRAepWk3yWNn/xE216rxO5fpPUYKMiI9SNiARZ58nHUp1MZ54haa7bX7Tlq4jWaX+T1UQw4X/tn2ZKYT6Vn6f5Hw4je1Vdmv5X/Q3o6XR83lSa4mlA7RtgQngUsrIntTfyoSv197DWPKTN9u1Jd/KfVAvEKPpjDKlrj6fDBXWtoTO7fqLn9QJIkHeRVk1yIav2uuR1htMKPW652ng+Uo64C38iJOws/q4AdC/9iksjPsFEOy0RAMo/APFFHOTmqMJ1znQM6gwUPw2Gf9h9JAidsWpaR1zfcx68D9fDx1EL4GUiOiAaL54/wkvLOfhsrHnD6oQleBEZhsh7j8BzWIa5fVNxet9ppPWbj88mWKAw8hh+u16KoUuWw0PnX9z1D0XMkwr0XbgAHl1YEKRcw8/XWRi7+ANYsAFuZDBiOrpimY0KKp9exHcbN2D3zQ742OQ64u2cwA0Owr3EF1DzWA8fJznTnOJgBMf3gceveqhKvIT9hyOg/uFaLHPTr5uG8jKjERD9As8fvYTlnE8xtvakQ0E+Ht38BzE5PHTU74D0h+0wboNX3WGRwpKnCPKPRnpZR1RHRqD9kH1wqNt2wUNmdACiXzzHo5eWmPPp2LoDFJmva2BQFMWcxLE7FdBUq0Fp+z6YM9cT+iz55b+yWZV830tKZj/Hgq58h40bduNmh49hcj0e1r1f4Kf6PrCfCDtNSMfFmE5IiQpHROxDlNv4YsHALJzdexwPDbzw+QJnqDbWl3JitDQlCuERsXhYbgPfBQORdXYvjj80gNfnC+CsCwB8JF/eieNFo7DaZyCkyQICJO5fh0P6CxFn23DHjyDjEr78vRJeK3SwqZ8pRuzo0WBPEKtLJ3DjogGMkuGvEtzYtAbHC4Zj71dTILWftcMUbN5Qz7tFT+AfEI8iTi5yVF0xZ/og6JanICo8ArEPy2HjuwADs85i7/GHMPBah3GsEFwLikOF/TIsH6UPFv8x/vw6EMa+y+BhxJJbZmcWAG4kgmM6wnWZDVQq0xlzz+B5Q/88MDTGv3fvIfGFGjzW+6Au1WT5R7ec0fdyJ2GyYnD9+2gfq7isxucTwL0TgsrhH8E6Iho5L/MhhAlYECDt2Fb803csjMMuQXfYKAyu3ZHLT8Dt4HRouW7DsHr0P0GGP4ISVDBovkddfGnZDUAv3i7sWHcBo/6YDGOWNrw+XVqv9grc2fc3jDeux9C7XohLSAYf/WSf3cbPQsz1ejkxkNc8uzZGbTvG1RCnIIPOzzUlvalHKTU7h4qrmAFQfH4xnZ9pRFbLjtCxratp5nA7mnY4nXgpF2ndpJn0fUwJVd1eTD1d/GTUx2k8rEvAo9yjk6mz+WISMd14FLGuN3Uc/StlC0Q/R66zIYPp56icGgfnkyXOpTlk3Hc9BYQfpK9+PEE/enUnnSknSfQMIgcWRkRUdp/2zxpPqy9nEp84dGled+o66RjV8roqnhwh38kr6XwqjwSZv9IHHTvRRyeKRb9kgFExXiepqpu0oIcrff2UT/zUX8jL9zSVM5Zf32ayfS8luf2sIU5OAK2x7UITf3tBOcVVMnxAcuJCERiujUGLgjw6+bEh6brukDiaRiw5UDd+5lXauvZXesARUNm5GWTQczkFSRx9IxfqRkSC3EM0riOLdCcdJ2auGwP8kJNJdzYNJvVeq+jvkN/pmwOnaJN7BzJd5E9caj5QsQGYUEHuSfmnpphCPrUhjUFf0SuuW/PAdDIlNwYVl9WkfCIeha+fRttjwumzPmrUe20E8YiIn/IHzZm5n5482EIO7bVp/KupDPFf7KShqmzqPmIRrf/8c/pc/G/tlL6krjqYvn5a/95TRhHbhpAuW5vsV12nHImZcM2jnTRvUyhx+Cm0a5gq6XqdIflzoRbAHZuoNv4mpAIt3WokJxWj7zBPmBoaQLc9MwCKjUIkpwugm5MGdZ9d+DPkEU5NSMLacSuROnknVtpl48jeEPSYNlFGfVqNh3WxWPj3eTLYTm4QMd0CcOh0Gmzd3aHHAiBIRXB4Fhw8hkETjYDzyVQ17gVFgm3FRnxyf6xaPgLqZeWwtBUdPSIXFiZIx1HvqfjT+kt8M74b2KhBaWEV7NzdoAtAmHkG8yfug/5nOzDZXBVUWoBCljNGenQEE4yK+ToZEvLAq3yCm1eTIDD1wpZVrtBggl01sJkM30tRnpn6qQIN7iPcz7THyDEWMNBVl/ZBsb+cuFAAhmtr0CJLD9NPZ6IwbAP6yXjMlAV1E+b+g693peD9/y3AAC0uQm+GgD1sFJwkzqiRC3UDUB0TjlgOG7YuLjJmX/XMzgQ/1OqCyvxcGPbXwNMURyz3HYQONWxY97NBezQXqCgBJlSQe1L+UalB8rMsmLt7QsR1az6YTtoYTDHIXFaT84n/FAEp3eHe1xzdDYGczEzwBck4uDkIzpt9oREUjCfsgfAc0anW28gPCMADOMJ7yyrM9fGBj48PfHymwKA0FQIrD3g2YDRow+V/53FiiQWe7ZuFGXseo24NkCAdx37OwtjlQ6DF7oY+Vl1R+SIBKXI/C7UA7thEtf3ChKpYxCaZwdnZACwohnAJCwIRFFeDjsOnYbIpCwAfD/duwEHOYDjxz2Lbun3InnUO51fIYIo0BdYlfInQsDT0GzYU2hAg5dxvuJ5rCTcPc7ABCAtCEZrYB25uXUVGUgDnEyTuwxR7EejJzv5jHHghAPhJCArPgFpHR0ye5QitijAE3zeA26jeUGGAhZXf8sPWOw5YvrifiO1TfAs3oswxzK0bWCjHP9s24FbflVg1SBOAEPl3IpBs54mR+iwGGBXzdTKlORprVtkhbrs3dsRqwsbWBMQA9JOymYTvJcXcT6AkJASPeg2Hu6H46gY+YIoLBXCy1wJaZIElx6xSUDdhBv6YvwJXMx7gt9VzMddnNrZczkO7pJNY+X0I6i/2lQt1AyAoKUYpsdFZT5/hWJ8KZvhhdRxuh+VBVcMOk2bbQ7MoFOEJNhgxQuTDZgEVJcCEinJPyj+cMAREa2OY5wCIuG4tgQI2FHMMMpXV9HwSpPvjUWc3OKp3gbGRJqqy0xFzYDNChmzFgp4lCAy4B2FfD3jWvUctQ/DtKFT3HoWJrtawEuMTrLpnI+FxNboN86x7yOFxuSIMBssAY76/iL3j1RC6YweulAKAEIV/78a5HA4Ctq/E8uVrcSGFDWFKIhLlrjhoAdyxqWrZREqxeBFrqY9RLZedR+FrrEjdyY8SameRNQ9os31nctudSHwiKjntRV26TqWTtTNSfiL5OalTD5/T9LxYwSfNmke0xUGT7MWnDPMfb6eB2kPo26eiV0UhK3qRsc8V0auEomM0qbMDbXlYQ/z0a/Tb6tGkb7qAboqnluV/zSAD2/V0V/yBseKKNxlb1/vgyA2gJRZ6NO1MmehnTg6lPE+ipKQkSnqeSWUCIkHGXhrRoS9tiBZdxPVfTOamvnS9ioif6EdO6j3I5/RzatitKrrsbUi6k/8k0aS+hh5/O5R0zBaLpr3l52hGV20af1j8wqXmMe1w6Uj2m+OohviU6OdE6j186PTz4oYfgBmvk6GqYtHrs5oE2u2hSzqjD9BLAUP5MmzW0PdSFTD3kyroircxWa8Oqzt9vIEPmOKCn0g7nDXIdv1d0bXlF2iWkR1tiK5phC8VxSifEnc4k0ZdP8vpwiwjstsQ3bgP7kRUfPBD0vbY82rhAD+Dwk4docOHD9Phw4fp4Lbx1F1rIC3Yc4COBKbWW5jAo8h1fUh75H6Z5fLufEpWKu3JRWIxg7gSqqjgEvHCaY2VOjn5JdCr7m0m+85utDuRT/zEHeSsYUvrxU4svzCLjOw2kNh0xH/xLbl2HE9Hil/Szd/O0hMuKSyTyv+iGQavylSUe5L+4QYsIQu9aSRKNQX+UeD7hlIQg0xlNTWfSECZv0yl2SeKiIhHdz/rQ+31etLAjw/QCz4RlZ2l6V3aU+91ka9O26/4m+Z1a08WywIbnGrOC1lBlu31aOb5cvH/lNDpH3+j+mt/uDcXkLG6G/2QLiDihNL6yesptF4eVl36hLqqOtCWR3KiVvL+1iS7Nk1tPBMSIj/2PrJtB0PM4FIA4eIiwj8CKu95oY6TRTUQ8ZVMYCqiaiErOhwyGHJNgnUVxN7BfZ3BGGaSgLPXqqFDqRAOdkP3qGA8reYhJigK7QcPg+lDf0TmchXC+aBlAIue4ieVnt2gzQJKQ4Lx0HICpojIeHgcHIFKF09Y3QtCXKkcWJiwBC//LUVHfQNoAODEncO1x1VQcXCG6aO7SMzMwEuODgyNtACUI+b49zif2AWuw/WQ8CAFlXJgVMICputSIbl1hxf5I3bdKAdU+mC+ryfYOZnIFxID7ErSZnwp3zcMDeZ+JpU/gMjkergXmQq+JHiwRn5cMIPoOG0LWnqjhKAAACAASURBVOQm4uJPhxAmj+gGGVA3tgmGTpsDb29veHt/glGdOSjr9xE+XboQc2pnBwAz1A2AqpMPfF00EHtkPxpy3YoQfegbHI4phZARftgOOQGBSLTxwixR53AvKArqQ4ajY1ggRFy3pgMVJcGEVYy5JwmY5ONZWBSKnTzh+OIOXnHdmgmma0IMJqbLL+t2ZEqT8gnCHPx9swqOQ3UAqKB7d0OwyQq+fr6wZAOV4bcQVqaPIR6i2R4A8GJuIThfF0NHONU7OZyPeP9gZKgPhucwMeGWn4KEyzdwO7M25oTIS05FRS9XuBrW4MH32/Bs1BIMqbewQcXSEmaUgoQE2XsdWgR3bKLaeBDiIjY2Cb09PMQrqsQAqJyL2HMlCNeP7sC+9Jk4/9dS2KoBqL6H2+HVcBs/8tU7bRUbzFo6DtWHfTB+4Xps8duPuxr90UeKr/QK1jW+JxtAqRjW9Z4I1sWvB+uy7Qf1/AKUFAXhx02hMPYaBVZOPig9EEHUB1aqFUjLyEe7rBBcKOyJQXpFIuhdeggi2b1hptIQfqZnI+sNPBcRwdHoNHwU7ERkPDxPSocwMxjXOJYYMHAWlo6rxmGf8Vi4fgv89t+FRv8+0GZ1haunPcrOfIqpc5diZ2JvDDKohDAjCDc5ZrC2cMP7Dhyc3zANs322Ir6XE7oLuEi8GYRqM0v0n7UU46oPw2f8Qqzf4of9dzXQv482WN2YrjOD5GKeqvTHOLF3O04FB+BkIAdjV82BnYqKCHYlo3xAwmYG1RK+l5CCflqWx+FhhhDpIZFg9zaDSi14sNYH6vLjolQMJxvfAE72DDeCVdDXqkyBL/WYY7RUDA4b3xAc9uxGMFT69oawMArHti3B+mMvIG9/nxTUrYFKEBwYh+7DXuGga1ULdftUJtQNgIot1pw4gU+NL2Oayzgs/mI7tqz2hc/CnXhouwiL3fTBEsMPcy7uwZWg6zi6Y58IfrjUFmooRVDAA/QYMx4i01UjMzMP1c9uIFilL3qrAlCTD1SUXWYtmDALIRcK0XOQAQRMuaci4WcVAQoLStAu/y4uvdSDjQ7zPYTR970lolxBDOpHyC+r3zDPxueTMAcR+1fhO/9UPPwnEv8KWOhi0h9eX++DryUXz/z3Y/Xmc8gS1CDj7lXE5gjBeXoZW7eeQKpAiJfRNxBXKAT46Qg7tBHr/ngCPvIRd+MOMqoB8J4jqzgVfyxYgm+OnsXJH5ZiztEO2PTbMqgdm4uZ3yWgujgNL8UBJ8x/iCvn7yJbWI7Qw9/jn2TpgUjy/tYkuzZVLZ5LMakmhjY6DKTNDySmbM2AcHELUiml0VQt2WoA6xKUUEZyFr1iuhVTfaYbv+glZdUjUTUKzqdAgooiiRVi8mBhPCpMeUqpYtiUgJNHefWpWLxCSn2aQgVcIiI+FWXlNARtyYNRKbquwZ8WUAm/inKTkyijRMJRcspvYDN5vm90P2uoKDu3QftkgQcbFRcScLK2BS1Wkf+aSbRVLtGN5EDdFKgJUDciAXGyEygyMJAinmTLhJI1FqjIL8ujhly3ZgAVJcGECnJPyj/cAsqVpFU2G0wn1WrmXGMqqwn51Kbi5VFusYCIX0zJ0UEUFJUkblNL1Dpwx8aoTU7Rrky4Af9KZ3ygeQATNhvhj7M+0nsWlHon9f/b90Lk3j2Fm5XDMWuECcPiACXUTSmlatUGg5AAKQcmYsJtF4gYXOsx0fRtR3Ap1Tgpfd9YKaFuSiklUhvxhISoLK+CqraW7N24Sr3DUvpeKaWUaryUUDullFJKKaX+M/2/eVuvlFJKKaXUmyflIKSUUkoppdR/pnd3EJKiezaB6tgqNNXGqGXEVX7pv8hoa1yrUu+4BCjPSkXzQaA8cLnyN+YqpZQivYODkDTds/FUx8bQVBvbDGYSZIuIq4IsRB32hb2hC75s4sXC/Ov434zVOPs68aFKvZkqfYJL69xh0msBLpbJGkiqEbXFFdajluHbvacQXfTqb0oT/XHoi0mw6WqCmX/VHs8gRP5FX1jpdECHDvX+aXeC05YY8Z/k4s7xH7BtlhO6910J/1aBEyr1NusdXMAkTfdsPNVRHk21OZJFguSikqsOTfXmEVe5lVyoiy6Go4MxVLVd4dlUXKuAh4ryMrxuQGVd29+wstper3zettVUgquu2bQl3Dp9MLhXB8DGFW6y9isJXiIs8BlsF1zD+tmdJC4dhVljb2Hn3jJ4uIlPDOHcwcHb3bD973DYdVFFOwCojMI3q8IxeYWj6G9YBhgyewW6Zp7FD4W26NfCzfZKvf16B2dCAEpDEfyoB9w8ao83KUVo8CP0cPOAiaJtK1LXNlMsQ0z64SoOzrUW/SzMxY213vj2nvicJeFLBIakwH5E7UnATBIi98ZaeH97T3wmlRAvA0OQYj8CboovlmjWJPxw9SDmWr+u/TuSbf8/9s47LKqjC+Mvu0svAiqCgEhQFGzYULECltij2HvvXZPYkCgmKpZYYo8aWzR+USyxoyIWYokRFZFIl470Xdh+vj8WlLIsIF3n9zwp7J07c6bcO3fKmbe6xFUJFKzzCkvmKpZN2oTSJyPAPd9nqNfVGY2VNYeMB3gYZIdOTsqkCWQI872HKDsXuNTPeY1wmmPm1nUY1dUBzeztYW9vg+wrZyCavAaDaud91aTB3/8NGjt1VpyqzfiiqeCRkBxpr6/B+8Y/CJE4YMJgHTz43zW8krfBxAWj0erDkWsyJL24hutP4iEyMIFeZADUBq7AMJO38L15D89ey9Fh0SgYXNmBs6L+WDe5bZH3jGjCzaeICiC/quMH24pTBi1QNMIIPLx0DXdeaeLrVZMVh1ciFY/uRaFV11bQkgbh1E+XUGviUvRWf4Yrdz4qQTaPKKDk2fobtMguXnEVAJD1Bt5eK7Fi6zXojbTElZet8U2LbPj6voSd837UzQ7C+d1H8FCrP5bN6/7xnLZCKrQWiH1yBXf+CUKIpjO+n+wIjdQ3Ksq3YFUqUxnlICvyb9z0e4JAQXPMnOGM2hwZwi7vwRXOAMzrLspve4A1bGOu48Y/IZA4TMBgnQf437VXkLeZiAWjW0G9NHG9bI1vWugUtlMch6c3HyKCn4H4DAsMnNwLVrzcLJRGSXQ5ZnQwzBPtU9x8GAF+RjwyLAZici+rnLakvB0OoIuF61xHSbtb3BXyEqh3llR9tvU3LaCjtP5zVYjlSHtzBzcfRyLDQAz/h+rovKtNobMDAUD0+D6e1XXEUmVfbvJY+PgEwsp5Oz7IaekYIe94SRq0Gx7+zth4ySp/mxY+xoN/a6PDokYqTpVgfDGUy+E/KuHT+YlmZOK8kHac8qPgN2dpaiMtar7iUc71DHq2exwNWnyBYqRE/PNTyaLOEDqWTERSKaWeHUtmtvPot2M/0OKx3ajFqCOq7ymgiEpUQNWRqITKoIWRRewgZ/229EPO8edptxZQix5eiqPYpWF0ZKg9jf2fgKiAEqQyRVDViqt5kPAp/tYSalb7GzoQkqNOyj9PE82b0/e37tOh9dvp5PYRZFHLjX7n52ZPuQqtJPUuLbXXpvbrAxVnQhVZvgXyrUJlVCZKoKNDjanhbB/FuXyih/RtUwP6en9c0babmZDzwh10yi+Y3pydSo20mtOKR5LSx1UAadR5WtxvGG18mEwy0X1a0sSUJpzPpk9XEiUiklLU+cXUb9hGepgsI9H9JdTEdAKdz1bddpXVufJ2l168YmUp1GdV1T+RgAJ/m0ZDF56lcJGMYvb3JQOjYaRcCFRC/7q3JtMxfyp9Fuj9bzTY0JJmXCvi/DBpGO0f0o2+u1f4NDXJs9XkUHc4nUpTfivjy6LiB8OySLx8nQojBzdMG9UVtk26or0NITosEoAMkUcnYfiJJvDcOAj1uYAkPRnZLXoo1m64QHJoJGSG8YjQmowtJ+7ixanxqu8poIhaSNWxxMqgheGYtYGDWSwiwqWA4Am8L/+H7IQEJMgAcC3RqucUjHLVAQooQRZW8lStuJoPnjaEL54hpnVP9LNWqJOK/7kDf64tuC9D0WrRfLhoZSDTppnilOci1UYBniQU/8U2RA/XnC9QpeU7qUD9qVYZ5XDe4W0oF47d20EhknkYpyOaoUePukptl0W+xOtUIzi4TcOorrZo0rU9bCgaYZHiUseVD+lLbB23AG8GbsayTsbgaDhgztELWNdLqwxKooD05VaMW/AGAzcvQydjDjQc5uDohXXopaW67Rau86LanYFqxcpSqs8WXf9yxPwxHd/sMsF3Pw1FQw1C+vtkcDr0hFIhUHkCHjwMR3OnTkqfBf7dm/BX74KeTkp1OhB3ZhWOGC/F904F75Yj4aE/wpt3gVMpp5IZnycV3gnJE/1wL7gpRk7Iaczit3gbwUHj5s2AzBv48YcHaDN/ds4CZSpuXH2Ehl27oz4HgPw9bt95DolBN4wa2kBhbDH3FFL3LKDqWLTyqJJ7C8L7Cl9Z8BETk4R//3iEuqOcYZqWgAQ5IIu4CP86Q9DXCIWUIAspRapSXC2UaBru3n2Bxt16QCEwKkXwnfuI0jRA26Hj0FY3Z16/ey805alWoeXfu4XH+l3h6pAz+aKsfAtQrBJutB/uRbRE1y76gCwM/ztwBQk23eHckKvEdjkS/e4huOlITOikeDmJ375FBKcxmjfTLGVc+eFf2YYdQU6YPDpXf0cXNh0cYaVTFiVRPq5s24Egp8kYnauroGuDDo5W0Cmu7Rao86LbnWrFytKpz6qo/8zrWLviBpovXASFEGgSHjwMRQvXnsqlNrL88eBVQ3RyMlHSLkT4++Y9iBxd0V238K3ylMtYs02IGWsGwLjQzVnwf/AKVp2cUJ+tBzGAip+Oy/hjJJm0XEVPco5cz763mJrU7U8HImSUfWESmRoOpRM50wGSV5uoSy0rmp07D5F2mkbUrkPDP8isUrH3FFT3zK/qWDpl0MII6NQwI2o98VvyOBpK0oxjNNiwD+2LeUnHt5ymtzkR5leCLKwUqUpxtXCSF2mSeRNa/PFm2umiR81XPFYoHApv0uyGDWiaQq5VhQqtkG7Nsaa6o/6gjNyflJRvfopXwk05NoSM23hQgERKkZcP0OKvTajBjGuKqayCtlMG/THShFquepJT9tl0b3ETqttfoQpZurjy2/loeTPS7vATBRU8e74sSqKiR7S8mTZ1+Cmo0JH2xbXD/HWuot2pVKwspfqsivrP/N8YqqM/iD4Kgf5EnQxa05rnyrUQRHcXkq3lVOVtUuRP3zbVoW5bw5Qc9Z9Bdxa1I2evQOUyESI/WmRrQVMvl48MAKPmU8HfIiI88n0MHaceCmE3wT/Y9sMdtN26C1OsgLTod0g3MEE9hawh/nf5FbJ5bdChwQv8HSyC8OFNPOT1xogPMqvyYu7JKKDuKS+g6hgPUYmVQZX5TXBhaKSL4Jda6D/yK3A16sKkVhSubr6MWqOGoxEPAAoqQRZUilStuBogyJ+i+F9f+KMTutX9B/6Km+EbYIPBbq2hAUD6yhcPszrB1fYf3HmeXrQKrfQ/3HuUCkfXtgh58BzpgJLyLYxqJVwRnj54hlodu8Ly9RlcFtcChcvRsbsFHvm+KWy76BF8H+vAqUcLKJrDNvxwpy227poCK04p4ypQL3q62gA/Axk5JyFKY/7Gw/9EUK36WYySqEwPimgzoIhWipi/H+I/UXHtMLNAnRetSKtSsfJVYunUZ4tUIZbjfVQ0+LVMoRACfYLj284iqLYTutV9jX/DC26rkyHswd9IdOgMRyWzbbK3N3EnsimcexWWqxA+3owVD1yxfq690l1PsoiHeJzUGp1z5HYFQeex78QjJDF/1y+Wiu2EpC/hez8eWrIkPPb5Az97HIHaiis4Nt4aXHBQx8kVrTP+wNLhUzB3cxCatq+HLHkU7lzjw6qxGv7xuQ9x90Ho+WEXXXH3SAuoe3IKqDqao3mJlUGVFY0aDIyaYLT7QrTVBMCtBzNLI7QYNgsDP4jmFFCC1C+oFKlacbV5vukNOd4/D0CUPBJ3/bloasWD8KEvHht1Qy/FzRC9DUakPAa+l/mwcWhXtAqtLBnv09SQ9Pd5RNe1Ry2IlZRvQYpRwoUESe/TkHJnO9z9zDGiFwfxSYTI23dAdo0K2S596Yv78VqQJT2Gzx8/w+OIGlZcOYbx1txSx5UfLpqMX4zhkpNYOGsdNnr+gM231dC0kWYxqp/FKIlqN8H4xcMhObkQs9ZthOcPm3FbrSkaaRbTDm0yC9R50Yq0KhUr7euXTn22SBViDup374M2/LNYMWo8Jv/wEo0dLSATBuHaHTGsrArujUvBw4fBaNrJCfnc6uTJCLx+HOtXHEIA8ZD5xh/BqXl6D2kgdn7njeZrvkehpaAc0v398aapEzobKsr7xZGVWDB/K25lFtUGGZ89FTnMkoZupi4GzrQ9OJYi8ior5kGUHEZvwpMV0wkyPiUmKg9X0nsKKqIWUnUkKpkyaBFkv3+fZ7eQkOJjkwvbW0AJUpkiaF4KK67mQZJCcapvppQCNxelNip8n0AFBSpLhAoVS1laFIXG8umjSGbqR3XJfLZLKXRzFzJw3k7BsRFKy7nkcRWBJI2i3gRRRErhKbtPVhIlIklaFL0JiqCC0apqh0rrvCjF2/wGFFCsLJ36rCIZ5fUvSg6nN2HvFdOb0hSKjS+iPLMv0WTzxrTAt8h5aeVIUigqLL7wDs+PEdPV6Q0+Th8SEUlTKaHsMqCMGkyFSjkkHRkE2x2tcPupJ1p/hmczMEpDEo4MssWOVrfx1LP153hUx2eD9PEKOPS4gyHXfsOUpg1hbVL24x5kaTEIj36ITW7zkf1TCE646ZWDpYzPgQqbjhNG3cHOw77I0pQi9V062JTvl4wQUXd24rBvFjSlqXiXzlpDdUbNfAg2nlqOtin/IeK9sFye3ayEELwOUUf/zX/AvTfrgBgfqbCRkFyYjjSBFAQ1cDT1YKTHDon6cpFDmJ4GgZQANQ409YzAmgODwQCYsiqDwWAwqhDmLsZgMBiMKoN1QgwGg8GoMlgnxGAwGIwqg3VCDAaDwagyWCfEYDAYjCqDdUIMBoPBqDJYJ8RgMBiMKoN1QgwGg8GoMlgnxGAwGIwqg3VCDAaDwagyWCfEYDAYjCqDdUIMBoPBqDJYJ8RgMBiMKoN1QgwGg8GoMlgnxGAwGIwqg3VCDAaDwagyeBUZuVwux/Tp0ysyCQaDwWBUIu7u7mjYsGG5xVehnZCamhqcnJwqMgkGg/EFc+LECXTp0qVcX4oM1ejp6ZVrfEzem8Fg1FhcXFywevVquLi4lF+kokQkZNVBPaPPYLWiBuSl+lrGYDAYlYk8AX8fmAFHMxtMvyCoamvKRg3KC+uEGAwGAwA49dBxwkA0U5dVtSVlpwblhXVCDAaD8QEOONyqtqG8qBl5qdCNCQwGg1HdkSf4YueOm8gy1IckKwRvhYDhh6t8BHkfwtkXsYgICITQYS42fGuHlxtXYvsDAezHrMOaSa1gmOSPXWu2INRpHXZObMbyUgpYJ8RgML5c+H5YMcAdWnuvY207HciCvXBjozznohwxv8/DmpjvccrDDpzIX9CnxTjMtXiBc1O745ed3yFktCkMOQCnrgU0ZA3Q363qOqCamhc2HcdgML5Q5Ej43xYcUuuNEa11AABcq2ZomruTTBaCE3t8EB98Amvd3eFxMAjajYzxLiAA4gZjMX+4EfxOnkakDJCFncOrBmPhWr67l7+IvLCREIPB+EKR4NXTF8gy6ANjtTw/5/6/JBhvwg3Q0csDnk4ait/WfwzWa8Y4WHc/hqOvZsLtWhgajZxXhS/UmpsXNhJiMBhfKGrgcbmQvQtHuFTZZW1o8SLx6GEUPu4xkyPl1QtEygBe6ymY3CEEpw4ewJ9JLTGicVXuAqi5eWGd0JeKKBEJqfLiwwEQJcUjRVnDLoQUQmGJApYkVSQmpKIoC6XJ7xBXvd0fGNUeDTi4dEWd8DPY7R2jeDkLUpCaLUeWgA+5Zhu4dNaD/8YZ2OAXDxFkSH64FavPvYcxFwC3IcZO7YWUI1sQ6TgE5lX6Nq3BeSFGtSIj8DLtXtiLbM3NyXb0UYqRKQmUeZUWOphTffNWNHTNSXoUryxQEcjiyX//dGpvpEcDj2SoDCoKu027pzuSkW5P2h1XfBrS8F00aMB2CpGW3BwlBlLqv0dpVgdj0ht4hJRaKH1DGzpqUu1x5yi7LEkxajzOzs5069atT49AFkNXlveg+gbm1Ka3G01ePJV6mJtT+3E/0Y0IKUkjL9ASJxNSV+ORjpEVtZ90kF4I8tzPv0FznefSTX6Zs1J2amheWCdUDZFF7yRXLS6pabSmNc8kBa9SzK9uZGWoTVzjsXTuU97C2Rdpkol2sZ0QEZHw5iyy1HYtQSckoWfuDqSubk/f+Qs/wah8qdLlqfVJu6hOiGSU+voBPYn6mI4s8QHde1mwrEqLjBIf3KMyR8OoNMrcCeUgzYylyDg+yUhAGZkFG4CUMmPDKCpFpPReAV+g9PeqoqblhU3HVUM46pqo06Mvumi+xKGdV5CW96I0EEf+0sfg3rWgpq4B9U9LocRObGqaWtAqSUDBLRwNssPAhm9xfE8Bmz8BDkdN1VUY2jmhnaWm4k9pKI7MnIq9QeIypSkNPYKZU/eijNEwaiBcPTM0MNUFBzrQ1yu4JM+Fnpk1LI00lN6ro6tT8QaWgpqWF7Y7rprCqT8C89z+xdizO3FiTX/Ms1b0GoK7v+JJi2mYHHMde/LdIULoha049EwThohEUJQeei9bidHNFPssS+3EtqovLEu8NilHgvcZpPffjHVtwtFuw16cjBiMuQ1zv3GEiHl0EaeOn0ZU+4Voef8H7I1wxZ7Lq9H2/V0cOHgb6RpShPwbB/s5G7C4R45llI2Ag/PgdeQeonS6Yfn+7Rhlo4bMkNs4c/x3eGcNxpnNrni9dwk8/4pALa2N8Ex2wfQZPWCaFQTvQ2fxIjYCAYFCOMzdgFV9LcEFII1Vkma7d9i7xBN/RdSC1kZPJDl2h+mTfdj3rAlW/OmB9hHXcXj3PvyV2A0/HZsNs3+V56dZqDcOnX2B2IgABAodMHfDKvQteUEyGF8elT72YhRPwn4aPfUcZTx1Jwd1dbL79iEJiYhk8XRs4mjaGyGgv6aYEa/eZLqUTUQko8QLU8nOaS09FxIRSSn88BAyq9OTdgZJiTLv0nftutCaJ4qhtvTNJnLS1MyZjpNR9MmJNMzrNUmISBaxi3rqG9PAQ9EkIyKR3yJqXNx0nDSYto2aQxcziGQxB6m/oQa1XPWEPg74Myn22U4aYKRONkO20MVbZ8hr41kKSbxC87qMoMMRUiIS0ZNVLUnLeh7dFgrp6nRz0rB1ox0+USTgPyMPRx2ymuNDQpJSSoQ/bXDWJa1BR4lPRJR9lsYYG9KoMzlTCbJoOjlxGHm9lhCRjCJ29SR944F0KFpGlFxUmkTZZ8eQseEoyo0m+9w4qm0wjE7l/J2wtzdpW8ykG0Ll+fkv8iRNHOZFimQjaFdPfTIeeIiiS7Fkxygd5TUdx6g62EioGqPeeibm9t6FWUd3wPvbDhj+/hgu6YzGQSsO7ucNKI/G6R1nwOnmg2aaAMBFw9HzMGRdX+w68AAjWiic2O4WcGJLAj46sTU1x1p3DkApH5zYhDAv0VBZ/PQYHn41HnP1AY7+cEwf7IHhR/fhxve/YoA+AOjBrFlrNK7Lg6D7CPR3scRAFxkitvfCOcs52GTFBcBFu+Xn4DdcG600gdsAuE0GYLKrJXRggq7t6sIrPBwCuMLYqjVa2RhCLVG5PbKQE9jjE4+m5muhyJI2Ghm/Q0CAABH/bS4yzUI78TicfNtHedzcv5Tn579N3eET3xTma93BASFFuxGM3wUgQAiYV68ZGwaj2sA6oeoMxxyjFo7Ej/2O4ZcjL1Hv/RPYT12MWiiwDVoajrcRYnCd8kz7aNjB3gb4LSIUr0Sf7sRW/PJIOq4fvo6YpEhMm6CYIJSn1IZu3J/Ye2ot+s0wz/ciV+PmNjkJXr4IhnotQ3ywWs8G7VsBgKhAGgofCMikBXOuFEnwG4QbdISXhyfyZ0mIS38WlSYgLEHcBcmbn+A34TDo6AUPTydo5EmVwWAUDduYUA2Rg5ArNajnPB/T2xIe7RqPVTE9MaW1ku8Grgnq1SZEBQYh48OPHHA4XJhaWJTJia1YW9+dwamsOTj353EcO3YMx44dw4nzJ7DQIRs+B37FqyJ7DTXoaqsj4ckDBOcJI0+OQWxW8emqQk1bC7zIR3gYlScD8hS8ehEFrTKkqVr9UQ3aWjxEPnqI/Mm+wouSFCSD8YXCOqFqCGVmIjkjExIA4Nlh2vz+MIxPhf2Y0WiQU2MSiQSUOzLg2mLYmM6gO2dwPi5nUknwGE/Dm2HchO5lc2IjAin+owQRnu7/HWr9voFpvnmr5pg0vjO4zw9j1430PBkDiHInvTTRvm9P1HmxE3M9riBCIEVm6GVs2HoNGRoAyQmQy3M6RoJcLgfkBMXtuX/Lc6bQNKCpIQGfL4JcLAS1ckFnPX9snLEBfvEiQJaMh1tX49x7M3RUkSY0NKEh4YMvkkMsFEJNXw86knjExMsAWRICXsdALpNATMrz08alM/T8N2LGBj8okn2IravP4b0x25hQIxAlIb5kXtk1k1I4qFcqVb0oxciLjFJeeJPXGHvSNXSkmbt8KExCRNl+9N3ItfSvhIhkMfTw2Brqa8ElcBvQAI9T9DhBRiSNoiur+1K7XvNpx2+HadP8abTKO1SxOeATndik0f50ZFYb0uZZ0OBNV+lNWl5bM+jlyVnUtpYxdfv2DD1P/rj6Lot7RCcXO5GBmhpp20+g/Q8D6dHxOdROj0v1eq2hM0/jSEZEJIunWz/0JktNNeKo65B5pwX0Z7iYUl+cohktNYlnOYS2+EVSQsApmuWgRVzzs5JLvwAAIABJREFUQbTlQRiF+R2kyfbqxGvoRttuh5JAFkvHh5mSbkNnmrLmDAUKpBR5YQk5maiTGk+HjKza06SDL0hQZJoK71pZ7HEaZqpLDZ2n0JozgUT8B/RDRyPSrN2Y2jpPpG1r3cjS2oUWHr1DT5TlRxpJF5Y4kYm6GvF0jMiq/SQ6+KJ6+ZB8bpTLxgRRGN3ePZ0cjXSp5+6cuvyckKXSv0dnUQfj4h3UqwI1IuXfuIwaijgV7+LlMGlQG5oFLsn4cYjhG8DCVA0CvkYBHwIZ+HFRSNUyL9KHoKKQZyXgXaomzM0NP32RUpqG2CTAxCxPHDI+4qJSoWVuiYJZKipNaVoskmACM0PexziiM6FvYQY9kQBZWrrQKWb+QMaPQ1SqFswtjVC5Jfnl4eLigtWrV8PFxaVsEYl8MLvxILxdHoYbc0w/gykiOZIePkSCYxc05wEQXcG0r4Yh8ccEXJykX9XG5YNtTPjc0DCCZQPll7h6ZmiQczy7fqFj2hVObFVxEj1Hpx6syrp7jGeI+mYFfuPqwcxaeY6KSpNnWB/5ouHqwcwqJw4dXZTETK6eGYpIllFdUdOEVom8smsGCsfr2xj9T04nBA5U+n9XIawTYjAYXwxKHZV71FMy8inagVsUfBabj79FHUs1BPq9he2CrZjfQR2hN4/ht1OXkOS0HD1CtmPXtTDoubrjgNdQWFXEsqAoFBe2HsIzTUMgMghRer2xbOVoNMPTfI7XyS7TMauT4hbKDsDBeV44ci8KOt2WY//2UbDhAuArc+6ui/ginMw7lOcQv6rnAxkMBuNTKdWakApHZRL50aLG2uS6O45kqhy4pSG0pas+tfcMJCnJKHxrNzLstYdiZESyzJs021qdGvT/ia6G8Snj0Spqq92YFvkpP6etTMgS6cJUO3Ja+1zhyC4Np8NDzKhOz50UJC3seE3CqzTdXINs3XaQT5SA+M88yFHHiub4CFU4d6crdzIv0wHFhWEjIQaD8QUgQ8Sxoh2V8znEqXLg5rpi8Kr9aNnYBlxxIqLiBRDFxyBWDtTXMoWpMQ/1Og5GL2tdcM06oIXBzwgPFwNdy3d1UB59GjvOcNDNp5li7ZfbEKPnDcG6vrtwwH8mflJ6FxdNBkyGq6UOYNIV7ep6ITxcAJllUc7dPEzpWdApu1yzAYBNxzEYjC8CVc7RBYOqduBu1LUtgg54wUvbHi1rGUBNLitC94oDDocgl5f/3i9p+FtEiLnI759uDxv8hogICYpdvFTjQeH/LVXh3I0PnfNHp+zyp+ZvAmEwGIxiKYVztCoHbnEQdn3TG7u447B0phva1tVAVaz3c03qoTZFITDoo3s6OBxwuKawsChdh1G0c3ckKsPNmnVCDAbjC0C1czRyTykhAlQ4cBvG38A5Pz6MTQzBhRBR75Igk4ghyXWizjfokUMuK+6kjU+DazsMYzoT7pw5j4/+6U8R3mwcJjhpFnK8zrVNLs/pVkgOhf83Qb1NUc7dxopRYz6n7AqgfJeYGAwGo/Io1caEohyVpdHkf2QWtdHmkcXgTXT1TVrRKqSip7ShixHx9Kyp4+BZtHndcKqvUY86zjxCPtfdydmYR/W+9iSfkDh6cXIK2anzyGb0AXqaWP4usNKoK7S6bzvqNX8H/XZ4E82ftoq8QxWbIPI5Xp/2pxenZlBLTR5ZDtlCfpEJFHBqFjloccl80BZ6EC9W7twtS1TulF3OMGdVBoNRY/kUZ9WSO0cX4cAtTUdsrBi1G9SFJkRIikqBlrkZ9KvodCZx6jvEy03QoHZ+9/RCjtfFocK5uyJhGxMYDMYXRcmdo4tw4ObVQv0PDuGaqNugoJd05aJhZAll/umFHK+LQ4Vzd0XC1oQYDAaDUWWwTojBYDAYVUaFTscREXx9fSsyCQaD8QUjkUjw6tUrqKlV04PRPkPatWsHff3yOwS1QjcmyOVyuLq6VlT0DAaDwahk9u3bhyZNmpRbfGx3HIPBYDCqDLYmxGAwGIwqo8LXhG7dulWRSTAYDAajEnF0dISBgUG5xVfha0K9e/euqOgZDMYXTmJiIgwMDKD1OSnSVXP27NkDW1vbcouPrQkxGIwaS7nJezOqjMpfE5LykS74eDarOCsLUhXBS4cYKaEv8epdZhFHqzMYDIZq5GJxyU6PlgvBz6qMc6bLghjpyen55JJUhk5PRnpJA5cTlXNsjzwFjw+vxfrjAZDUbgArc33IkiMQlkIQwBH7/voBDmW0RB7jjRUbguDgEI2t3/6F1ieCcLC/bvnYz2AwPntkyf/g1Nb12Px3G5y44Y4WRb2T5PG4vckTF9ACTTXewtdPgH4/bcfEZtVvSjDVZxm6LeJiz7Ofi9fVS/XBsm6LwN3zDD+XswifKiq+E5LH4sKcXhh/pQk2X7mMmc1zO4Z0PN85DgP3ZkJQ5mGLCPe8VsDX5E/8OM0OPVqPRspX2mWNlMFgfCnI4hEYlIms8CcITlemdPchIML2TcK4G31w32cWvuLKMUCnHxxGrMZXT7aga4nOpKsc5EmXsXX9eYSK3UoSGJe3rsf5UDFKELpcqeDpODmSvb/H3EPx6Om5B9Ob5x2Z1ILDvN1Y3ZmD7LKuSsmT8fJVNMDjQg1cmLXtimZGbPc5g8EoIVxTtOzSBY62dVW/FGUROPv7XWg1d4A5FwA4MO/XBy1Cj2H/NX7l2FoS5LHw3vEYLUc4QrP4wIj13oHHLUfAsfjA5U4Fj4SScenYRcTpuGLoYNPClctpgDHuc5GtDgAihF7YikPPNGGISARF6aH3spUY3UwPWaE3cey3U7iU5ITlPUKwfdc1hOm5wv2AF4aavsTvXkdw6a0Ysdy9WCcxR8vhS+FmLysyPmHMI1w8dRyno9pjYcv7+GFvGNpOGwmD51cQYrcA46VnsMvbHzF1R+Lng2ORecATB689Q6zpaGw/+C2cDAGAjyDvQzj7IhYRAYEQOszFhlV9UTe+YNwRcN1zGas7VOLZ6AwGo2KQxSEuUQa5/OP0DadufZhopCEwIAQY6lCFxuUiQ8SpHXjZ+Tt8mzG7+NARp7DjZWd8920Gig9d/lTscEH8H16+yQLH9Ct8VcQwVd+qIUw4ciRdnIuBXlKMXLkU3639GR7d3mBpjyHY9UYGHetOaJTsi5tXz+O+4Uwcu3YA/ZP3Yvn2hxBrOmDMypnoaspDvS4z4O7xPdzsOSrjk3I0kHD3d/x15QKe1huNOaN6o2P3tpA9vYrrF+9ANGgLvC9vQNsX6zFp4lHQmJ04d2kD2j7/EZ5/xEEOOWJ+n4c1Ib2x3GMTDvz8NRK2jMPcozEQF4q7J+zrVJHQCIPBKF94VrCxUkf8P48RlrsngaMNHW01VJd9xtL/jmBnaB8s6lu7eOlx6X84sjMUfRb1Re0qOn6vYkdCJIZYQoC6XPVuNXk0Tu84A043HzTTBAAuGo6ehyHr+mLXAX/M39YRpqbG4NXriMG9rKHLNUOHFgb4OTwcYnRFoTFGsfE5onXjuuAJumNEfxdYDnQB5PFINOKiVove6G2rB668LVo3AnxsuqGXtQ44cge0bCjBnbfhkMoycWKPD+KbmmOtOwegFGg3Msa7gADwpvQsHDeDwfg84FhizHdzcGjENsz41hQr+hoh9tEJ/J2qjsYNLavaOkD8Cvt2J2Lo+mkwBJClOjBe7duNxKHrMa34wBVGxXZC6tb4qgEXsn8jEC4AuhQ1IyUNx9sIMbhOeUYMGnawtwF+i4gA0LHQLRwOBySXK9dvLzY+R8VvatyiC4DDAZdT4G8uQSwSgyTBeBNugI5eHvB0ysnU+tyA4uLjZjAYNRajXpvh96QfLtwIQHh8fXSw0QdfpysG9DGqYstkCDuwGn8kt0DajvXwBSANCoYoNR4nN27Eu/7zMabtx3V5WdgBrP4jGS3SdmC9IjCCRamIP7kRG9/1x/IxbSvF6oqdjuNYov/AjtAW3Mela0lFj4a4JqhXmxAVGISMPKZxOFyYWliUPt3yjq8gatrQ4kXi0cOoPP4EcqS8eoHI6u42wGAwyoxeI2eMnbMIc0db4PbeSzCetgJjzat6M5QaNBv3QHdLKQQCAQQCAbLEcqiRGEKBAEJp/k92Nc3G6NHdEtKcsIIsMeRqBLFQAIGw/Lw3i6OCS40L25kbsKydGBdWL8LxN4J8V6UxN+G1fA8ei2wxbExn0J0zOB+X01UJHuNpeDOMm+AEACB5/gKUy2X4MAwiOeRyQC7L6QG4xccHEECUp2OkQqMqIuRbgCTK+ZdmG7h01oP/xhnY4BcPEWRIfrgVq8+9hzFXWdwMBqMmIJXJQED+dwE/EOf2/Y4nKQWeaHEkzi+aiMOGHji6tlthGfBKhwPzPouwfsMGbMj5Z93IFtCu3QlTPT0xpYNevrxwzPtg0fqPYTesG4kW2rXRaaonPKd0qDSrK37GSM8JHldvwnL1Snj164Cjjl3Q1loX6bHvITN2wNhl8+GowwXmH8Wp5JlYM3ER+GNbQ/jPQ5ht/gOr2mlAFHEL//OLgCTqAc75hsLY5BHOP0qFRHwDpx+1QcvQY7gRKkaYzzH84TITA7raokmR8fGQ9PR3nLoXB/G7Szhw1gmz3ZpBeO93+ARLkCi+gmuBjdEy+RRuvJEgIfFP/PmvHboK/sCNYAniUi7iyqtW+GbjQSyInI51PSyxwdAczQavxqHdPSAsFHdbmFb1BxKDwVCNPBVBdy7gyLUwSCLv4X/n7kKjV1c0NeJA/Owgvl9wEh3rfYPjQ3SArBg8vnYGx0/4Qth1E25sc0WDGrL5tVBeqgGVfHacFOlRbxCWpoX6Nl+hnq6St7M4Fe/i5TBpULsE+9tLQHnHlw8Z+HFRSNUyh6VRDWmFDMZnROWcHSdFamIGdE2MoQE5Ul/fx78CC7Rp/RUMa9zCb968VA8quQh5qNWgOVo3UBFEwwiWqq6XlvKOLx9c6JlZV4NhOIPBqDh4MDIxzvl/Dozsu6Hm7nnNm5fqAZsoYjAYDEaVwTohBoPBYFQZrBNiMBg1Fl1dXXA47DVWk2G1x2AwaiwCgSCfGwWj5sE6IQAQJSIhtRwasjQZ7+IExYf7wpEmv0NpikmUmIDyqJ6SI0XyuziU3EQREhNSPxu/MFFSPFI+1Vexhj8DciEfghLnXQoBX1iR5pQDJRW1EyMzTVAyMb9yphp1QgIEXdmF2c42sLCwRdcRMzBn9nRMGj4YQyYuw/ZLQUgv76dcnobnx2ajY30bTL9Q1gdHhuAtA9C4xSx4V/d2WRHIUxFwdgPGtW8AC4um6LtkL26GKCkIWTC2DGiMFrO8UVwxydOe49jsjqhvMx1lrp5SIAveggGNW2BWsRUpR9rzY5jdsT5spl8oRadVPRGH38GeGR1gZj0ep99/ysNWc58BedwteH7TFLUNDGBgYIEus08gqMg8iBF8egGGjXXHoeO7sXDsFOx4lFaZ5paYVJ9l6NL9BzwqqheSJ8LXaw5mu+/F6T9+weLhw7Hyr9jK/aCiaoWEAjzakLpGN9oaLsv5TUgRN9bR1+a61HDgNnqUUfZUZIkP6N5LSU70l2lqfW0aeKTsEctSX9ODJ1EkLHNMNRUR+S6wIZ5mP/o1pagwMkp9/YCeRJWslISXp1J97YFUZPXIEunBvZck+RRzi0KWSq8fPKGSmSiky1Prk/bAI1S0iXnaWzVHeHMWWWq70u44WfGBqXDeKvsZcHZ2plu3bpUtEmk4HZ49lXY+jKG05BDy2TyQLHk65LTxNUmVBJc896SO5oPo12hFGfFvz6emNlPpYpFtvmqQJf5Fq7pbknbjReQnUh5GcG0G2Tj9RG9yMip5vobaNpxOVyvxJVaNRkIAoAYeT3HoqNqHY8U1YdXLHWfPLUHtW99jzPfXkV6WJKShODJzKvYG5X4acMAppyPMOYZ2cGpnWQFOsVWPNOAIVvxyv9ivfQ0NHgB1aBRZCBwY2jmhnWUJS4nDUXEcvRShR2Zi6t6gEkw3lAKOIeyc2qHkJqpoQIXaW/VGTVMLJRapVpK3mvgMyBMeQ+SyHnM71UctYxu4LtmFxU5SvHjyHKJCoYXw3XcQL+36oK+Z4vWp2+lrdBaewS+nYyrb9KIpkaidHJlh4YhNiEZ0zqhPjccDVyaHrBKPMKgx/r46jguxsM8uTDq5DxfW98EEY+WicrXf+eHPEydwNrETFjV7gs2HHiDRsBNmbNqMGa3V8HTvEnj+FYFaWhvhmeyC6RMV8VN2AA7O88KRe1HQ6bYc+7ePgg2F4vSypfg1yAg9V6zHfMt/sGn1LvhLWmHUd99isqMu3hx3h7ufPdZudEb8+eP43TsLg89sxmAdIO3v/djhy8FX9dLx4gEwYPcydNcEwA+C96GzeBEbgYBAIRzmbsCqvpYorDokRezdAzh4Ox0a0hD8G2ePORsWo0c9DiAKxYWth/BM0xCIDEKUXm8sWzkazTihuHnsN5y6lASn5T0Qsn0XroXpwdX9ALwGEK7/uBLbHwhgP2Yd1kxqBcMkf+xaswWhTuuwc2KzIstfGnYbxy5LsGReF+gWGao45MgMuY0zx3+Hd9ZgnNk8GDoAIE+A3y+/4FaWJjJeByC1rgNaNzKBrcvEHKdAQnbAQczzOoJ7UTrotnw/to+yQfbTvVji+Rciamlho2cyuvcywKWNhxFk1BMr1s+H5T+bsHqXPyStRuG7byfDUfcNjru7w8/eE7un20NDWT30MUT47TM4/rs3sgafwebBiqNN5Al++OWXW8jSzMDrgFTUdWiNRia2cJnoktuAEHBwHryO3EOUTjcs378do2yyC7e3GT0KHOP0CXWsl4XQm8fw26lLSHJajh4h27HrWhj0XN1xYH0bBG5UXcei0AvYeugZFNFGQa/3Mqwc3ayQ07U8PQjnt3li37MmWPGnB9pHXMfh3fvwV2I3/HRsOrA/f96mjrbA6z/zPwOf1E6HWil5FioOTv0RmDUs7w+1YFRLE5Y2XxV+QUoDcfdhPGp3tkXt3HpUb4ImDUU45+cPzB5W8I4qoKSidhzU6TMMLmsWYsbklji31xUvvW7D2mMv+pT4S6QcqLxBV0mQUqBne1LX6EbbIgpOB+Rc49nSkvvZFH1yIg3zek0SIpJF7KKe+sY08FA0Cd4H0i8DDUndeght9H5KIW+u0Q/OdUndZg75ZBJR9lkaY2xIo84IFNEKr9J0cw2yddtBPlEC4j/zIEcdK5rjoxiP8m/Po0ZajvTjaykRSSl4S1fSt/04vOVfWkhTD0aTOCWC/Dc4k67WIDrKJyLJS1rn5EJbwqREJKKnnmvoRAYRyaLp5MRh5PVaQkQyitjVk/SNB9Kh6MLTH8lX5lGXEYcpQkpEoie0qqUWWc+7TSRLpAtT7chp7XPFtIc0nA4PMaM6PXdSkFRGmTdnk7V6A+r/01UK42fQo1VtPwzJZZH7qK+hAfX/NZ5kRESyKNozdRFdy1RdM9nnxlH9r/dTospQInq4rAnxNAfTMYHy+k2J8KcNzrqkNego8YmISEZRR4ZQw0GH6T0RSV6uo/ZaJvTN9rv0OkFKwqvTyVzDltx2+FCUgE/PPBxJx2oOKaonm86OMSbDUWdIkRyfbs9rRFqOP5KiuoJpS1d9sl3kR6Kc65cWTqWD0bKi6yHyPUX4byBnXS0adFRhIcmi6MiQhjTo8HsiktDLde1Jy+Qb2n73NSVIhXR1ujlp2LrRDp8oEvCfkYejDlnN8VHUTcH2Vi51TCTLvEmzrdWpQf+f6GoYnzIeraK22o1pkZ9IZR3LEi/QVDsnWvtc0b6l4YdpiFkd6rkziKREJPJbRI3zTMdlnxtHtQ2G0akc8xP29iZti5l0Q1g4b9KCz0AZ2mlJKZfpuIJkXKQpTZ1p62slk3HZF2hiXXVqtvxRningZDrwtSZpdN9WvnZ8IpLgg7R47S1KJSLB6eFkqLJMZfT+zhrqVodHWvpWNHBfcPlObZeAajYdpxpNzZzTjmQhClG54BNY6+4Oj4NBH0TlULsRmjc0Bq9xb0we1BY2Tfpg1capsI06h5O+Ra00ctFkwGS4WupA174r2tVNRHi4YuJJt+s0jLF7hT9Pv4QUXFg5toVpxHmcuicEkIYbvlz0czOHupEVWreygWHuzIyaGjjSp9i7dDv84jhoPWMWXLUBWcgJ7PGJR/CJtXB398DBIG00Mn6HgIACtskicGzzOVgOHwkrLgCNdlh+zg/eKzpDHn0aO85w0O3rZoqhNrchRs8bAj2/XTjgL4WWqSmMefXQcXAvWOvqo2WHFjCICUe4GOA0GIv5w43gd/I0ImWALOwcXjUYC9dCZw/JkRx4B5f/+gt//fUXrj2PgzD5NW7l/H356j+ILfVWGi6MrFqjlY1hnik2Mf65fQ/JXA1oAuA17YfejQXI0rKDnUnO9zC3CQZMdoWlji7su7ZD3cRwhCudF9RF12ljYPfqT5x+KQW4VnBsa4qI86egqK4b8OX2g5s5p+h6eKUNq9atYGOYZ4pN/A9u30sGV0MTAA9N+/VGY0EWtOzs8NHEAZjsagkdXXt0bVcXieHhxW9U+OQ6FoOjZQpTYx7qdRyMXta60G/ZAS0MYhAeLlZRx3JEn96BM5xu+Fqh9ghuw9GYN0QPfrsOwF/ZjCGHk2/3Eo9b9CuDW+AZKEs7rTqkCDxwFJnzf8E8O2XjMcVp+1xu3msccKuLeHKuqN1iFxiW8BapTAONBs/AkK/ScWWZG+aejarUXXIVOh0nur4aAzbch0TZRW5jTDq4D5O+KmntSRASEgnSaYuW1uHwLU5UDviw94/XrBXstDOQllaColXjgcsFZNKcfZq85pgwvj1+3n8cj1Y2RPK5FDj2luDiiRvYYJeMO5oDsFGZlhW3GRb8shZPR61Ezxa/Y5znPmydaQZJ8BuEG3SEl4cnCpmeL7sv8SJYHbUMP5aPnk17tAIgvvsWEWIu8mv22cMGvyEiQgIUlLnncMAhORRqGHroNWMcrLsfw9FXM+F2LQyNRs5T0hDkiL59CDvOx0EGgFLeQBAdh30/vwQXgJp2V6x0aYv6ZX741NG8XUtwva7hevJouOlLIVVvCsc2ygXC1HhccCGDtIhttLzmEzC+/c/Yf/wRVjZMxrkUR/SWXMSJGxtgl3wHmgM2wgiAUFU9FFwIUG+Odi258Lp2Hcmj3aAvlUK9qSOUm6gGnqIBodidvmWp40I6jxxwOAS5nADoF1HHUoS/jYCY65RnuksDdgq1R0RIPsg9lgvS8LK006oh038nDojnYe9ie+UHfPLMYWHKwb30TMiQ8wKVpyE9k6BjWr9SbS1M6UTtAED8fCOGLY3Fmnu70UttFpynfIP5M+ajQ0dvTKkkfaQK7YQ0+6zHzT7lE5c84RKOXU6AmdsUDDLRxt+5onJOjXIeKDlSXr1Cpl3TwjdLxZCQJRp/pf4JKXNhPWo8unt64ugJC6hpT8LOpbXQcdQx7LEygcnQ8VB6ILo8FVkN5+Dss5448+NCfLu4P6bqBeCUmRZ4kY/wMEoGp0Y5T6c8Ba9eZcKuZZ65cDVdaKsn4NGDYEh7tsypKDmSY+JhaFIPtSkKgUEZQNucwwg5HHC4prCwKL5Kea2nYHKHXdh78ABIqyVmNFbWk/DQav4J3Jiv+EvoPR42B7rif1dnoG4pSu8jYry6egfavXsU+J2LRvNO4Mjrkdjx/XpE22vA4sezmNH+E5sm1xqjxneHp+dRnLBQg/aknVhaqyNGHdsDKxMTDB2vqC01bRX10KRgnI0w78QRvB65A9+vj4a9hgV+PDsDn2riB6qgjk3q1QZFBSJ/tBxwTS1QgmiVKxkXAbeMeahsREEnsfV+C6z4vkfOeo8UYjEHGhp5XsY8e3RqXxu730VCAChGeNJIRMRooPXQytPgUU6OqF1MAgQ5zk4yFaJ2gBRvzp/FC+tF6KQPAC0w/cAm+DadhVuPxJgytHIWhqrZdBxBliNMl1dgQvTuOtaNXojr9Rfj0KYBMCpWVA6ARAJJzmb3dF9fvG4+HuMdNQBoQFNDAj5fBLlYCKGMIKcckTzgo0BeHlE6jpkbJvUT4fTKG2gysRuMu0zA8HpX4XW/EUY5fHyYSC6HHIr7IXmB3w7cRlat5hjldRF7x2oj4m08NNu4oLOePzbO2AC/eBEgS8bDratx7r1x/sVYzfbo27MOXuycC48rERBIMxF6eQO2XssA13YYxnQm3DlzHh81+54ivNk4THDSBKiA7LlcDlneX7gNMXZqL6Qc2YJIxyEozw8eqbRw/QFA2t9ecL+QgTpcUni4y+U55StH8s2fccF6J67+ugYLlyzHvK+tPn6FkhwEOT5Wj6KMiRR3a2hqQMLnQyQXQyiUAeDAzG0S+olOY+WNJpjYzRhdJgxHvateuN9oFHKrS2U95LaBXE98eTJu/nwB1juv4tc1C7Fk+Tx8bfXxO5kUDShnCiM3fwSFiQXbW55CKUsdgwqMGBRl9OEnpXXMhe2wMehMd3DmfFxO+Qvw+Gk4mo2bAEW0iumm3PpT09eDjiQeMfEyQJaEgNcxkMskEJPyvOV9BsrcTisRafgfcN/7Ht36miPlzWu8fv0S93/biEP/SAqI2umg58SRqP/sFu7muAaJX9/G/eyvMXVUhR3XX0JKJ2oHcFDXwhTc8P/wNnfYrm0IA736sKxMldhKXoNSAZ+Cru6iqa31SI1jSA5DZtDsmdNo0oh+5NxzOC3acYNCsz+GlkZeoCVOJqSuxiMdIytqP+kgvRAQEYnId/5XpGHlQlOXrqVtW76nsSOW0tmwnJU5WSwdH2ZKug2daYr7EfL+bQa11OSR5ZAt5BeZQAGnZpGDFpfMB22hB/EfNwsIfOZR50nnSOEKIKWgTf1o+OFYyg0hCPOjg5PtSZ3XkNy23abQlNu0tEM3mvnLRbpz8wgtHT2fzkQqNjdEXlhCTibqpMbTISOr9jTp4AtStmwiwk/2AAAgAElEQVQti79FP/S2JE01DqnrmFOnBX9SeM5aqTTqCq3u2456zd9Bvx3eRPOnrSLvUBGRMJx83J3JmFePvvb0oZC4F3Ryih2p82xo9IGneYr7Bs11nks3+SWrnWI3JshSKODcRhpuq05qHGNqNWgCTZ02jaZOGUdDXVtQPU096ncwjEL8DtJke3XiNXSjbbdDSUBSCtrdj0zVuaSuU4uM65qRpW1bGrTyEkW8f0GnZrQkTZ4lDdniR5EJAXRqlgNpcc1p0JYHRCSj2OPDyFS3ITlPWUNnAnNLUUA+8zrTpHM5jhvSINrUbzgdjs27+aOIehCEkd/ByWSvzqOGbtvodqiASBpEu/uZkjpXnXRqGVNdM0uybTuIVl6KoPcvTtGMlprEsxxCW/wiKSHgFM1y0CKu+SDa8iA+f3tbc4YCC1T0J9UxCSncx52cjXlU72tP8gmJoxcnp5CdOo9sRh+gp4kyFXUspagrq6lvu140f8dvdHjTfJq2yptCRUTSaH86MqsNafMsaPCmq/QmjYj4D+iHjkakWbsxtXWeSNvWupGltQstPB5QKG9PAws8A4JyaKfFUB4bE2Txf9GcZtqkhg+iqgSokXord3omIRLdXUiN1OvQuHO5lZdGj3aMon5TfqZzF3+jJd/0o+8uxVDJPKsql+z/jabaeTZSFcpL9kv6dXJ36jlzB529coH2LR1OI9f6UEIlZqaSRe3KG2WicmLcXWCHvsHfIvTMYIiz9WFpqpd/yCdNQ2wSYGJmWIr5SD4y+XrQz13Az8pEpoY+9IuMQAqplAe17FhEJHFgamUK3bxDHRkfcVGp0DK3hGo9PDmyEt4hVdMc5koUtMSp7xAvN0GD2qX3zMgSZEFHt6rVFdPxeM9mPGo2GX2NU5GULkA2Pxn/XbqI5Mm/YlW74mpIijRFZeYXGONngq+nj4/VlQkNff3C9V2Sekh/jD2bH6HZ5L4wTk1CuiAb/OT/cOliMib/ugrFm1hce6uKOhYj9V085CYNUGy0Mj7iojOhb2EGPZEAWVq60Ml9oEr4LJUlD6qofFG7j8gFcQgOF6B2o69golXNJpWKRFle5MhKDENIrAS1bRrDvOiXWoVQ/SZmS4UyUTn6MKDn6pvBqpaS23iGqG9W2rTydEAAoKMPfZXheeDxAOjXh42ygFw9mFmXRA6PA516VsrXnQBoGFniUycBqr4DAqT/bsWcnxOw7qkNGtUCGgEA+KgT/Q6hJZoS4MFQWWXm6YAAQEe/iNoqth6k+HfrHPycsA5PbRqhVo6F4NdB9LvQkk1lFtveqqKONWBUUrVHrh7MrPRyI8xvZwmfpbLkoepRLgTH0TWDXfMqMKdMKMsLBzomjdDSpEoMqumdUGFkmREIDE2B9N0rPI3ho7el3ueXyc8IjkVX9DIZj3EOneDkaANDiCHXt0HPmd9hkll1+LrkwKJrL5iMHweHTk5wtDEExHLo2/TEzO8moVqYyGDUYGr4dFxB5Eh65Ydn0ULFaIhbDy1dWpfDNmJGxSJE/Ovn+C9FE+ZN7GBdV6u67ZgBhPF4/fw/pGiao4mdNerWmOmXz5vKmY5jVCSf2SCBg7rNe6BPjRsif+lowdS+I0yr2gxVaJnCvmO1tpDBqJGwzzkGg1FjsbCwAI/3mX1Lf2FUfick5SNd8NFZQpyVVbxneUUiSkL8pyt4lVL8rDQIkZiQrkLXQ4Sk+JSyl500DfFJWeVkUzGIUxD68hXeZX4e8m9yYSb4uQd0CLOK1keSCiGs0kb++RIdHQ1pUcdnfCJysbhkx9bIheBnVYUMXGkoqahdHkTJSK7EZ7RyOiF5Ch7/uhCDuvdA3xFz8P3yBZg+pj9cv+6HbkO98KoqHlBxOO7smYEOZtYYf/r9J71YSy5+VhrkiLu/ExMdzNBi2W0ljUeM8Dt7MKODGazHn8YnaY8BgDwZ//y+DK4NLPD1zuBiOrPibCo2McR4f495W67jzt5JaNlsJi5XkAJc5usr2LOoN5pYWKDJmGOIVVY+/GtY1NoC5hYOcPP4HY+j/sPN3fPh2tgCFtbdMGPHZQTxAcgicffAMvSzs4BFg46YtPk8XqbJAWEgjs5wQVe3+fhuySxMGDYE/XtMwq/vlCUmQ8S+kRi+O7RKVCsZJUeW/A9OrByC1l9vwmtVD4Q8Hrc3zMXCTb/h+N7vMHLwLBwNrJ4qfsWK2gFA5lUsbG0Bc3NzxT/tPfC4MscnFe6JJIuh8zPtSd9yCO17mddrLo3+3TGALJouofulODW3XBHepFmW2uS6O65kjmYFBdRKJX5WGgR0apgB1R53jrKVXhfSzVmWpO26m0qoPaYcyb+0xkGLWq1+VoKTc4uzSQVCX1rQxJHWvpQQSWPpqd8rSqlAZzhZ9E5y1eKSmkZrWvOsYM5kFPOrG1kZahPXeCydy82MNIS8OquTusMa+jffLYoTknm2i+meiIhISm+3dqda7T0pMMepVJbgQ0vbt6flj5Q0ZMkzcndQJ3X778j/y1U7rDDK7RRtaRwF3LtD+0eZk2YbD3pR5AMhpdDdfcisxzYKlRIRyShqTx8ytl9KfsoPSq8ySiJqRySjiH1TaILXn+Tt7U3e3ufp8pNYpWJ+FUUFd3dyJHt/j7mH4tHTcw+mN897eF4tOMzbjdWdOciuqv15aprQKrmCV2EBtVKKn5UGDkdV1ahBs+SGq4hGE5oaJVf0U21T0ciTX+JVNMDjqgFcM7Tt2gxGFdjyOOqaqNOjL7povsShnVeQT3hZGogjf+ljcO9aUFPXwIfTBNXUoa6uBvB4UM9XJOpQVwfAyw0rRcibEGRlJON9zscvx8QVaz17g5dQeCQkuHUUQXYD0fDtcey5Uj0loBkAuKZo2aULHG3rqh4DyCJw9ve70GruAHMuAHBg3q8PWoQew/5r/MqxtSSUSNQOgPgJDvwRj4aN6qOV6yB8881g9GtnVrl6ThUbfTIuHbuIOJ3uGDrYtHBinAYY4z4XLdUBQITQCz9hpcdWeHkswOTJK3EqUFGpWaE3sc99CvrP+hX3Ti+HW2cHtO6zFOcisxFxxQNjevfE4EWHEZAiB+QJ8N8xE24LjiKQD4Wo1k8r4bHVCx4LJmPyylMIVNZW5OkIOueBMb0HYu0dEcAPxvWdCzCk9yj8/FQMfq6A2itvbPTcB9/YdIT4HILHlAH49kLumsqn5EHFJI0kCuc9xsK1rQM6u62Ct4oz7kWhF/DTSg9s9fLAgsmTsfJUID5kUxqLu3vWwmPDBqyaOgJTtvqi0PtSno43Z90xauhseJ26i/8yS2sTH0HeO7B+7feYNnQAxq27incyQPT8d/y46RLeimPhu3cd1m46q5jqKLJehIh5dAZb5g3FgqN38et0Z7TttR6PxAA/yBs71q/F99OGYsC4dbj6ruiy49QfgXlu9ZBwdidOhH8MJ7j7K560mAYXvU+V01VHy45tof92D8aP2gS/eEXcur1WY1XvAh8G8gR4n0lH/83rMLltKs7vPYmIz2M57MtFFoe4RNnHcwUBcOrWh4lGGgIDQqrQsLzkitotQP/aql/xwr+9cf3Fbfzo1hmNzBqj9/ILiKjs5ZEKHWeJ7tMSWx7xbJfSA5VTbjJKvDCV7JzWkkJrS0rhh4eQWZ2etFOh4EU3Z1uTeoP+9NPVsP+3d95RUV1rH/5NY+jNgkpRRDRioiIWoomKioliQhQbakRFxYDGnui1xZhExZKrKCKgXEBjLjdivYk1icSG8hkFBYmFoiMoARUYBGbOvN8fh84wQCiDuftZi7VYcubsd+9zPHvOu8tD+bmxtMpJj+wXxVARl0ZBo0zJ2C2U+K3eOEoP9KZFvMFLoxiMimJokX2FdNyraJrWypjGlxu8aKSeFfnwBq/KAjVlThX5WQPqUK095PTviSak29WTdv2cSHevhtGctwxIt89aul5ERFREMYvsy9JxmkVl2fTj/Hdo4v5UXlp2fRX11LWl+T8XEikT6ev+etRr9Q0qyo2j0BVrKDKhps3kNMXE1SgZ5IhIeWcD9dNz4tNxRLVclzx6cmMnjTGTkN3YrXT8fBT5bzpMf6QdJK/x/sQ76FIpYIQRmX+wj9S4AIme7iVP72jKjVtDvSUS6r78Ml8Ol0kRXp60J1VOJ2e1J7HFTDpRmo7j0ujboTokth1HXwWHUEhI6c9umu0oIbHD53S19EIp0yh6vhOZCgUkae1EM3f+Rplq8hfK5O002fc45RJHshA3MtXpSauuayv3/PekcaV2Cvp9bW/S05SO49Jp1wh9kg74hsqcd6+OkVdbHeq15vdGiqNh1E9qR0RUSJk3j5L/dEcyFelT75UX1e5l2VQ07ZsQFaNYQQBUmgf+VY/x/Y4oCAe/D961JUInz/kYaxiDgOArgFAX7dqZQ2zhDHdXWxgY9cSAt4whS0lBsdAGUxdMgFnMQXzPG7wQfdsGU4cb1ioGq44QwsoGr5pfFUVmleVnDamD2gIE0O87Ht4u3dFtwAxs+2oCzBPCEfZbVdmNZlHZxT8isCXaGhMm8ZoInb4rEB1zBCsHlb+kc1m/4KuVp2G3+AtMe1OTvLuGmH5NrFEyqG64VvN10UH7Ho6wbyOGzZCJcBs2Acs/dwcdCsS5zGQcWL8Ga9aFIEmvC8wf3UJVF2BFJI4+8BtpgD/Cd+BIlgpccgRO6HvCs6OG216sByMTU5ialv6YwKDqDGCRDcYGXMLNU5sxocMDRCwcjgETgpBQKZZixEVcRueP34MRhOgwYQ7cWychPOgManrJZLwGCK0x5TNfOCRvx9zlYfjx7FGEbo3A1ecSWHey1nZ0f0lqB0hh0csdy8N/wfEl9ri7PxTnm3GeRdNOsJfYorONCNzvqUiRA+/UtEGkMgX3Uoshqmy/Au/aSoUagxeEQiFIxW8Fb+Q6F9NshyAi/DZ8PE7hYZdJmC+ug1SrcQ1eDaqDOgTC8pSRQT8nvCE8jGdZZSqt0oI1isoe3HqBZIkJyr1phrDr14v/lQMAwvNrkQh9ZAaTuUsxtK3mAS61MWXeRUGNkkFUmxVW1+siEJXWU4HkuykwdvbHug0DSzZeVKsCrIzQEpMXTsLXoyOwKywBFn9eh4P3YphomAsoMOmG4R7j0aMstjzkRwiBB1WPlKKj63IcjP0Qo+a5Y07kUvjtckHMshIZ0cvT2H9ahqy02ZgeCAAq5LQyQMYPe3Bo/WjMbc6t8hmNipnrFsRcH41jZ24hJbMDBtgZIV//XYx5T72Isfmov9SuMiYY6DMFfYIu4FkhgObRCTXxmJDQGm4fOENPfhEnTmXV/DYkaguLVoT0O0nIrRCaUChCOyur2ssRO2LWzAG4fygEwT9koedEe4hQRapVdtp6SLXqZ/BqWB1qQyiCUNQRXbtU7clFlURlZYeXisqM9CB5eh2Xkis8eFXZkD0pHccSoPXoLdg99jG+nLYS55//lZiMoFsqGSwvBDm346FuyKv+10UAPV0x0mIvI73C+VQ5txGvpgAVqMyHY+iyAHOcCLEBH2OVbARmOTbwe5f8CNZ9caF8bZhuN0zbvQWeFkVIuJFQFsGjqEMo8I3GD5ERiIiIQETEARw9sBC9X51DcOht7a6NYzQYwy4umOq7CH6eVvh5zwmYz16JqVr/YlEitbNWQi6XQy6Xo0Cj1E7NGSRSSC1s0FGvGcItoYlbTYSuPhuxrG8xjq1ehMi7lReHKGVn4b8iENeKumL8lEGgX6JwtNx+hbiUHpg2fSCAEnFYBVSVDV7oNNUbrjlh2JrWH2NLboa6iMGossELhvoKZMoywYFD1q1EyFQcFLzBq7pAraL8TNTQOqihwt9eXrqKJ4PnYWbJQ5T4wEG1iMqGDhqFEa3jsdNvHX5MlUOZ9wD/3bgNp3J1yosQtILbtv3wlYRixpxwPNT0hFQX04B+GiWDpaKzEl9hHa4LX06puA6Qos+wQTC8sglzN8aAd9BdxrbV0fjTvPo8HsrLQ3ZuHq+VF3fH7AVuMM18DocpnrApueMVCgWoooKblFAqCOCU4CpdEwWvElcq+Q5WagXFqZXYdKlCUq34FQoUunjTsWS/qKI47P1OgNEfVZ6MI35zBj4eJMLN/QE481JDGzO0hpLjyqRCZVQSwVWgOA1HF3lhv+k6hK8fjLrsid+01Fdqp0TmrUuIzywdEOCQeuICJF6zMbgJZvzWSHMMPHE51yjEdwQ52PYgl0k+tGzFEpozfTrNWrSdzj8uGQFUptOPq0dRX9cFtONf+2nzgtm06sgDKiKiwpRztMbFnMQW79OGc/cpI/4gzeouIbGdJwXHlWrW8umMnwv5VbG01SjVUj6mK2HzqI+emKzcN9NPvMGLLn3hTGbSVmTv5EJe29eTh7UtDVsYSbdeVBGoxd1RIz9raB1KUdDtvZPore7DacGWINqzfTX5LfwnXXzGEZGSHl8Jo3l99Ehs5U6bf7pLLzSIyog4yjz/BY20lpJAKCF9y7fp0x9SSMllU3z0GnK1EFNr1y/oxO0MerBvLFmIpNT5w7V06EZ2lbVTmmKqWTKoeHyVDi4dRKYiExq45AD9mvyCn6xQ03XhntH1SF/qaygiC9e1FBVXMmlEmUbHlgykthIBifXNqGO/GRQSX3X4lKOc+CPkP8WBDEz7k0/AOXqoIKJXMfTZpPX8+h9ORpcj1tIoKxFBZENj1h2ia+n36HyQL/U3EZJAvyd5fXuSEvP4MmNCl9KQNkISSLvRZP8jFP88i/aNs6fewzzId923tGfPZpo/ohc5e4dRwisiyk2gg/OcyMR8MC2PuknZXHlsGbEHafFAYxII9Mhh+l662pzmsL8pjTYxgcuhxHNh5OtkQKJWw2j1v3+lpJLFbNVEcPLHFHt4O80f+yHN3n6O0lrwXBONUjtlKgWNNiOx6Vs0afV2+vabf9DnW8+SrDkXCVGzS+2UeJl+Fw9f6KKDXWdYGKh5ESt+jkeZKrS1aaV5frs6CuQoqOo7KTttXaVaHPIzHiPPyArtDYsgL9CFQbnBS71ArTHrUOk8LyFL/xOCdp3QwbAuM/c1iMpUBXj66DmklpaaY29QTOokg7Wcrp6yMy4/A+nPdWFpbYa6ldDYqPDyWTZ027aBtDgHD5OfQGBpD1vz5vzqyCil+aV2KjxPvIjf5Vbo49i5Yf+XtEIVqR33Aql37iGLzNHpDTu00cJt/DdTOTAYjP8lmMrh9UfbI2kMBoPB+B+GdUIMBoPB0BqsE2IwGAyG1mCdEIPBeG3p3Lkzk9q95rBOiMFgvLY8fPiw0aV2jOblb9YJVbeNFmVlom7i1EYylTYIFQrz8lEu66x5AydlYWHzx1r0DE+f120baGX+S5QLdItRUKDNlm3YtVVmP0JGE0n4GC0LVWE+5HW+UZSQ57dMmV05dTSratES27SdUH4iTmydibc7WsHqzZHw8pmN6R6j8N44X/if/AN1lUrXTnXbaHHKLwicOwDtbT/G9xr1o7WZSvOQ+GMgFo3sBiurbpgS8UTt9kP5pxbB0coSVr09sO67a0j/4yx2LxgOeysr2A6eix3/TQIv67yA4GWj0d3KCjbOM7DlaAJ4WWc45g57Fx4LPsOSedMxfqwbhs4IhXpZZyqCJk3A7gfNdNOonuJq8Fz0b2+HOcdqfhqrcq4hdOGHGDJ0FCb6fo4Vn87BFLfheH/0YIzz18ZWNY1goeWSsXWMPd6ad6RmfTfjtUeVcR4bPnoDrYyNYWxshXc+OYCkGi94MZK//xTjp67BvsjdWDh1FnbEtkxXVK1m1ZZgiW3y5bBFl2hpVzFJ3fbRcyIiekV3Q8eRpaQdjQ1La8SCqttGC8/OI2u94bS7Vv1obaZSjh7vHE66IgHpOK6l6rJOGYV6dCRTPRGZTy03jyrv+9MgiYR6r/29srk0O5jel4qp6+LfeI2D8h5tG2JC/TbcKTEacvT03FLq128FqZd18ooCh8+uULPJOl8dpxlt9eiDsFy1f+ZkR8nHwYisxwZRZYHu77RjjBW9seSiGmVFc1BfCy1Hzy79Rgnl+lx6nniJrje+PpfRCDTKjgnKFNr/iTftvCyjF9n36dyWD8harE8DNyWqNYwqbm4gZ8sPKbTEI5L/8wJ6w86bjuc0LIzGpnazasuwxDZ9Ok4o5s2UAgH4/Zd10W3abIxqm4Wfvj/ViAVVt40KpLp13Ai2NlOpEBJpawwd9Q6kCfuws4ohU3knDCeN3DHSRACJTpmrEwKJBLysU4LKsk4JeFlnybHK+7h7vwC52X+WfNsWou3w9dgwUlxdPgc5zocnofsHnXAvMhDNJ+sUQljTpg2qbBz53A/7MkdgQ+AcVBbo9sb83asxSPiqXvvBNh71s9AqH4TBx3sPksr1uTDtPhB9m0Kfy2gRqJ5eQ9Gwr+D3dgeYmNth+JIALB6oRPz1m6gqTgEK8WtQCBK6v4dR7fnHp8Hb72NQYRR2fS9r7tBrpi5m1RZiidXOtJLiXOTKAT1TUwBFSD68BZH3WsNacAcx97ri020LMEAqQ+zxQ4j8Ph39FvbExS/2IHV4IM4uN8XhLZG419oagjsxuNf1U2xbMAAmdSk3PwlH9h1G/JNU3LpTiN5+G7FqlHUdVbZCdJg4Hx6/T8XhnQew1m0+bEUAIMeF0Ot4a/ZMyE4H/rX2kPSEs5MR9gV+jMntIhGybDDaiQzgunoVFNVknUcQ9dINW77sg5S+G7HnYCrc/TppyKvW0L6SBzgb8S8cOpGFgSuG4v4/A3DqoSGGrwmG/zjePaR6+it27jiLAlMjKAru414h1DtKsk8g4ngG9IePg3u76pEIbaZgjd8rSMAbYLftuwGpKZCWlA7DkcvwD88eMCzQEM8Ywumv/4F/XpLDYcqXWDujF0yzriBg7VY8GPgldnp1wYNj27DvhhSmSENSuiFGLvsHPHtU3VJShZdJR7F9QxBudFuJH9b1Q+rp/dgddBLPBn+DiDnA3iUbcDLVBLqbNiB7mDemWiUiKvI7HClwR9QWd+j/1TqUtCmj5SHsMBHzxlf8BxOYmUhhbde5+gNSeQcXLmei1aCuKJOWSrqhW6ciRMdcAT4ZX/UTWqDUrPoZlud+ouGwWiyx43o3Q6xohnScIpZW9BCTdMx+ekFEyucJ9J1PbzI0G0QbYuWkvL+V3jXqRxvuKIm4FNo22JRcA2XE5T2hGzvHkJnEjsZuPU7no/xp0+Fkur/1XTLqt4H4w7fRYFNXCpRxVNU2SkRUFLOI7EvTcdxjOug1nvx5NSelBowgI/MPaN9j9Z+tytO9nuQdnUtxa3qTRNKdll/m0zNcZgR5ee6hVPlJmtVeTBYzT1C5rPNbGqojJttxX1FwSAVb5+7Z5CgRk8PnV6lc1hlN851MSSiQUGunmbTzt0w1qQAlJW+fTL7Hc4k4GYW4mZJOz1WkSdZZY/sSR3lnPyFbiQ25ffMTPczPpdhVTuWv7nkX6LO+79Da6/x7ufLuZhoolapNxxVdXEJdxWLquvSSxpSbZgOs5ni4tCAaZWpMbqGZ/IamXDoFei+iU3m1GG2rXdtXFD2tFRmPP1Rij3xKe0bqkZXPGSokoleHp5C56WSK4vW5lJN6hTa6GJDuh+GU38A6MBqfxjWrlpB7nGa94ULbEtUk414dI682EuqxIrZCij2bgt+Xks6Q7Y0bx1+kzmbVFmKJbbbZcVx8OOZ7TcHkOZvwWzs/HIs7g9X99SGycseqvV9jip0Ixc/SkSkvQqbsCVSG7dHD0R5txDYYMtENwyYsx+fjusLKfRX2fj0FdqJiPEvPhLwoE7IntY84c/cPIPBcJpIPrMeaNesQkqSHLuaPcEuTmrMaEjj6+GGkwR8I33EEWSoOyREnoO/pCc2yTiOYmFawdZoYVPuGJbIZi4BLN3Fq8wR0eBCBhcMHYEJQQuXB8OI4RFzujI/fMwKEHTBhjjtaJ4Uj6EzNrs4a2xdC6LZrB3OxBZzdXWFrYISeA96CsSwFKcUqPP3PVuwTjMRER347WFHHHnjDTH0lqbgYvEBX03XQbIC9UqwpHkBoMxULJpgh5uD34AW60bhtMxXD9Wsx2qpBWFmfC1HN+lyYdXRELzvTknRqw+rAeB1Q4k5wOPIW7ML87ureXQkEQCSq+DchRC3lNbc+ZtUWYolttnScqKcXdoXPrJ42k3bBu05JCPb3h55DT5gYC6DiKj7MBBCJKx7+LpySguHvrweHniYwFqjA1WHWkyL5LlKMneG/bgOqyz/r/oQQWk7GwklfY3TELoQlWODP6w7wXmyCmqd+CWDSbTg8xvcoT8fk5UO9rLMjXJcfROyHozDPfQ4il/phl8svWNaN/+TL0/txWpaFtNnTwcs6c9DKIAM/7DmE9aPnQq1Tq9b2rVg5IYSkgooUuB0XjwLj92BecTBLoP5jEtvOsBFx+D01BXK8U8Pu1poNsKkKNe7ZsngAwBCuc6fBdkgEwm/7wOPUQ3SZNB9i5cVajLaNqs9tYB0YLZ28KzsRXDwfexY7qL+PxZawaifEby/zUOY4Vr3AyzyCfrsOzRprdepvVm0JllitrxPikgLw0cgAiKYthY+HE9ro1PCk449GUsBHGBkgwrSlPvBwagONh1dAoKcLcVosLldWc+J2fFo1/XR1VABRycC6IVwWzIETxSLg41WQjZiFhss61+GLC+VTn3W7TcPuLZ6wKErAjYSSoVHVI0QdKoBv9A+IjCixdR44igMLe+PVuWCE3lbfC9avfUsRQCwSgXuUgpQ6zKsWWrvhA2c9yC+ewKmsmr4R1GKArUMbih1nYeaA+zgUEowfsnpior2oEYy29dLnNrgOjJZLUdJBbLv4FlZ+PrRkvEeJ4uIq97PYAW/3a4WcR2nldl1lGlJlOnAcOKB5A67GXzOratsS2/QlqZRlZsrqzzMVZGeiEZNvjramIqAwHY+yOCiKFWVrcQiEMsGmSoYz0THIN28L/qJ/wYMAAAUGSURBVPBHyOIUKFbwB1CZbbT0w/zvRIC0zzAMMryCTXM3IoZXc+LyttWI/tMcInWfrQQhLy8buXkKAIC4+2wscDNF5nMHTPG0KWlEBRQKAldh9TYpleBlnVzl8yr4tlAq+e5PaqXAqZWbUFnWWQCF7ptwfJNP+xTF7cV3gtH4qF3lVNKbMz7GINFN7A84g+qyzlral1SV41KpwEeqg97D3kXrlCjsPiLjO2l5Dp6/UqFAnl99nZSoK3w2LkPf4mNYvSgSlQW6SsjO+mNF4P/BSoMBlhfd1hRPaTmdMNXbFTlhW5HWfyz/5lcXo22layuAkaE+FJkyZHIAl3ULiTIVOEUx/3cdKXQU+cgvUqG4sBAA8QO3KhVUtVhs61QHRotEmfJvrNnzJwaPskTO3UQkJibg4r82Yd//KarYSPUxwmsSOtw4jwslM1OLE3/GxVfvw3uyjVbrUH+zagW0aYlt0hGn/CT67/ap1F0qIGHrwbQ46AzdrSw+paK4jfSOmZgMbZ3Jfd4W+nJCB9KxcKa5gf+hcN++ZCiyINe1URSXwU8giNv4DpmJDcnW2Z3mbfmSJnTQIQvnObTz0L5KttHsx1cobF4f0hNbkfvmn+juCyWlHVtCA9tKSCDWJ7OO/WhGSDzJ1ZpKK8DlUPwRf5riYECm/X0o4NxD4mWdn9Gk9fz6H052mSLWjiIrEUhkM4bWHbpG6ffOU5BvfzIRCki/pxd9ezKReFlnDIUuHUJthAKSdptM/kfi6XnWPhpn35uGefjSum/30J7N82lEL2fyDksgXtZ5kOY5mZD54OUUdbOC8ZTLoNiDi2mgsYAEeg40fe9VqirrrKl9fcLO0ek1LmQutqD3N5yj+xnxdHBWd5KI7cgzOI6Ik9GPK4ZSB2NL6jPSg2Yu9qahlpbUb9o3dCZV3eoJjnKuhZDvCAey7eFCk3yW0Yolc2j69Fm0aPt54gW6GgywhSl0TlM8ZffUGfJz8aNKAt0ajbbqr23+pS/I2UxKreydyMVrO633sCbbYQsp8tYL4p5E0vh2BtTJZRatjYqjhzEhNNNBQuJOHrT95wckb4w6MBqNxpiYwGWeJN8eeiRAmdmbAAFJeq2hGwo1ZlV6QbE7JtPoWd9S9PF/0ZKPRtNnJ2TUEj25Gs2qRC3CEtsipHbKl0/wpLgVbNpIgaIspOfowrK9UQ1TWpV4+eQJilvZgD88HTm6lmhvVMeRQS4fGenPoWtpjTrKP5se1Us8y9ZF2zZSFOc8RPITASztbdFYss76tW9luPwMyPKNYdVOAHm+DowM65BzUr5E+t2HeKHbAXadLVBdoKvBAFsHCuQF0DdQ48+th9GWy8/A4zwjWLU3RJG8ALoG+mVpAeWLJ8hCW7TXrM9tUB0YjUPzm1XLUckzkJwiR6sundFWV+sjG3Wk5VliW0QnxGAwGH8FZlZ9/Xldum8Gg8Fg/A1hnRCDwWAwtEaTZwHj4uKauggGg/E/SmFhIe7duwdjY2Nth/I/g4ODA/T11YzJ/kWadEyI4zgMGKDtufMMBoPBaCwiIiLg4ODQaOdjExMYDAaDoTXYmBCDwWAwtAbrhBgMBoOhNVgnxGAwGAytwTohBoPBYGgN1gkxGAwGQ2uwTojBYDAYWoN1QgwGg8HQGqwTYjAYDIbWYJ0Qg8FgMLQG64QYDAaDoTVYJ8RgMBgMrcE6IQaDwWBoDdYJMRgMBkNr/D+DeogdJGu0nAAAAABJRU5ErkJggg==)"
      ],
      "metadata": {
        "id": "3dFPN4MxVDUh"
      }
    },
    {
      "cell_type": "markdown",
      "source": [
        "(a). Did one model perform better than the other, either the one with the convolution module first or the one with the self attention module first? \n",
        "\n",
        "(b). In the original paper, the authors also tried to split the input into parallel branches of a multi-headed self attention module and a convolution module with their output concatenated, which yielded worse performance. What does this tell you about the best architecture design for the Conformer block?"
      ],
      "metadata": {
        "id": "rbBPO9TsE4cf"
      }
    }
  ]
}